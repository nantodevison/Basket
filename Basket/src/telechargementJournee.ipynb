{
 "cells": [
  {
   "cell_type": "markdown",
   "metadata": {},
   "source": [
    "# **Notebook de test de Téléchargement de donnée de basket depuis le site nba.com**"
   ]
  },
  {
   "cell_type": "markdown",
   "metadata": {},
   "source": [
    "Sommaire"
   ]
  },
  {
   "cell_type": "markdown",
   "metadata": {},
   "source": [
    "## Imports"
   ]
  },
  {
   "cell_type": "code",
   "execution_count": 1,
   "metadata": {},
   "outputs": [],
   "source": [
    "%load_ext autoreload\n",
    "%autoreload 2\n",
    "from TelechargementDonnees import (JourneeSiteNba, PasDeMatchError, JoueursSiteNba, \n",
    "                                   DriverFirefox, gererCookie, simplifierNomJoueur)\n",
    "import pandas as pd\n",
    "import numpy as np\n",
    "import time\n",
    "from collections import Counter\n",
    "\n",
    "from selenium import webdriver\n",
    "from selenium.webdriver.common.by import By\n",
    "from selenium.webdriver.support.ui import WebDriverWait\n",
    "from selenium.webdriver.support import expected_conditions as EC\n",
    "from selenium.common.exceptions import NoSuchElementException,StaleElementReferenceException,TimeoutException, ElementClickInterceptedException\n",
    "from selenium.webdriver.support.ui import Select"
   ]
  },
  {
   "cell_type": "markdown",
   "metadata": {},
   "source": [
    "## 1. Telecharger les données liees aux matchs depuis le site internet pour une ou plusieurs dates  \n",
    "1. on telecharge une journee\n",
    "1. on sauvegarder dans un json"
   ]
  },
  {
   "cell_type": "code",
   "execution_count": 10,
   "metadata": {},
   "outputs": [
    {
     "name": "stdout",
     "output_type": "stream",
     "text": [
      "0 https://www.nba.com/game/lac-vs-atl-0022000268/box-score#box-score\n",
      "1 https://www.nba.com/game/was-vs-hou-0022000269/box-score#box-score\n",
      "2 https://www.nba.com/game/nyk-vs-uta-0022000270/box-score#box-score\n"
     ]
    }
   ],
   "source": [
    "#telecharger une journee\n",
    "try : \n",
    "    journee=JourneeSiteNba('2021-01-26', dossierExportCsv=r'C:\\Users\\martin.schoreisz\\git\\Basket\\Basket\\data\\testUsa')\n",
    "    #exporter\n",
    "    #journee.saveCsv()\n",
    "except PasDeMatchError as e : \n",
    "    print(e)"
   ]
  },
  {
   "cell_type": "code",
   "execution_count": 14,
   "metadata": {},
   "outputs": [
    {
     "name": "stdout",
     "output_type": "stream",
     "text": [
      "2021-01-25\n",
      "0 https://www.nba.com/game/phi-vs-det-0022000257/box-score#box-score\n",
      "1 https://www.nba.com/game/tor-vs-ind-0022000258/box-score#box-score\n",
      "2 https://www.nba.com/game/cha-vs-orl-0022000259/box-score#box-score\n",
      "3 https://www.nba.com/game/mia-vs-bkn-0022000260/box-score#box-score\n",
      "4 https://www.nba.com/game/lal-vs-cle-0022000261/box-score#box-score\n",
      "5 https://www.nba.com/game/den-vs-dal-0022000265/box-score#box-score\n",
      "6 https://www.nba.com/game/bos-vs-chi-0022000262/box-score#box-score\n",
      "7 https://www.nba.com/game/min-vs-gsw-0022000266/box-score#box-score\n",
      "8 https://www.nba.com/game/okc-vs-por-0022000267/box-score#box-score\n",
      "2021-01-26\n",
      "0 https://www.nba.com/game/lac-vs-atl-0022000268/box-score#box-score\n",
      "1 https://www.nba.com/game/was-vs-hou-0022000269/box-score#box-score\n",
      "2 https://www.nba.com/game/nyk-vs-uta-0022000270/box-score#box-score\n"
     ]
    }
   ],
   "source": [
    "# pour un ensemble de journee : \n",
    "for j in ['2021-01-%02d' %n  for n in range(25,27)] : \n",
    "    print(j)\n",
    "    try :\n",
    "        journee=JourneeSiteNba(j,dossierExportCsv=r'C:\\Users\\martin.schoreisz\\git\\Basket\\Basket\\data\\testUsa')\n",
    "        journee.saveCsv()\n",
    "    except PasDeMatchError as e: \n",
    "        print(e)    \n",
    "        continue"
   ]
  },
  {
   "cell_type": "markdown",
   "metadata": {},
   "source": [
    "## 2. Telecharger les données liees aux joueurs depuis le site internet \n",
    "> Dans le cas ou on souhaite telecharger la totalite des donnees de la page des joueuers\n",
    "1. on se connecte à la page principale des joueurs\n",
    "1. on affiche l'integralite des donnees"
   ]
  },
  {
   "cell_type": "code",
   "execution_count": 62,
   "metadata": {},
   "outputs": [],
   "source": [
    "#creation de la classe\n",
    "pagejoueuer=EnsembleJoueursSiteNba()\n",
    "#acces aux donnees\n",
    "pagejoueuer.dfJoueurs\n",
    "#export des donnees\n",
    "pagejoueuer.dfJoueurs.reset_index(drop=True).to_json(r'C:\\Users\\martin.schoreisz\\Documents\\AffairesEnCours\\temp\\basket\\Joueurs_saison_2020-2021\\Joueurs_saison_2020-2021.json')"
   ]
  },
  {
   "cell_type": "markdown",
   "metadata": {},
   "source": [
    "## 3. Test donnees blessure sur site americain\n",
    "1. on se connecte à la page des blessures par equipes pour recuperer tous les jouuers blesses et mettre a jour la table existante \n",
    "1. on se connecte à l apage des joueurs blesses par jour on prend que le plus recent.\n",
    "\n",
    "Dans les deux cas on cherche les joueurs non presents dans la base des blesses et on fait des insert, ou on chreche les joueurs presents dans la base avec une date de guerison inconnues et on met a jour le type de blessures."
   ]
  },
  {
   "cell_type": "code",
   "execution_count": 2,
   "metadata": {},
   "outputs": [],
   "source": [
    "#se connecter au site\n",
    "driver=DriverFirefox('Mano').driver\n",
    "driver.get('https://www.cbssports.com/nba/injuries')\n",
    "time.sleep(5)"
   ]
  },
  {
   "cell_type": "code",
   "execution_count": 3,
   "metadata": {},
   "outputs": [],
   "source": [
    "#recuperer tous les joueurs blesse\n",
    "importPage=pd.read_html(driver.page_source)\n",
    "dfsInjuries=pd.concat([importPage[i] for i in range(len(importPage))])"
   ]
  },
  {
   "cell_type": "code",
   "execution_count": 4,
   "metadata": {},
   "outputs": [],
   "source": [
    "#mettre a jour les nom\n",
    "dfsInjuries['Player']=dfsInjuries.Player.apply(lambda x : ' '.join(x.split()[-2:]) if Counter(x)[' ']<=4 \n",
    "                         and x.split()[-1].lower() not in ('jr.', 'sr.', 'ii','iii','iv','v')  \n",
    "                         else ' '.join(x.split()[-3:])).tolist()\n",
    "dfsInjuries['nom_simple']=dfsInjuries.Player.apply(lambda x : simplifierNomJoueur(x))"
   ]
  },
  {
   "cell_type": "code",
   "execution_count": 5,
   "metadata": {},
   "outputs": [
    {
     "ename": "NameError",
     "evalue": "name 'ct' is not defined",
     "output_type": "error",
     "traceback": [
      "\u001b[1;31m---------------------------------------------------------------------------\u001b[0m",
      "\u001b[1;31mNameError\u001b[0m                                 Traceback (most recent call last)",
      "\u001b[1;32m<ipython-input-5-4b089c74cc20>\u001b[0m in \u001b[0;36m<module>\u001b[1;34m\u001b[0m\n\u001b[0;32m      1\u001b[0m \u001b[1;31m#récupérer les blesses en cours existants dans la base\u001b[0m\u001b[1;33m\u001b[0m\u001b[1;33m\u001b[0m\u001b[1;33m\u001b[0m\u001b[0m\n\u001b[1;32m----> 2\u001b[1;33m \u001b[1;32mwith\u001b[0m \u001b[0mct\u001b[0m\u001b[1;33m.\u001b[0m\u001b[0mConnexionBdd\u001b[0m\u001b[1;33m(\u001b[0m\u001b[1;34m'basket'\u001b[0m\u001b[1;33m)\u001b[0m \u001b[1;32mas\u001b[0m \u001b[0mc\u001b[0m \u001b[1;33m:\u001b[0m\u001b[1;33m\u001b[0m\u001b[1;33m\u001b[0m\u001b[0m\n\u001b[0m\u001b[0;32m      3\u001b[0m     rqtBlesseEnCoursBdd=\"\"\"SELECT b.*, j.nom, j.nom_simple\n\u001b[0;32m      4\u001b[0m                              \u001b[0mFROM\u001b[0m \u001b[0mdonnees_source\u001b[0m\u001b[1;33m.\u001b[0m\u001b[0mblessure\u001b[0m \u001b[0mb\u001b[0m \u001b[0mJOIN\u001b[0m \u001b[0mdonnees_source\u001b[0m\u001b[1;33m.\u001b[0m\u001b[0mjoueur\u001b[0m \u001b[0mj\u001b[0m \u001b[0mON\u001b[0m \u001b[0mb\u001b[0m\u001b[1;33m.\u001b[0m\u001b[0mid_joueur\u001b[0m\u001b[1;33m=\u001b[0m\u001b[0mj\u001b[0m\u001b[1;33m.\u001b[0m\u001b[0mid_joueur\u001b[0m\u001b[1;33m\u001b[0m\u001b[1;33m\u001b[0m\u001b[0m\n\u001b[0;32m      5\u001b[0m                              WHERE date_guerison IS NULL\"\"\"\n",
      "\u001b[1;31mNameError\u001b[0m: name 'ct' is not defined"
     ]
    }
   ],
   "source": [
    "#récupérer les blesses en cours existants dans la base\n",
    "with ct.ConnexionBdd('basket') as c :\n",
    "    rqtBlesseEnCoursBdd=\"\"\"SELECT b.*, j.nom, j.nom_simple\n",
    "                             FROM donnees_source.blessure b JOIN donnees_source.joueur j ON b.id_joueur=j.id_joueur\n",
    "                             WHERE date_guerison IS NULL\"\"\"\n",
    "    blesseEnCoursBdd=pd.read_sql(rqtBlesseEnCoursBdd, c.sqlAlchemyConn)\n",
    "#mettre à jour"
   ]
  },
  {
   "cell_type": "code",
   "execution_count": null,
   "metadata": {},
   "outputs": [],
   "source": []
  }
 ],
 "metadata": {
  "kernelspec": {
   "display_name": "Python 3",
   "language": "python",
   "name": "python3"
  },
  "language_info": {
   "codemirror_mode": {
    "name": "ipython",
    "version": 3
   },
   "file_extension": ".py",
   "mimetype": "text/x-python",
   "name": "python",
   "nbconvert_exporter": "python",
   "pygments_lexer": "ipython3",
   "version": "3.8.6"
  }
 },
 "nbformat": 4,
 "nbformat_minor": 4
}
