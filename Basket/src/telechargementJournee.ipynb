{
 "cells": [
  {
   "cell_type": "markdown",
   "metadata": {},
   "source": [
    "# **Notebook de test de Téléchargement de donnée de basket depuis le site nba.com**"
   ]
  },
  {
   "cell_type": "markdown",
   "metadata": {},
   "source": [
    "Sommaire"
   ]
  },
  {
   "cell_type": "markdown",
   "metadata": {},
   "source": [
    "## Imports"
   ]
  },
  {
   "cell_type": "code",
   "execution_count": 5,
   "metadata": {},
   "outputs": [
    {
     "name": "stdout",
     "output_type": "stream",
     "text": [
      "The autoreload extension is already loaded. To reload it, use:\n",
      "  %reload_ext autoreload\n"
     ]
    }
   ],
   "source": [
    "%load_ext autoreload\n",
    "%autoreload 2\n",
    "from TelechargementDonnees import CreationDriverFirefox, JourneeSiteNba, PasDeMatchError\n",
    "import os\n",
    "import pandas as pd\n",
    "import numpy as np\n",
    "from copy import deepcopy"
   ]
  },
  {
   "cell_type": "markdown",
   "metadata": {},
   "source": [
    "## Telecharger les données liees aux matchs depuis le site internet pour une ou plusieurs dates  \n",
    "1. on telecharge une journee\n",
    "1. on sauvegarder dans un json"
   ]
  },
  {
   "cell_type": "code",
   "execution_count": 4,
   "metadata": {},
   "outputs": [],
   "source": [
    "#telecharger une journee\n",
    "try : \n",
    "    journee=JourneeSiteNba('2021-01-01')\n",
    "except PasDeMatchError as e : \n",
    "    print(e)\n",
    "#exporter\n",
    "journee.saveCsv()"
   ]
  },
  {
   "cell_type": "code",
   "execution_count": null,
   "metadata": {},
   "outputs": [],
   "source": [
    "# pour un ensemeble de journee : \n",
    "for j in [f'2020-12-{d}' for d in range(27,32)] : \n",
    "    print(j)\n",
    "    try :\n",
    "        journee=JourneeSiteNba(j)\n",
    "        journee.saveCsv()\n",
    "    except PasDeMatchError as e: \n",
    "        print(e)    \n",
    "        continue"
   ]
  },
  {
   "cell_type": "markdown",
   "metadata": {},
   "source": [
    "## Telecharger les données liees aux joueurs depuis le site internet \n",
    "1. on se connecte à la page principale des joueurs\n",
    "1. on passe de lettre en lettre pour sauvegarder les donnees"
   ]
  },
  {
   "cell_type": "code",
   "execution_count": 1,
   "metadata": {},
   "outputs": [],
   "source": [
    "from selenium import webdriver\n",
    "from selenium.webdriver.common.by import By\n",
    "from selenium.webdriver.support.ui import WebDriverWait\n",
    "from selenium.webdriver.support import expected_conditions as EC\n",
    "from selenium.common.exceptions import NoSuchElementException,StaleElementReferenceException,TimeoutException"
   ]
  },
  {
   "cell_type": "code",
   "execution_count": 26,
   "metadata": {},
   "outputs": [],
   "source": [
    "from TelechargementDonnees import CreationDriverFirefox,urlSiteNbaJoueur\n",
    "import time"
   ]
  },
  {
   "cell_type": "code",
   "execution_count": 11,
   "metadata": {},
   "outputs": [],
   "source": [
    "#creer driver et aller sur la page des joueurs\n",
    "driver=CreationDriverFirefox()\n",
    "driver.get(urlSiteNbaJoueur)"
   ]
  },
  {
   "cell_type": "code",
   "execution_count": 23,
   "metadata": {},
   "outputs": [],
   "source": [
    "#atteindre l'entite parent des initiales\n",
    "ignored_exceptions=(NoSuchElementException,StaleElementReferenceException,)\n",
    "containerBouttonLettre=WebDriverWait(driver, 10,ignored_exceptions=ignored_exceptions).until(EC.element_to_be_clickable((\n",
    "                    By.XPATH, \"//div[@class='hidden-sm col-sm-9 col-lg-10 letters-wrap']\")))"
   ]
  },
  {
   "cell_type": "code",
   "execution_count": 24,
   "metadata": {},
   "outputs": [],
   "source": [
    "#liste des bouttons lettres\n",
    "listBouttonLettre=WebDriverWait(containerBouttonLettre, 10,ignored_exceptions=ignored_exceptions).until(EC.presence_of_all_elements_located((\n",
    "                    By.XPATH, \".//*\")))"
   ]
  },
  {
   "cell_type": "code",
   "execution_count": 33,
   "metadata": {},
   "outputs": [],
   "source": [
    "#creer la df des Joueurs\n",
    "dico={}\n",
    "for i,e in enumerate(listBouttonLettre) : \n",
    "    e.click()\n",
    "    time.sleep(5)\n",
    "    dico[i]=pd.read_html(driver.page_source)\n",
    "dfJoueurs=pd.concat([v[0] for v in dico.values()])"
   ]
  },
  {
   "cell_type": "code",
   "execution_count": 36,
   "metadata": {},
   "outputs": [],
   "source": [
    "#mettre en forme la df\n",
    "dfJoueursForme=dfJoueurs.drop('Unnamed: 1',axis=1).rename(\n",
    "    columns={'Joueur':'nom','Équipe':'equipe','POS':'position','Taille':'taille',\n",
    "             'OUEST':'poids', 'EXP':'experience','Pays':'pays'})\n",
    "dfJoueursForme['poids']=dfJoueursForme.poids.apply(lambda x : float(x[:-3]))\n",
    "dfJoueursForme['date_entree_nba']=dfJoueursForme['experience'].apply(lambda x : pd.to_datetime('2020-10-01') - \n",
    "                                  pd.to_timedelta(x*365.25, unit='D'))"
   ]
  },
  {
   "cell_type": "code",
   "execution_count": 42,
   "metadata": {},
   "outputs": [
    {
     "data": {
      "text/plain": [
       "array([0, 2, 7, 3, 14, 1, 10, 6, 17, 16, 12, 8, 4, 9, 5, 13, 11, 15],\n",
       "      dtype=object)"
      ]
     },
     "execution_count": 42,
     "metadata": {},
     "output_type": "execute_result"
    }
   ],
   "source": [
    "dfJoueursForme['experience'].unique()"
   ]
  },
  {
   "cell_type": "code",
   "execution_count": 50,
   "metadata": {},
   "outputs": [],
   "source": [
    "dfJoueursForme['date_entree_nba']=dfJoueursForme['experience'].apply(lambda x : pd.to_datetime('2020-10-01') - \n",
    "                                  pd.to_timedelta(x*365.25, unit='D'))"
   ]
  },
  {
   "cell_type": "code",
   "execution_count": null,
   "metadata": {},
   "outputs": [],
   "source": []
  }
 ],
 "metadata": {
  "kernelspec": {
   "display_name": "Python 3",
   "language": "python",
   "name": "python3"
  },
  "language_info": {
   "codemirror_mode": {
    "name": "ipython",
    "version": 3
   },
   "file_extension": ".py",
   "mimetype": "text/x-python",
   "name": "python",
   "nbconvert_exporter": "python",
   "pygments_lexer": "ipython3",
   "version": "3.8.6"
  }
 },
 "nbformat": 4,
 "nbformat_minor": 4
}
