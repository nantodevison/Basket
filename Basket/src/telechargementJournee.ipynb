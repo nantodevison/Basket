{
 "cells": [
  {
   "cell_type": "markdown",
   "metadata": {},
   "source": [
    "# **Notebook de test de Téléchargement de donnée de basket depuis le site nba.com**"
   ]
  },
  {
   "cell_type": "markdown",
   "metadata": {},
   "source": [
    "Sommaire"
   ]
  },
  {
   "cell_type": "markdown",
   "metadata": {},
   "source": [
    "## Imports"
   ]
  },
  {
   "cell_type": "code",
   "execution_count": 3,
   "metadata": {},
   "outputs": [
    {
     "name": "stdout",
     "output_type": "stream",
     "text": [
      "The autoreload extension is already loaded. To reload it, use:\n",
      "  %reload_ext autoreload\n"
     ]
    }
   ],
   "source": [
    "%load_ext autoreload\n",
    "%autoreload 2\n",
    "\n",
    "import sys, os, re, time #c'est pas propre mais pour le moment pour importer mes modules perso dans le notebook je ne sais pas faire\n",
    "sys.path.append(r'C:\\Users\\martin.schoreisz\\git\\Outils\\Outils\\Martin_Perso')\n",
    "import Connexion_Transfert as ct\n",
    "from TelechargementDonnees import (JourneeSiteNba, PasDeMatchError, JoueursSiteNba, \n",
    "                                   DriverFirefox, gererCookieNba, gererCookieTtfl, \n",
    "                                   simplifierNomJoueur, Blessures, Calendrier)\n",
    "import pandas as pd\n",
    "import numpy as np\n",
    "import time\n",
    "from collections import Counter\n",
    "from datetime import date, datetime\n",
    "\n",
    "from selenium import webdriver\n",
    "from selenium.webdriver.common.by import By\n",
    "from selenium.webdriver.support.ui import WebDriverWait\n",
    "from selenium.webdriver.support import expected_conditions as EC\n",
    "from selenium.common.exceptions import NoSuchElementException,StaleElementReferenceException,TimeoutException, ElementClickInterceptedException\n",
    "from selenium.webdriver.support.ui import Select"
   ]
  },
  {
   "cell_type": "markdown",
   "metadata": {},
   "source": [
    "## 1. Telecharger les données liees aux matchs depuis le site internet pour une ou plusieurs dates  \n",
    "1. on telecharge une journee\n",
    "1. on sauvegarder dans un json"
   ]
  },
  {
   "cell_type": "code",
   "execution_count": 2,
   "metadata": {},
   "outputs": [
    {
     "name": "stdout",
     "output_type": "stream",
     "text": [
      "0 https://www.nba.com/game/cha-vs-was-0022000718/box-score#box-score\n",
      "1 https://www.nba.com/game/phi-vs-den-0022000719/box-score#box-score\n",
      "2 https://www.nba.com/game/atl-vs-phx-0022000171/box-score#box-score\n",
      "3 https://www.nba.com/game/orl-vs-lac-0022000720/box-score#box-score\n"
     ]
    }
   ],
   "source": [
    "#telecharger une journee\n",
    "try : \n",
    "    journee=JourneeSiteNba('2021-03-30', dossierExportCsv=r'C:\\Users\\martin.schoreisz\\git\\Basket\\Basket\\data\\testUsa')\n",
    "    #exporter\n",
    "    #journee.saveCsv()\n",
    "except PasDeMatchError as e : \n",
    "    print(e)"
   ]
  },
  {
   "cell_type": "code",
   "execution_count": null,
   "metadata": {},
   "outputs": [],
   "source": [
    "# pour un ensemble de journee : \n",
    "for j in ['2021-01-%02d' %n  for n in range(25,27)] : \n",
    "    print(j)\n",
    "    try :\n",
    "        journee=JourneeSiteNba(j,dossierExportCsv=r'C:\\Users\\martin.schoreisz\\git\\Basket\\Basket\\data\\testUsa')\n",
    "        journee.saveCsv()\n",
    "    except PasDeMatchError as e: \n",
    "        print(e)    \n",
    "        continue"
   ]
  },
  {
   "cell_type": "markdown",
   "metadata": {},
   "source": [
    "## 2. Telecharger les données liees aux joueurs depuis le site internet \n",
    "> Dans le cas ou on souhaite telecharger la totalite des donnees de la page des joueuers\n",
    "1. on se connecte à la page principale des joueurs\n",
    "1. on affiche l'integralite des donnees"
   ]
  },
  {
   "cell_type": "code",
   "execution_count": 62,
   "metadata": {},
   "outputs": [],
   "source": [
    "#creation de la classe\n",
    "pagejoueuer=EnsembleJoueursSiteNba()\n",
    "#acces aux donnees\n",
    "pagejoueuer.dfJoueurs\n",
    "#export des donnees\n",
    "pagejoueuer.dfJoueurs.reset_index(drop=True).to_json(r'C:\\Users\\martin.schoreisz\\Documents\\AffairesEnCours\\temp\\basket\\Joueurs_saison_2020-2021\\Joueurs_saison_2020-2021.json')"
   ]
  },
  {
   "cell_type": "markdown",
   "metadata": {},
   "source": [
    "## 3. Creation calendrier"
   ]
  },
  {
   "cell_type": "code",
   "execution_count": 4,
   "metadata": {},
   "outputs": [],
   "source": [
    "cal=Calendrier(1,'2021-04-13',2)"
   ]
  },
  {
   "cell_type": "code",
   "execution_count": 5,
   "metadata": {},
   "outputs": [],
   "source": [
    "cal.telechargerCalendrier()"
   ]
  },
  {
   "cell_type": "code",
   "execution_count": 6,
   "metadata": {},
   "outputs": [
    {
     "data": {
      "text/html": [
       "<div>\n",
       "<style scoped>\n",
       "    .dataframe tbody tr th:only-of-type {\n",
       "        vertical-align: middle;\n",
       "    }\n",
       "\n",
       "    .dataframe tbody tr th {\n",
       "        vertical-align: top;\n",
       "    }\n",
       "\n",
       "    .dataframe thead th {\n",
       "        text-align: right;\n",
       "    }\n",
       "</style>\n",
       "<table border=\"1\" class=\"dataframe\">\n",
       "  <thead>\n",
       "    <tr style=\"text-align: right;\">\n",
       "      <th></th>\n",
       "      <th>equipe_exterieure</th>\n",
       "      <th>equipe_domicile</th>\n",
       "      <th>date_match</th>\n",
       "      <th>id_saison</th>\n",
       "    </tr>\n",
       "  </thead>\n",
       "  <tbody>\n",
       "    <tr>\n",
       "      <th>0</th>\n",
       "      <td>BKN</td>\n",
       "      <td>MIN</td>\n",
       "      <td>2021-04-13</td>\n",
       "      <td>1</td>\n",
       "    </tr>\n",
       "    <tr>\n",
       "      <th>1</th>\n",
       "      <td>LAC</td>\n",
       "      <td>IND</td>\n",
       "      <td>2021-04-13</td>\n",
       "      <td>1</td>\n",
       "    </tr>\n",
       "    <tr>\n",
       "      <th>2</th>\n",
       "      <td>ATL</td>\n",
       "      <td>TOR</td>\n",
       "      <td>2021-04-13</td>\n",
       "      <td>1</td>\n",
       "    </tr>\n",
       "    <tr>\n",
       "      <th>3</th>\n",
       "      <td>LAL</td>\n",
       "      <td>CHA</td>\n",
       "      <td>2021-04-13</td>\n",
       "      <td>1</td>\n",
       "    </tr>\n",
       "    <tr>\n",
       "      <th>4</th>\n",
       "      <td>OKC</td>\n",
       "      <td>UTA</td>\n",
       "      <td>2021-04-13</td>\n",
       "      <td>1</td>\n",
       "    </tr>\n",
       "    <tr>\n",
       "      <th>5</th>\n",
       "      <td>MIA</td>\n",
       "      <td>PHX</td>\n",
       "      <td>2021-04-13</td>\n",
       "      <td>1</td>\n",
       "    </tr>\n",
       "    <tr>\n",
       "      <th>6</th>\n",
       "      <td>BOS</td>\n",
       "      <td>POR</td>\n",
       "      <td>2021-04-13</td>\n",
       "      <td>1</td>\n",
       "    </tr>\n",
       "    <tr>\n",
       "      <th>0</th>\n",
       "      <td>MIL</td>\n",
       "      <td>MIN</td>\n",
       "      <td>2021-04-14</td>\n",
       "      <td>1</td>\n",
       "    </tr>\n",
       "    <tr>\n",
       "      <th>1</th>\n",
       "      <td>CLE</td>\n",
       "      <td>CHA</td>\n",
       "      <td>2021-04-14</td>\n",
       "      <td>1</td>\n",
       "    </tr>\n",
       "    <tr>\n",
       "      <th>2</th>\n",
       "      <td>BKN</td>\n",
       "      <td>PHI</td>\n",
       "      <td>2021-04-14</td>\n",
       "      <td>1</td>\n",
       "    </tr>\n",
       "    <tr>\n",
       "      <th>3</th>\n",
       "      <td>SAS</td>\n",
       "      <td>TOR</td>\n",
       "      <td>2021-04-14</td>\n",
       "      <td>1</td>\n",
       "    </tr>\n",
       "    <tr>\n",
       "      <th>4</th>\n",
       "      <td>LAC</td>\n",
       "      <td>DET</td>\n",
       "      <td>2021-04-14</td>\n",
       "      <td>1</td>\n",
       "    </tr>\n",
       "    <tr>\n",
       "      <th>5</th>\n",
       "      <td>ORL</td>\n",
       "      <td>CHI</td>\n",
       "      <td>2021-04-14</td>\n",
       "      <td>1</td>\n",
       "    </tr>\n",
       "    <tr>\n",
       "      <th>6</th>\n",
       "      <td>NYK</td>\n",
       "      <td>NOP</td>\n",
       "      <td>2021-04-14</td>\n",
       "      <td>1</td>\n",
       "    </tr>\n",
       "    <tr>\n",
       "      <th>7</th>\n",
       "      <td>IND</td>\n",
       "      <td>HOU</td>\n",
       "      <td>2021-04-14</td>\n",
       "      <td>1</td>\n",
       "    </tr>\n",
       "    <tr>\n",
       "      <th>8</th>\n",
       "      <td>GSW</td>\n",
       "      <td>OKC</td>\n",
       "      <td>2021-04-14</td>\n",
       "      <td>1</td>\n",
       "    </tr>\n",
       "    <tr>\n",
       "      <th>9</th>\n",
       "      <td>DAL</td>\n",
       "      <td>MEM</td>\n",
       "      <td>2021-04-14</td>\n",
       "      <td>1</td>\n",
       "    </tr>\n",
       "    <tr>\n",
       "      <th>10</th>\n",
       "      <td>MIA</td>\n",
       "      <td>DEN</td>\n",
       "      <td>2021-04-14</td>\n",
       "      <td>1</td>\n",
       "    </tr>\n",
       "    <tr>\n",
       "      <th>11</th>\n",
       "      <td>WAS</td>\n",
       "      <td>SAC</td>\n",
       "      <td>2021-04-14</td>\n",
       "      <td>1</td>\n",
       "    </tr>\n",
       "  </tbody>\n",
       "</table>\n",
       "</div>"
      ],
      "text/plain": [
       "   equipe_exterieure equipe_domicile  date_match  id_saison\n",
       "0                BKN             MIN  2021-04-13          1\n",
       "1                LAC             IND  2021-04-13          1\n",
       "2                ATL             TOR  2021-04-13          1\n",
       "3                LAL             CHA  2021-04-13          1\n",
       "4                OKC             UTA  2021-04-13          1\n",
       "5                MIA             PHX  2021-04-13          1\n",
       "6                BOS             POR  2021-04-13          1\n",
       "0                MIL             MIN  2021-04-14          1\n",
       "1                CLE             CHA  2021-04-14          1\n",
       "2                BKN             PHI  2021-04-14          1\n",
       "3                SAS             TOR  2021-04-14          1\n",
       "4                LAC             DET  2021-04-14          1\n",
       "5                ORL             CHI  2021-04-14          1\n",
       "6                NYK             NOP  2021-04-14          1\n",
       "7                IND             HOU  2021-04-14          1\n",
       "8                GSW             OKC  2021-04-14          1\n",
       "9                DAL             MEM  2021-04-14          1\n",
       "10               MIA             DEN  2021-04-14          1\n",
       "11               WAS             SAC  2021-04-14          1"
      ]
     },
     "execution_count": 6,
     "metadata": {},
     "output_type": "execute_result"
    }
   ],
   "source": [
    "cal.calendrier"
   ]
  },
  {
   "cell_type": "markdown",
   "metadata": {},
   "source": [
    "# TESTS"
   ]
  },
  {
   "cell_type": "code",
   "execution_count": 14,
   "metadata": {},
   "outputs": [],
   "source": [
    "with ct.ConnexionBdd('basket', 'boulot') as c:\n",
    "    resultDateMatchRecent=c.sqlAlchemyConn.execute('SELECT max(date_match) FROM donnees_source.match')\n",
    "    resultDateCalendrierRecent=c.sqlAlchemyConn.execute('SELECT max(date_match), max(id_saison) FROM donnees_source.calendrier')\n",
    "    r=resultDateCalendrierRecent.fetchall()[0]"
   ]
  },
  {
   "cell_type": "code",
   "execution_count": 15,
   "metadata": {},
   "outputs": [
    {
     "data": {
      "text/plain": [
       "datetime.date(2021, 4, 12)"
      ]
     },
     "execution_count": 15,
     "metadata": {},
     "output_type": "execute_result"
    }
   ],
   "source": [
    "r[0]"
   ]
  },
  {
   "cell_type": "code",
   "execution_count": null,
   "metadata": {},
   "outputs": [],
   "source": []
  },
  {
   "cell_type": "code",
   "execution_count": null,
   "metadata": {},
   "outputs": [],
   "source": []
  }
 ],
 "metadata": {
  "kernelspec": {
   "display_name": "Python 3",
   "language": "python",
   "name": "python3"
  },
  "language_info": {
   "codemirror_mode": {
    "name": "ipython",
    "version": 3
   },
   "file_extension": ".py",
   "mimetype": "text/x-python",
   "name": "python",
   "nbconvert_exporter": "python",
   "pygments_lexer": "ipython3",
   "version": "3.8.6"
  }
 },
 "nbformat": 4,
 "nbformat_minor": 4
}
