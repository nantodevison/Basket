{
 "cells": [
  {
   "cell_type": "markdown",
   "metadata": {},
   "source": [
    "# **Notebook de test de Téléchargement de donnée de basket depuis le site nba.com**"
   ]
  },
  {
   "cell_type": "markdown",
   "metadata": {},
   "source": [
    "Sommaire"
   ]
  },
  {
   "cell_type": "markdown",
   "metadata": {},
   "source": [
    "## Imports"
   ]
  },
  {
   "cell_type": "code",
   "execution_count": 9,
   "metadata": {},
   "outputs": [
    {
     "name": "stdout",
     "output_type": "stream",
     "text": [
      "The autoreload extension is already loaded. To reload it, use:\n",
      "  %reload_ext autoreload\n"
     ]
    }
   ],
   "source": [
    "%load_ext autoreload\n",
    "%autoreload 2\n",
    "from TelechargementDonnees import JourneeSiteNba, PasDeMatchError, JoueursSiteNba, DriverFirefox\n",
    "import pandas as pd\n",
    "import numpy as np\n",
    "\n",
    "from selenium import webdriver\n",
    "from selenium.webdriver.common.by import By\n",
    "from selenium.webdriver.support.ui import WebDriverWait\n",
    "from selenium.webdriver.support import expected_conditions as EC\n",
    "from selenium.common.exceptions import NoSuchElementException,StaleElementReferenceException,TimeoutException, ElementClickInterceptedException\n",
    "from selenium.webdriver.support.ui import Select"
   ]
  },
  {
   "cell_type": "markdown",
   "metadata": {},
   "source": [
    "## 1. Telecharger les données liees aux matchs depuis le site internet pour une ou plusieurs dates  \n",
    "1. on telecharge une journee\n",
    "1. on sauvegarder dans un json"
   ]
  },
  {
   "cell_type": "code",
   "execution_count": null,
   "metadata": {},
   "outputs": [],
   "source": [
    "#telecharger une journee\n",
    "try : \n",
    "    journee=JourneeSiteNba('2020-12-28')\n",
    "except PasDeMatchError as e : \n",
    "    print(e)\n",
    "#exporter\n",
    "journee.saveCsv()"
   ]
  },
  {
   "cell_type": "code",
   "execution_count": 11,
   "metadata": {},
   "outputs": [
    {
     "name": "stdout",
     "output_type": "stream",
     "text": [
      "2021-01-04\n",
      "0 https://fr.global.nba.com/boxscore/#!/0022000093\n",
      "1 https://fr.global.nba.com/boxscore/#!/0022000094\n",
      "2 https://fr.global.nba.com/boxscore/#!/0022000095\n",
      "3 https://fr.global.nba.com/boxscore/#!/0022000096\n",
      "4 https://fr.global.nba.com/boxscore/#!/0022000097\n",
      "5 https://fr.global.nba.com/boxscore/#!/0022000098\n",
      "6 https://fr.global.nba.com/boxscore/#!/0022000099\n",
      "7 https://fr.global.nba.com/boxscore/#!/0022000100\n",
      "8 https://fr.global.nba.com/boxscore/#!/0022000101\n",
      "2021-01-05\n",
      "0 https://fr.global.nba.com/boxscore/#!/0022000102\n",
      "1 https://fr.global.nba.com/boxscore/#!/0022000103\n",
      "2 https://fr.global.nba.com/boxscore/#!/0022000104\n",
      "3 https://fr.global.nba.com/boxscore/#!/0022000105\n",
      "4 https://fr.global.nba.com/boxscore/#!/0022000106\n",
      "2021-01-06\n",
      "0 https://fr.global.nba.com/boxscore/#!/0022000107\n",
      "1 https://fr.global.nba.com/boxscore/#!/0022000108\n",
      "2 https://fr.global.nba.com/boxscore/#!/0022000109\n",
      "3 https://fr.global.nba.com/boxscore/#!/0022000110\n",
      "4 https://fr.global.nba.com/boxscore/#!/0022000111\n",
      "5 https://fr.global.nba.com/boxscore/#!/0022000112\n",
      "6 https://fr.global.nba.com/boxscore/#!/0022000113\n",
      "7 https://fr.global.nba.com/boxscore/#!/0022000114\n",
      "8 https://fr.global.nba.com/boxscore/#!/0022000115\n",
      "9 https://fr.global.nba.com/boxscore/#!/0022000116\n",
      "10 https://fr.global.nba.com/boxscore/#!/0022000117\n",
      "2021-01-07\n",
      "0 https://fr.global.nba.com/boxscore/#!/0022000118\n",
      "1 https://fr.global.nba.com/boxscore/#!/0022000119\n",
      "2 https://fr.global.nba.com/boxscore/#!/0022000120\n",
      "3 https://fr.global.nba.com/boxscore/#!/0022000121\n",
      "4 https://fr.global.nba.com/boxscore/#!/0022000122\n",
      "2021-01-08\n",
      "0 https://fr.global.nba.com/boxscore/#!/0022000123\n",
      "1 https://fr.global.nba.com/boxscore/#!/0022000124\n",
      "2 https://fr.global.nba.com/boxscore/#!/0022000125\n",
      "3 https://fr.global.nba.com/boxscore/#!/0022000126\n",
      "4 https://fr.global.nba.com/boxscore/#!/0022000127\n",
      "5 https://fr.global.nba.com/boxscore/#!/0022000128\n",
      "6 https://fr.global.nba.com/boxscore/#!/0022000129\n",
      "7 https://fr.global.nba.com/boxscore/#!/0022000130\n",
      "8 https://fr.global.nba.com/boxscore/#!/0022000131\n",
      "9 https://fr.global.nba.com/boxscore/#!/0022000132\n",
      "2021-01-09\n",
      "0 https://fr.global.nba.com/boxscore/#!/0022000133\n",
      "1 https://fr.global.nba.com/boxscore/#!/0022000134\n",
      "2 https://fr.global.nba.com/boxscore/#!/0022000135\n",
      "3 https://fr.global.nba.com/boxscore/#!/0022000136\n",
      "4 https://fr.global.nba.com/boxscore/#!/0022000137\n",
      "5 https://fr.global.nba.com/boxscore/#!/0022000138\n",
      "6 https://fr.global.nba.com/boxscore/#!/0022000139\n",
      "7 https://fr.global.nba.com/boxscore/#!/0022000140\n",
      "2021-01-10\n",
      "0 https://fr.global.nba.com/boxscore/#!/0022000141\n",
      "1 https://fr.global.nba.com/boxscore/#!/0022000142\n",
      "2 https://fr.global.nba.com/boxscore/#!/0022000143\n",
      "3 https://fr.global.nba.com/boxscore/#!/0022000144\n",
      "4 https://fr.global.nba.com/boxscore/#!/0022000146\n",
      "5 https://fr.global.nba.com/boxscore/#!/0022000147\n",
      "6 https://fr.global.nba.com/boxscore/#!/0022000148\n"
     ]
    }
   ],
   "source": [
    "# pour un ensemeble de journee : \n",
    "for j in ['2021-01-%02d' %n  for n in range(4,11)] : \n",
    "    print(j)\n",
    "    try :\n",
    "        journee=JourneeSiteNba(j)\n",
    "        journee.saveCsv()\n",
    "    except PasDeMatchError as e: \n",
    "        print(e)    \n",
    "        continue"
   ]
  },
  {
   "cell_type": "markdown",
   "metadata": {},
   "source": [
    "## 2. Telecharger les données liees aux joueurs depuis le site internet \n",
    "1. on se connecte à la page principale des joueurs\n",
    "1. on passe de lettre en lettre pour sauvegarder les donnees"
   ]
  },
  {
   "cell_type": "code",
   "execution_count": 62,
   "metadata": {},
   "outputs": [],
   "source": [
    "#creation de la classe\n",
    "pagejoueuer=JoueursSiteNba()\n",
    "#acces aux donnees\n",
    "pagejoueuer.dfJoueurs\n",
    "#export des donnees\n",
    "pagejoueuer.dfJoueurs.reset_index(drop=True).to_json(r'C:\\Users\\martin.schoreisz\\Documents\\AffairesEnCours\\temp\\basket\\Joueurs_saison_2020-2021\\Joueurs_saison_2020-2021.json')"
   ]
  },
  {
   "cell_type": "markdown",
   "metadata": {},
   "source": [
    "## 3. Test donnees match sur site americain\n",
    "1. on se connecte à la page des matchs en fonction de la date\n",
    "1. on regarde pour telecharger les données\n",
    "1. on cherche les joueurs\n",
    "1. on recupere les joueurs inconnus lors de chaque match"
   ]
  },
  {
   "cell_type": "code",
   "execution_count": 4,
   "metadata": {},
   "outputs": [],
   "source": [
    "driver=DriverFirefox().driver"
   ]
  },
  {
   "cell_type": "code",
   "execution_count": 6,
   "metadata": {},
   "outputs": [],
   "source": [
    "driver.get('https://www.nba.com/games')"
   ]
  },
  {
   "cell_type": "code",
   "execution_count": 23,
   "metadata": {},
   "outputs": [],
   "source": [
    "#par date \n",
    "date='2021-01-02'\n",
    "adresseJournee=f'https://www.nba.com/games?date={date}'\n",
    "driver.get(adresseJournee)"
   ]
  },
  {
   "cell_type": "code",
   "execution_count": 16,
   "metadata": {},
   "outputs": [],
   "source": [
    "#recuperer les elements a cliquer\n",
    "try :\n",
    "    #containerScore=WebDriverWait(self.driver, 20).until(EC.presence_of_element_located((By.XPATH,f\"//div[@class='snapshot-footer']\"))) #si besoin que la ligne dessous ne fonctionne pas\n",
    "    elementsScore=WebDriverWait(driver, 20).until(EC.presence_of_all_elements_located((By.LINK_TEXT, 'BOX SCORE')))\n",
    "except TimeoutException :\n",
    "    raise PasDeMatchError(dateJournee)"
   ]
  },
  {
   "cell_type": "code",
   "execution_count": 18,
   "metadata": {},
   "outputs": [],
   "source": [
    "#parcourir les elements\n",
    "for e in elementsScore : \n",
    "    e.click()\n",
    "    break"
   ]
  },
  {
   "cell_type": "code",
   "execution_count": 21,
   "metadata": {},
   "outputs": [],
   "source": [
    "#une fois sur l'onglet Box Score\n",
    "dfsEquipes=pd.read_html(driver.page_source)\n",
    "#ensuite avec un for on peut iterer sur les deux df, les mettres en forme (il faut supprimer la derniere lettre du starting 5), trouver les DNP et blesses, etc..."
   ]
  },
  {
   "cell_type": "code",
   "execution_count": 28,
   "metadata": {},
   "outputs": [],
   "source": [
    "#passer sur l'onglet summary : \n",
    "elementSummary=WebDriverWait(driver, 20).until(EC.presence_of_element_located((By.LINK_TEXT, 'Summary')))\n",
    "elementSummary.click()"
   ]
  },
  {
   "cell_type": "code",
   "execution_count": 29,
   "metadata": {},
   "outputs": [],
   "source": [
    "#la df du match\n",
    "dfMatch=pd.read_html(driver.page_source)[0]\n",
    "#ensuite on peut la mettre en forme comme la partie du site france\n",
    "#et ensuite on exporte les dfs commme avant"
   ]
  },
  {
   "cell_type": "code",
   "execution_count": 31,
   "metadata": {},
   "outputs": [
    {
     "data": {
      "text/html": [
       "<div>\n",
       "<style scoped>\n",
       "    .dataframe tbody tr th:only-of-type {\n",
       "        vertical-align: middle;\n",
       "    }\n",
       "\n",
       "    .dataframe tbody tr th {\n",
       "        vertical-align: top;\n",
       "    }\n",
       "\n",
       "    .dataframe thead th {\n",
       "        text-align: right;\n",
       "    }\n",
       "</style>\n",
       "<table border=\"1\" class=\"dataframe\">\n",
       "  <thead>\n",
       "    <tr style=\"text-align: right;\">\n",
       "      <th></th>\n",
       "      <th>Unnamed: 0</th>\n",
       "      <th>Q1</th>\n",
       "      <th>Q2</th>\n",
       "      <th>Q3</th>\n",
       "      <th>Q4</th>\n",
       "      <th>FINAL</th>\n",
       "    </tr>\n",
       "  </thead>\n",
       "  <tbody>\n",
       "    <tr>\n",
       "      <th>0</th>\n",
       "      <td>SAC</td>\n",
       "      <td>36</td>\n",
       "      <td>28</td>\n",
       "      <td>17</td>\n",
       "      <td>13</td>\n",
       "      <td>94</td>\n",
       "    </tr>\n",
       "    <tr>\n",
       "      <th>1</th>\n",
       "      <td>HOU</td>\n",
       "      <td>36</td>\n",
       "      <td>28</td>\n",
       "      <td>19</td>\n",
       "      <td>19</td>\n",
       "      <td>102</td>\n",
       "    </tr>\n",
       "  </tbody>\n",
       "</table>\n",
       "</div>"
      ],
      "text/plain": [
       "  Unnamed: 0  Q1  Q2  Q3  Q4  FINAL\n",
       "0        SAC  36  28  17  13     94\n",
       "1        HOU  36  28  19  19    102"
      ]
     },
     "execution_count": 31,
     "metadata": {},
     "output_type": "execute_result"
    }
   ],
   "source": [
    "dfMatch[0]"
   ]
  },
  {
   "cell_type": "code",
   "execution_count": null,
   "metadata": {},
   "outputs": [],
   "source": []
  }
 ],
 "metadata": {
  "kernelspec": {
   "display_name": "Python 3",
   "language": "python",
   "name": "python3"
  },
  "language_info": {
   "codemirror_mode": {
    "name": "ipython",
    "version": 3
   },
   "file_extension": ".py",
   "mimetype": "text/x-python",
   "name": "python",
   "nbconvert_exporter": "python",
   "pygments_lexer": "ipython3",
   "version": "3.8.7"
  }
 },
 "nbformat": 4,
 "nbformat_minor": 4
}
