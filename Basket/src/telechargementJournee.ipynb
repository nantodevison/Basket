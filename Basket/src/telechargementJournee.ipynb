{
 "cells": [
  {
   "cell_type": "markdown",
   "metadata": {},
   "source": [
    "# **Notebook de test de Téléchargement de donnée de basket depuis le site nba.com**"
   ]
  },
  {
   "cell_type": "markdown",
   "metadata": {},
   "source": [
    "Sommaire"
   ]
  },
  {
   "cell_type": "markdown",
   "metadata": {},
   "source": [
    "## Imports"
   ]
  },
  {
   "cell_type": "code",
   "execution_count": 3,
   "metadata": {},
   "outputs": [
    {
     "name": "stdout",
     "output_type": "stream",
     "text": [
      "The autoreload extension is already loaded. To reload it, use:\n",
      "  %reload_ext autoreload\n"
     ]
    }
   ],
   "source": [
    "%load_ext autoreload\n",
    "%autoreload 2\n",
    "from TelechargementDonnees import JourneeSiteNba, PasDeMatchError, JoueursSiteNba\n",
    "import pandas as pd\n",
    "import numpy as np"
   ]
  },
  {
   "cell_type": "markdown",
   "metadata": {},
   "source": [
    "## 1. Telecharger les données liees aux matchs depuis le site internet pour une ou plusieurs dates  \n",
    "1. on telecharge une journee\n",
    "1. on sauvegarder dans un json"
   ]
  },
  {
   "cell_type": "code",
   "execution_count": null,
   "metadata": {},
   "outputs": [],
   "source": [
    "#telecharger une journee\n",
    "try : \n",
    "    journee=JourneeSiteNba('2020-12-28')\n",
    "except PasDeMatchError as e : \n",
    "    print(e)\n",
    "#exporter\n",
    "journee.saveCsv()"
   ]
  },
  {
   "cell_type": "code",
   "execution_count": 11,
   "metadata": {},
   "outputs": [
    {
     "name": "stdout",
     "output_type": "stream",
     "text": [
      "2021-01-04\n",
      "0 https://fr.global.nba.com/boxscore/#!/0022000093\n",
      "1 https://fr.global.nba.com/boxscore/#!/0022000094\n",
      "2 https://fr.global.nba.com/boxscore/#!/0022000095\n",
      "3 https://fr.global.nba.com/boxscore/#!/0022000096\n",
      "4 https://fr.global.nba.com/boxscore/#!/0022000097\n",
      "5 https://fr.global.nba.com/boxscore/#!/0022000098\n",
      "6 https://fr.global.nba.com/boxscore/#!/0022000099\n",
      "7 https://fr.global.nba.com/boxscore/#!/0022000100\n",
      "8 https://fr.global.nba.com/boxscore/#!/0022000101\n",
      "2021-01-05\n",
      "0 https://fr.global.nba.com/boxscore/#!/0022000102\n",
      "1 https://fr.global.nba.com/boxscore/#!/0022000103\n",
      "2 https://fr.global.nba.com/boxscore/#!/0022000104\n",
      "3 https://fr.global.nba.com/boxscore/#!/0022000105\n",
      "4 https://fr.global.nba.com/boxscore/#!/0022000106\n",
      "2021-01-06\n",
      "0 https://fr.global.nba.com/boxscore/#!/0022000107\n",
      "1 https://fr.global.nba.com/boxscore/#!/0022000108\n",
      "2 https://fr.global.nba.com/boxscore/#!/0022000109\n",
      "3 https://fr.global.nba.com/boxscore/#!/0022000110\n",
      "4 https://fr.global.nba.com/boxscore/#!/0022000111\n",
      "5 https://fr.global.nba.com/boxscore/#!/0022000112\n",
      "6 https://fr.global.nba.com/boxscore/#!/0022000113\n",
      "7 https://fr.global.nba.com/boxscore/#!/0022000114\n",
      "8 https://fr.global.nba.com/boxscore/#!/0022000115\n",
      "9 https://fr.global.nba.com/boxscore/#!/0022000116\n",
      "10 https://fr.global.nba.com/boxscore/#!/0022000117\n",
      "2021-01-07\n",
      "0 https://fr.global.nba.com/boxscore/#!/0022000118\n",
      "1 https://fr.global.nba.com/boxscore/#!/0022000119\n",
      "2 https://fr.global.nba.com/boxscore/#!/0022000120\n",
      "3 https://fr.global.nba.com/boxscore/#!/0022000121\n",
      "4 https://fr.global.nba.com/boxscore/#!/0022000122\n",
      "2021-01-08\n",
      "0 https://fr.global.nba.com/boxscore/#!/0022000123\n",
      "1 https://fr.global.nba.com/boxscore/#!/0022000124\n",
      "2 https://fr.global.nba.com/boxscore/#!/0022000125\n",
      "3 https://fr.global.nba.com/boxscore/#!/0022000126\n",
      "4 https://fr.global.nba.com/boxscore/#!/0022000127\n",
      "5 https://fr.global.nba.com/boxscore/#!/0022000128\n",
      "6 https://fr.global.nba.com/boxscore/#!/0022000129\n",
      "7 https://fr.global.nba.com/boxscore/#!/0022000130\n",
      "8 https://fr.global.nba.com/boxscore/#!/0022000131\n",
      "9 https://fr.global.nba.com/boxscore/#!/0022000132\n",
      "2021-01-09\n",
      "0 https://fr.global.nba.com/boxscore/#!/0022000133\n",
      "1 https://fr.global.nba.com/boxscore/#!/0022000134\n",
      "2 https://fr.global.nba.com/boxscore/#!/0022000135\n",
      "3 https://fr.global.nba.com/boxscore/#!/0022000136\n",
      "4 https://fr.global.nba.com/boxscore/#!/0022000137\n",
      "5 https://fr.global.nba.com/boxscore/#!/0022000138\n",
      "6 https://fr.global.nba.com/boxscore/#!/0022000139\n",
      "7 https://fr.global.nba.com/boxscore/#!/0022000140\n",
      "2021-01-10\n",
      "0 https://fr.global.nba.com/boxscore/#!/0022000141\n",
      "1 https://fr.global.nba.com/boxscore/#!/0022000142\n",
      "2 https://fr.global.nba.com/boxscore/#!/0022000143\n",
      "3 https://fr.global.nba.com/boxscore/#!/0022000144\n",
      "4 https://fr.global.nba.com/boxscore/#!/0022000146\n",
      "5 https://fr.global.nba.com/boxscore/#!/0022000147\n",
      "6 https://fr.global.nba.com/boxscore/#!/0022000148\n"
     ]
    }
   ],
   "source": [
    "# pour un ensemeble de journee : \n",
    "for j in ['2021-01-%02d' %n  for n in range(4,11)] : \n",
    "    print(j)\n",
    "    try :\n",
    "        journee=JourneeSiteNba(j)\n",
    "        journee.saveCsv()\n",
    "    except PasDeMatchError as e: \n",
    "        print(e)    \n",
    "        continue"
   ]
  },
  {
   "cell_type": "markdown",
   "metadata": {},
   "source": [
    "## 2. Telecharger les données liees aux joueurs depuis le site internet \n",
    "1. on se connecte à la page principale des joueurs\n",
    "1. on passe de lettre en lettre pour sauvegarder les donnees"
   ]
  },
  {
   "cell_type": "code",
   "execution_count": 62,
   "metadata": {},
   "outputs": [],
   "source": [
    "#creation de la classe\n",
    "pagejoueuer=JoueursSiteNba()\n",
    "#acces aux donnees\n",
    "pagejoueuer.dfJoueurs\n",
    "#export des donnees\n",
    "pagejoueuer.dfJoueurs.reset_index(drop=True).to_json(r'C:\\Users\\martin.schoreisz\\Documents\\AffairesEnCours\\temp\\basket\\Joueurs_saison_2020-2021\\Joueurs_saison_2020-2021.json')"
   ]
  }
 ],
 "metadata": {
  "kernelspec": {
   "display_name": "Python 3",
   "language": "python",
   "name": "python3"
  },
  "language_info": {
   "codemirror_mode": {
    "name": "ipython",
    "version": 3
   },
   "file_extension": ".py",
   "mimetype": "text/x-python",
   "name": "python",
   "nbconvert_exporter": "python",
   "pygments_lexer": "ipython3",
   "version": "3.8.6"
  }
 },
 "nbformat": 4,
 "nbformat_minor": 4
}
