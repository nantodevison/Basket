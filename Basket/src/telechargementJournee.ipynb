{
 "cells": [
  {
   "cell_type": "markdown",
   "metadata": {},
   "source": [
    "# **Notebook de test de Téléchargement de donnée de basket depuis le site nba.com**"
   ]
  },
  {
   "cell_type": "markdown",
   "metadata": {},
   "source": [
    "Sommaire"
   ]
  },
  {
   "cell_type": "markdown",
   "metadata": {},
   "source": [
    "## Imports"
   ]
  },
  {
   "cell_type": "code",
   "execution_count": 1,
   "metadata": {},
   "outputs": [],
   "source": [
    "%load_ext autoreload\n",
    "%autoreload 2\n",
    "\n",
    "import sys, os, re, time #c'est pas propre mais pour le moment pour importer mes modules perso dans le notebook je ne sais pas faire\n",
    "sys.path.append(r'C:\\Users\\martin.schoreisz\\git\\Outils\\Outils\\Martin_Perso')\n",
    "import Connexion_Transfert as ct\n",
    "from TelechargementDonnees import (JourneeSiteNba, PasDeMatchError, JoueursSiteNba, \n",
    "                                   DriverFirefox, gererCookie, simplifierNomJoueur, Blessures)\n",
    "import pandas as pd\n",
    "import numpy as np\n",
    "import time\n",
    "from collections import Counter\n",
    "from datetime import date\n",
    "\n",
    "from selenium import webdriver\n",
    "from selenium.webdriver.common.by import By\n",
    "from selenium.webdriver.support.ui import WebDriverWait\n",
    "from selenium.webdriver.support import expected_conditions as EC\n",
    "from selenium.common.exceptions import NoSuchElementException,StaleElementReferenceException,TimeoutException, ElementClickInterceptedException\n",
    "from selenium.webdriver.support.ui import Select"
   ]
  },
  {
   "cell_type": "markdown",
   "metadata": {},
   "source": [
    "## 1. Telecharger les données liees aux matchs depuis le site internet pour une ou plusieurs dates  \n",
    "1. on telecharge une journee\n",
    "1. on sauvegarder dans un json"
   ]
  },
  {
   "cell_type": "code",
   "execution_count": null,
   "metadata": {},
   "outputs": [],
   "source": [
    "#telecharger une journee\n",
    "try : \n",
    "    journee=JourneeSiteNba('2021-02-12', dossierExportCsv=r'C:\\Users\\martin.schoreisz\\git\\Basket\\Basket\\data\\testUsa')\n",
    "    #exporter\n",
    "    #journee.saveCsv()\n",
    "except PasDeMatchError as e : \n",
    "    print(e)"
   ]
  },
  {
   "cell_type": "code",
   "execution_count": null,
   "metadata": {},
   "outputs": [],
   "source": [
    "# pour un ensemble de journee : \n",
    "for j in ['2021-01-%02d' %n  for n in range(25,27)] : \n",
    "    print(j)\n",
    "    try :\n",
    "        journee=JourneeSiteNba(j,dossierExportCsv=r'C:\\Users\\martin.schoreisz\\git\\Basket\\Basket\\data\\testUsa')\n",
    "        journee.saveCsv()\n",
    "    except PasDeMatchError as e: \n",
    "        print(e)    \n",
    "        continue"
   ]
  },
  {
   "cell_type": "markdown",
   "metadata": {},
   "source": [
    "## 2. Telecharger les données liees aux joueurs depuis le site internet \n",
    "> Dans le cas ou on souhaite telecharger la totalite des donnees de la page des joueuers\n",
    "1. on se connecte à la page principale des joueurs\n",
    "1. on affiche l'integralite des donnees"
   ]
  },
  {
   "cell_type": "code",
   "execution_count": 62,
   "metadata": {},
   "outputs": [],
   "source": [
    "#creation de la classe\n",
    "pagejoueuer=EnsembleJoueursSiteNba()\n",
    "#acces aux donnees\n",
    "pagejoueuer.dfJoueurs\n",
    "#export des donnees\n",
    "pagejoueuer.dfJoueurs.reset_index(drop=True).to_json(r'C:\\Users\\martin.schoreisz\\Documents\\AffairesEnCours\\temp\\basket\\Joueurs_saison_2020-2021\\Joueurs_saison_2020-2021.json')"
   ]
  },
  {
   "cell_type": "markdown",
   "metadata": {},
   "source": [
    "## 3. Test récupération stats_equipe\n",
    "1. on balaye le site nba comme d'habitude \n",
    "1. on cree la df du match\n",
    "1. on télécharge la données de match de la Bdd\n",
    "1. on joint la df de match avec celle de la Bdd pour obtenir la df des stats_equipe avec l'id_match."
   ]
  },
  {
   "cell_type": "code",
   "execution_count": 2,
   "metadata": {},
   "outputs": [],
   "source": [
    "urlSiteNbaScore='https://www.nba.com/games'\n",
    "nomsColonnesMatchRef=['id_equipe','q1','q2','q3','q4','final']\n",
    "nomsColonnesStatsEquipe=['id_equipe','pts_in_paint','fastbreak_pts','biggest_lead',\n",
    "                   'pts_banc','tm_rebonds','ball_perdu','tm_ball_perdu','pt_subi_ctrattaq']"
   ]
  },
  {
   "cell_type": "code",
   "execution_count": 3,
   "metadata": {},
   "outputs": [],
   "source": [
    "with ct.ConnexionBdd('basket') as c:\n",
    "    dfMatchsBdd=pd.read_sql('select id_match, date_match, equipe_domicile,equipe_exterieure   from donnees_source.match', c.sqlAlchemyConn)\n",
    "    dfMatchsBdd.date_match=dfMatchsBdd.date_match.apply(lambda x : x.strftime('%Y-%m-%d'))"
   ]
  },
  {
   "cell_type": "code",
   "execution_count": null,
   "metadata": {},
   "outputs": [],
   "source": [
    "with ct.ConnexionBdd('basket') as c:\n",
    "    with DriverFirefox() as d :\n",
    "        driver=d.driver\n",
    "        for d in [d.strftime('%Y-%m-%d') for d in pd.date_range(start='15/01/2021',periods=1)] : \n",
    "            urlDateJournee=fr'{urlSiteNbaScore}?date={d}'\n",
    "            driver.get(urlDateJournee)\n",
    "            time.sleep(3)\n",
    "            gererCookie(driver)\n",
    "            #recuperer la liste des hyperliens qui ont le mot \"feuille\" dedans\n",
    "            try :\n",
    "                elementsScore=WebDriverWait(driver, 20).until(EC.presence_of_all_elements_located((By.LINK_TEXT, 'BOX SCORE')))\n",
    "            except TimeoutException as e :\n",
    "                print(e)\n",
    "                raise PasDeMatchError(d)\n",
    "            listBoxScore=[p.get_attribute(\"href\") for p in elementsScore]\n",
    "            dicoJournee={}\n",
    "            for e,p in enumerate(listBoxScore) : \n",
    "                print(d,e,p)\n",
    "                driver.get(p)\n",
    "                time.sleep(7)\n",
    "                driver.implicitly_wait(20)\n",
    "                #bascule sur l'onglet summary er recuperer les stats de matchs: \n",
    "                elementSummary=WebDriverWait(driver, 20).until(EC.presence_of_element_located((By.LINK_TEXT, 'Summary')))\n",
    "                driver.execute_script(\"arguments[0].click();\", elementSummary)#passer via Javascript pour clicker mm si qqch devant\n",
    "                time.sleep(7)\n",
    "                driver.implicitly_wait(20)\n",
    "                dicoJournee[e]={'match':pd.read_html(driver.page_source)[0]}\n",
    "                dicoJournee[e]['stats_equipes']=pd.concat([dicoJournee[e]['match'][['Unnamed: 0']],\n",
    "                                                          pd.read_html(driver.page_source)[1]],axis=1)\n",
    "            for i in range(len(dicoJournee)) :\n",
    "                nbColonnesMatch=len(dicoJournee[i]['match'].columns) - len(nomsColonnesMatchRef)\n",
    "                if nbColonnesMatch > 0 : \n",
    "                    prolongation=[f'pr{i+1}' for i in range(nbColonnesMatch)]\n",
    "                    nomsColonnesMatch=nomsColonnesMatchRef[:-1]+prolongation+[nomsColonnesMatchRef[-1]]\n",
    "                else : \n",
    "                    nomsColonnesMatch=nomsColonnesMatchRef\n",
    "                dicoJournee[i]['match'].columns=nomsColonnesMatch\n",
    "                dicoJournee[i]['stats_equipes'].columns=nomsColonnesStatsEquipe\n",
    "                equipeExt, equipeDom=dicoJournee[i]['match'].iloc[0].id_equipe, dicoJournee[i]['match'].iloc[1].id_equipe\n",
    "                dicoJournee[i]['dfMatch']=pd.DataFrame({'date_match':[d,],'equipe_domicile':[equipeDom],'equipe_exterieure':[equipeExt]})\n",
    "                dicoJournee[i]['stats_equipes']['id_match']=dicoJournee[i]['dfMatch'].merge(dfMatchsBdd, on=['date_match','equipe_domicile','equipe_exterieure']).id_match.values[0]   \n",
    "                dicoJournee[i]['stats_equipes'].to_sql('stats_equipes',c.sqlAlchemyConn, schema='donnees_source', if_exists='append', index=False)"
   ]
  },
  {
   "cell_type": "code",
   "execution_count": null,
   "metadata": {},
   "outputs": [],
   "source": []
  }
 ],
 "metadata": {
  "kernelspec": {
   "display_name": "Python 3",
   "language": "python",
   "name": "python3"
  },
  "language_info": {
   "codemirror_mode": {
    "name": "ipython",
    "version": 3
   },
   "file_extension": ".py",
   "mimetype": "text/x-python",
   "name": "python",
   "nbconvert_exporter": "python",
   "pygments_lexer": "ipython3",
   "version": "3.8.6"
  }
 },
 "nbformat": 4,
 "nbformat_minor": 4
}
