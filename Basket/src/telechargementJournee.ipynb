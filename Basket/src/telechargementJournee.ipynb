{
 "cells": [
  {
   "cell_type": "markdown",
   "metadata": {},
   "source": [
    "# **Notebook de test de Téléchargement de donnée de basket depuis le site nba.com**"
   ]
  },
  {
   "cell_type": "markdown",
   "metadata": {},
   "source": [
    "Sommaire"
   ]
  },
  {
   "cell_type": "markdown",
   "metadata": {},
   "source": [
    "## Imports"
   ]
  },
  {
   "cell_type": "code",
   "execution_count": 42,
   "metadata": {},
   "outputs": [
    {
     "name": "stdout",
     "output_type": "stream",
     "text": [
      "The autoreload extension is already loaded. To reload it, use:\n",
      "  %reload_ext autoreload\n"
     ]
    }
   ],
   "source": [
    "%load_ext autoreload\n",
    "%autoreload 2\n",
    "\n",
    "import sys, os, re, time #c'est pas propre mais pour le moment pour importer mes modules perso dans le notebook je ne sais pas faire\n",
    "sys.path.append(r'C:\\Users\\martin.schoreisz\\git\\Outils\\Outils\\Martin_Perso')\n",
    "import Connexion_Transfert as ct\n",
    "from TelechargementDonnees import (JourneeSiteNba, PasDeMatchError, JoueursSiteNba, \n",
    "                                   DriverFirefox, gererCookie, simplifierNomJoueur, Blessures)\n",
    "import pandas as pd\n",
    "import numpy as np\n",
    "import time\n",
    "from collections import Counter\n",
    "from datetime import date\n",
    "\n",
    "from selenium import webdriver\n",
    "from selenium.webdriver.common.by import By\n",
    "from selenium.webdriver.support.ui import WebDriverWait\n",
    "from selenium.webdriver.support import expected_conditions as EC\n",
    "from selenium.common.exceptions import NoSuchElementException,StaleElementReferenceException,TimeoutException, ElementClickInterceptedException\n",
    "from selenium.webdriver.support.ui import Select"
   ]
  },
  {
   "cell_type": "markdown",
   "metadata": {},
   "source": [
    "## 1. Telecharger les données liees aux matchs depuis le site internet pour une ou plusieurs dates  \n",
    "1. on telecharge une journee\n",
    "1. on sauvegarder dans un json"
   ]
  },
  {
   "cell_type": "code",
   "execution_count": null,
   "metadata": {},
   "outputs": [],
   "source": [
    "#telecharger une journee\n",
    "try : \n",
    "    journee=JourneeSiteNba('2021-02-10', dossierExportCsv=r'C:\\Users\\martin.schoreisz\\git\\Basket\\Basket\\data\\testUsa')\n",
    "    #exporter\n",
    "    #journee.saveCsv()\n",
    "except PasDeMatchError as e : \n",
    "    print(e)"
   ]
  },
  {
   "cell_type": "code",
   "execution_count": null,
   "metadata": {},
   "outputs": [],
   "source": [
    "# pour un ensemble de journee : \n",
    "for j in ['2021-01-%02d' %n  for n in range(25,27)] : \n",
    "    print(j)\n",
    "    try :\n",
    "        journee=JourneeSiteNba(j,dossierExportCsv=r'C:\\Users\\martin.schoreisz\\git\\Basket\\Basket\\data\\testUsa')\n",
    "        journee.saveCsv()\n",
    "    except PasDeMatchError as e: \n",
    "        print(e)    \n",
    "        continue"
   ]
  },
  {
   "cell_type": "markdown",
   "metadata": {},
   "source": [
    "## 2. Telecharger les données liees aux joueurs depuis le site internet \n",
    "> Dans le cas ou on souhaite telecharger la totalite des donnees de la page des joueuers\n",
    "1. on se connecte à la page principale des joueurs\n",
    "1. on affiche l'integralite des donnees"
   ]
  },
  {
   "cell_type": "code",
   "execution_count": 62,
   "metadata": {},
   "outputs": [],
   "source": [
    "#creation de la classe\n",
    "pagejoueuer=EnsembleJoueursSiteNba()\n",
    "#acces aux donnees\n",
    "pagejoueuer.dfJoueurs\n",
    "#export des donnees\n",
    "pagejoueuer.dfJoueurs.reset_index(drop=True).to_json(r'C:\\Users\\martin.schoreisz\\Documents\\AffairesEnCours\\temp\\basket\\Joueurs_saison_2020-2021\\Joueurs_saison_2020-2021.json')"
   ]
  },
  {
   "cell_type": "markdown",
   "metadata": {},
   "source": [
    "## 3. Test donnees blessure sur site americain\n",
    "1. on se connecte à la page des blessures par equipes pour recuperer tous les jouuers blesses et mettre a jour la table existante \n",
    "1. on se connecte à l apage des joueurs blesses par jour on prend que le plus recent.\n",
    "\n",
    "Dans les deux cas on cherche les joueurs non presents dans la base des blesses et on fait des insert, ou on chreche les joueurs presents dans la base avec une date de guerison inconnues et on met a jour le type de blessures."
   ]
  },
  {
   "cell_type": "code",
   "execution_count": 7,
   "metadata": {},
   "outputs": [],
   "source": [
    "dfsInjuries=Blessures().dfInjuries"
   ]
  },
  {
   "cell_type": "code",
   "execution_count": 37,
   "metadata": {},
   "outputs": [],
   "source": [
    "#récupérer les blesses en cours existants dans la base puis mettre a jour\n",
    "with ct.ConnexionBdd('basket') as c :\n",
    "    rqtBlesseEnCoursBdd=\"\"\"SELECT b.id_blessure, j.nom, j.nom_simple\n",
    "                             FROM donnees_source.blessure b JOIN donnees_source.joueur j ON b.id_joueur=j.id_joueur\n",
    "                             WHERE date_guerison IS NULL and id_type_blessure=99\"\"\"\n",
    "    blesseEnCoursBdd=pd.read_sql(rqtBlesseEnCoursBdd, c.sqlAlchemyConn)\n",
    "    typeBlessure=pd.read_sql(\"\"\"SELECT id_type_blessure, nom_blessure, LOWER(nom_blessure_anglais) \"Injury\"\n",
    "                                FROM donnees_source.enum_type_blessure\"\"\", c.sqlAlchemyConn)\n",
    "    #mettre à jour les joueurs connus : \n",
    "    #creer la df finale de MaJ\n",
    "    tempDfBlessePourMaJ=blesseEnCoursBdd.merge(dfsInjuries, on='nom_simple')"
   ]
  },
  {
   "cell_type": "code",
   "execution_count": 37,
   "metadata": {},
   "outputs": [],
   "source": [
    "    #insrere cette df dans la base\n",
    "    if not tempDfBlessePourMaJ.empty : \n",
    "        tempDfBlessePourMaJ.to_sql('blesses_temp', c.sqlAlchemyConn, schema='public', if_exists='replace', index=False)\n",
    "        #update la table\n",
    "        rqtUpdate=\"\"\"UPDATE donnees_source.blessure b\n",
    "                      SET id_type_blessure=t.id_type_blessure\n",
    "                      FROM public.blesses_temp t\n",
    "                      WHERE b.id_blessure=t.id_blessure\"\"\"\n",
    "        c.sqlAlchemyConn.execute(rqtUpdate)\n",
    "        #drop la table temporaire\n",
    "        c.sqlAlchemyConn.execute(\"DROP TABLE IF EXISTS public.blesses_temp\")"
   ]
  },
  {
   "cell_type": "code",
   "execution_count": 9,
   "metadata": {},
   "outputs": [],
   "source": [
    "#recuperer les blesses du site non presents dans la Bdd, inserer ceux pour qui ont a une date du dernier match joue\n",
    "with ct.ConnexionBdd('basket') as c :\n",
    "    rqtBlesseEnCoursBdd=\"\"\"SELECT b.id_blessure, j.nom, j.nom_simple\n",
    "                             FROM donnees_source.blessure b JOIN donnees_source.joueur j ON b.id_joueur=j.id_joueur\n",
    "                             WHERE date_guerison IS NULL and id_type_blessure!=99\"\"\"\n",
    "    blesseEnCoursBdd=pd.read_sql(rqtBlesseEnCoursBdd, c.sqlAlchemyConn)\n",
    "    dfInjuriesInconnu=dfsInjuries.loc[~dfsInjuries.nom_simple.isin(blesseEnCoursBdd.nom_simple.tolist())]\n",
    "   "
   ]
  },
  {
   "cell_type": "code",
   "execution_count": 45,
   "metadata": {},
   "outputs": [],
   "source": [
    "dfInjuriesInconnu.to_sql('blesses_inconnus_temp', c.sqlAlchemyConn, schema='public', if_exists='replace', index=False)\n",
    "    rqtBlessesInconnusAInserer=\"\"\"WITH \n",
    "                                tous_matchs_blesses_inconnus as(\n",
    "                                SELECT *\n",
    "                                 FROM public.blesses_inconnus_temp bi JOIN (SELECT s.*, m.date_match\n",
    "                                      FROM donnees_source.stat_nom s JOIN donnees_source.\"match\" m ON s.id_match=m.id_match) s \n",
    "                                      ON s.nom_simple=bi.nom_simple),\n",
    "                                blesses_inconnus_dernier_match AS (\n",
    "                                SELECT DISTINCT ON (id_joueur) id_joueur, \"Injury\", date_match, date_match+1 date_blessure\n",
    "                                 FROM tous_matchs_blesses_inconnus\n",
    "                                 ORDER BY id_joueur, date_match DESC),\n",
    "                                blesses_inconnus_insertion as(\n",
    "                                SELECT b.id_joueur,b.date_blessure,e.id_type_blessure\n",
    "                                 FROM blesses_inconnus_dernier_match b JOIN donnees_source.enum_type_blessure e ON b.\"Injury\"=lower(e.nom_blessure_anglais))\n",
    "                                INSERT INTO donnees_source.blessure (id_joueur, date_blessure, id_type_blessure)\n",
    "                                 SELECT id_joueur, date_blessure, id_type_blessure FROM blesses_inconnus_insertion\"\"\"\n",
    "    c.sqlAlchemyConn.execute(rqtBlessesInconnusAInserer)"
   ]
  },
  {
   "cell_type": "code",
   "execution_count": 55,
   "metadata": {},
   "outputs": [],
   "source": [
    "#reste ceux pour lesquels on a pas de date : on met le jour de updated\n",
    "with ct.ConnexionBdd('basket') as c :\n",
    "    rqtBlesseEnCoursBdd=\"\"\"SELECT b.id_blessure, j.nom, j.nom_simple\n",
    "                             FROM donnees_source.blessure b JOIN donnees_source.joueur j ON b.id_joueur=j.id_joueur\n",
    "                             WHERE date_guerison IS NULL and id_type_blessure!=99\"\"\"\n",
    "    blesseEnCoursBdd=pd.read_sql(rqtBlesseEnCoursBdd, c.sqlAlchemyConn)\n",
    "    joueurs=pd.read_sql('select nom_simple, id_joueur from donnees_source.joueur', c.sqlAlchemyConn)\n",
    "    dfInjuriesInconnu=dfsInjuries.loc[~dfsInjuries.nom_simple.isin(blesseEnCoursBdd.nom_simple.tolist())].merge(\n",
    "                        joueurs, on='nom_simple')"
   ]
  },
  {
   "cell_type": "code",
   "execution_count": 55,
   "metadata": {},
   "outputs": [],
   "source": [
    "    dfInjuriesInconnu['date_blessure']=dfInjuriesInconnu.Updated.apply(lambda x : pd.to_datetime(' '.join(x.split(', ')[1].split()\n",
    "                                                                                    [::-1]+[str(date.today().year),])))\n",
    "    dfInjuriesInconnu[['id_joueur','date_blessure','id_type_blessure']].to_sql('blessure', c.sqlAlchemyConn, \n",
    "                                                                    schema='donnees_source', if_exists='append', index=False)"
   ]
  }
 ],
 "metadata": {
  "kernelspec": {
   "display_name": "Python 3",
   "language": "python",
   "name": "python3"
  },
  "language_info": {
   "codemirror_mode": {
    "name": "ipython",
    "version": 3
   },
   "file_extension": ".py",
   "mimetype": "text/x-python",
   "name": "python",
   "nbconvert_exporter": "python",
   "pygments_lexer": "ipython3",
   "version": "3.8.6"
  }
 },
 "nbformat": 4,
 "nbformat_minor": 4
}
