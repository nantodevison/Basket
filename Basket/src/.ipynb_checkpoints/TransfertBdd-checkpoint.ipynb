{
 "cells": [
  {
   "cell_type": "markdown",
   "metadata": {},
   "source": [
    "# **Notebook de transfert des donnees du site nba.com depuis le site ou un fichier intermediaire**"
   ]
  },
  {
   "cell_type": "code",
   "execution_count": 61,
   "metadata": {},
   "outputs": [
    {
     "name": "stdout",
     "output_type": "stream",
     "text": [
      "The autoreload extension is already loaded. To reload it, use:\n",
      "  %reload_ext autoreload\n"
     ]
    }
   ],
   "source": [
    "%load_ext autoreload\n",
    "%autoreload 2\n",
    "import pandas as pd\n",
    "import sys, os, re #c'est pas propre mais pour le moment pour importer mes modules perso dans le notebook je ne sais pas faire\n",
    "sys.path.append(r'C:\\Users\\martin.schoreisz\\git\\Outils\\Outils\\Martin_Perso')\n",
    "import Connexion_Transfert as ct\n",
    "\n",
    "from datetime import datetime\n",
    "from TelechargementDonnees import JoueursSiteNba, DriverFirefox"
   ]
  },
  {
   "cell_type": "markdown",
   "metadata": {},
   "source": [
    "# 1. Données de joueurs \n",
    "Il s'agit de transfere dans le cas des donnees de joueuer telechargees en amont, ou d'ajouter des joueurs non presents au moment d'insertion de match"
   ]
  },
  {
   "cell_type": "markdown",
   "metadata": {},
   "source": [
    ">## 1.1 Enumerations des types de position\n",
    "A creer a la main"
   ]
  },
  {
   "cell_type": "code",
   "execution_count": 12,
   "metadata": {},
   "outputs": [],
   "source": [
    "#creation de la classe\n",
    "pagejoueuer=JoueursSiteNba()"
   ]
  },
  {
   "cell_type": "code",
   "execution_count": null,
   "metadata": {},
   "outputs": [],
   "source": [
    "with ct.ConnexionBdd('basket','maison') as c : \n",
    "    pd.DataFrame({'id_position_terrain':pagejoueuer.dfJoueurs.id_position_terrain.unique(), \n",
    "              'nom_position_terrain':['Forward ; 3 ; ailier', 'Guard ; 1 ou 2  ; meneur ou arriere', \n",
    "                                      'Center ; 5 ; Pivot' ,'Power Forward ; 4 ; ailier Fort', \n",
    "                                      'Shooting Guard ; 2 ; arriere', 'Shooting Guard ; 2 ; arriere',\n",
    "                                      'Power Forward ; 4 ; ailier Fort']}).to_sql(\n",
    "        'enum_position_terrain', c.sqlAlchemyConn, schema='donnees_source', if_exists='append', index=False)"
   ]
  },
  {
   "cell_type": "markdown",
   "metadata": {},
   "source": [
    "> ## 1.2 Donnees chargees depuis la page internet\n",
    "Là ce n'est que le premier import, on ne gère pas la mise à jour"
   ]
  },
  {
   "cell_type": "code",
   "execution_count": null,
   "metadata": {},
   "outputs": [],
   "source": [
    "#transfert dans la Bdd\n",
    "with ct.ConnexionBdd('basket','maison') as c : \n",
    "    pagejoueuer.dfJoueurs[['nom','id_position_terrain','taille', 'poids','date_entree_nba']].to_sql(\n",
    "        'joueur', c.sqlAlchemyConn, schema='donnees_source', if_exists='append', index=False)"
   ]
  },
  {
   "cell_type": "markdown",
   "metadata": {},
   "source": [
    "# 2. Données d'équipe\n",
    "On utilise les données de joueurs pour faire la liste des equipes, et on complete avec les divisions et conférence, puis on transfere"
   ]
  },
  {
   "cell_type": "code",
   "execution_count": 6,
   "metadata": {},
   "outputs": [],
   "source": [
    "dicoDivision={'Central Division': ['MIL', 'CHI', 'IND', 'CLE', 'DET'],'Atlantic Division': ['BOS', 'BKN', 'NYK', 'TOR', \n",
    "'PHI'],'Southeast Division' : ['MIA', 'ORL', 'WAS', 'CHA', 'ATL'],'Southwest Division': ['SAS', 'HOU', 'DAL', 'NOP', \n",
    "'MEM'],'Northwest Division' : ['DEN', 'MIN', 'OKC', 'POR', 'UTA'],'Pacific Division' : ['LAC', 'LAL', 'PHX', 'GSW', 'SAC']}\n",
    "listDivision=[k for e in pagejoueuer.dfJoueurs.equipe.unique() for k,v in dicoDivision.items()  if e in v] "
   ]
  },
  {
   "cell_type": "code",
   "execution_count": 7,
   "metadata": {},
   "outputs": [],
   "source": [
    "dicoConference={'Ouest' : ['SAS', 'HOU', 'DAL', 'NOP', 'MEM','DEN', 'MIN', 'OKC', 'POR', 'UTA','LAC', 'LAL', 'PHX', \n",
    "    'GSW', 'SAC'],'Est':['MIL', 'CHI', 'IND', 'CLE', 'DET','BOS', 'BKN', 'NYK', 'TOR', 'PHI','MIA', \n",
    "                         'ORL', 'WAS', 'CHA', 'ATL']}\n",
    "dicoNom={'MIA':'Miami Heat','MIL':'Milwaukee Bucks','NOP':'New-Orleans Pelicans','SAS':'San-Antonio Spurs',\n",
    "'PHX':'Phoenix','MEM':'Memphis Grizzlies',    'BKN':'Brooklyn Nets','ORL':'Orlando Magic','LAL':'LosAngeles Lakers','POR':'Portland TrailBlazzers','TOR':'Toronto Raptors','CHI':'Chicago Bulls',\n",
    "'OKC':'Oklahoma City Thunder','WAS':'Washington Wizards','UTA':'Utah Jazz','SAC':'Sacramento Kings','CHA':'Charlotte Hornets','NYK':'New-York Knicks','DEN':'Denver Nuggets',\n",
    "'LAC':'Los Angeles Clippers','GSW':'Golden State Warriors','MIN':'Minessota TimberWolves','DET':'Detroit Pistons','DAL':'Dallas Mavericks',\n",
    "'IND':'Indiana Pacers','ATL':'Atlanta Hawks','CLE':'Cleveland Cavaliers','PHI':'Philadelphia Sixers','BOS':'Boston Celtics','HOU':'Houston Rockets'}\n",
    "listConference=[k for e in pagejoueuer.dfJoueurs.equipe.unique() for k,v in dicoConference.items()  if e in v] \n",
    "listNom=[v for k,v in dicoNom.items() for e in pagejoueuer.dfJoueurs.equipe.unique() if k==e] "
   ]
  },
  {
   "cell_type": "code",
   "execution_count": 8,
   "metadata": {},
   "outputs": [],
   "source": [
    "with ct.ConnexionBdd('basket','boulot') as c : \n",
    "    pd.DataFrame({'id_equipe':pagejoueuer.dfJoueurs.equipe.unique(),'nom_equipe': listNom,\n",
    "              'conference':listConference, 'division':listDivision}).to_sql(\n",
    "        'equipe', c.sqlAlchemyConn, schema='donnees_source', if_exists='append', index=False)"
   ]
  },
  {
   "cell_type": "markdown",
   "metadata": {},
   "source": [
    "# 3. Données de match\n",
    "Dans un premier temp on va lire les fichiers csv stcokés [ici](C:\\Users\\martin.schoreisz\\Documents\\AffairesEnCours\\temp\\basket)\n",
    "L'idée c'est d'avoir une classe match, qui va regrouper : \n",
    "- les df de matchs, statjoueur, stat\n",
    "- va falloir trier les joueuers qui n'ont pas joué avant de les basculer dans les stats joueur (attribut dnp)\n",
    "- va falloir trouver les joueurs non contenus dans la base des joueurs et les ajouter (nom à minima)\n",
    "- va falloir gérer les blessures  : \n",
    "> - les ajouter à la table blessure si elle ne sont pas déjà dedans\n",
    "> - noter comme apte les joueurs présents dans la table blessure, dont la date de guérison n'est pas connue"
   ]
  },
  {
   "cell_type": "code",
   "execution_count": 3,
   "metadata": {},
   "outputs": [],
   "source": [
    "dossierBase=r'C:\\Users\\martin.schoreisz\\git\\Basket\\Basket\\data'"
   ]
  },
  {
   "cell_type": "code",
   "execution_count": 31,
   "metadata": {},
   "outputs": [
    {
     "name": "stdout",
     "output_type": "stream",
     "text": [
      "nouveau joueur : ['Trey Burke'] equipe 0\n",
      "blesse : ['Dario Saric']\n",
      "nouveau joueur : ['Reggie Bullock', 'Alec Burks'] equipe 0\n",
      "nouveau joueur : ['Jimmy Butler'] equipe 0\n",
      "nouveau joueur : ['Thomas Bryant'] equipe 0\n",
      "nouveau joueur : ['Svi Mykhailiuk'] equipe 0\n",
      "nouveau joueur : ['Jamal Murray'] equipe 1\n",
      "nouveau joueur : ['Jimmy Butler'] equipe 1\n",
      "nouveau joueur : ['Trey Burke'] equipe 0\n",
      "nouveau joueur : ['Jamal Murray'] equipe 1\n",
      "blesse : ['Danilo Gallinari']\n",
      "blesse : ['Danilo Gallinari']\n",
      "nouveau joueur : ['Mike Muscala'] equipe 0\n",
      "nouveau joueur : ['Svi Mykhailiuk'] equipe 1\n",
      "nouveau joueur : ['Thomas Bryant'] equipe 1\n",
      "nouveau joueur : ['Reggie Bullock', 'Alec Burks'] equipe 1\n",
      "blesse : ['Dario Saric']\n",
      "nouveau joueur : ['Trey Burke'] equipe 0\n",
      "blesse : ['Kawhi Leonard']\n",
      "nouveau joueur : ['Thomas Bryant'] equipe 1\n",
      "blesse : ['Joel Embiid']\n",
      "nouveau joueur : ['Reggie Bullock', 'Alec Burks'] equipe 1\n",
      "blesse : ['Dario Saric', 'Jalen Smith']\n",
      "nouveau joueur : ['Svi Mykhailiuk'] equipe 0\n",
      "blesse : ['Jahlil Okafor']\n",
      "nouveau joueur : ['Svi Mykhailiuk'] equipe 1\n",
      "blesse : ['Jahlil Okafor']\n",
      "blesse : ['Xavier Tillman']\n",
      "nouveau joueur : ['Mike Muscala'] equipe 1\n",
      "nouveau joueur : ['Jamal Murray'] equipe 1\n",
      "nouveau joueur : ['Reggie Bullock', 'Alec Burks'] equipe 0\n",
      "blesse : ['Alec Burks']\n",
      "nouveau joueur : ['Svi Mykhailiuk'] equipe 1\n",
      "blesse : ['Jahlil Okafor']\n",
      "nouveau joueur : ['Thomas Bryant'] equipe 1\n",
      "nouveau joueur : ['Mike Muscala'] equipe 1\n",
      "blesse : ['Jalen Smith']\n",
      "blesse : ['Kawhi Leonard']\n",
      "nouveau joueur : ['Jamal Murray'] equipe 0\n",
      "blesse : ['Jamal Murray']\n",
      "blesse : ['Jontay Porter', 'Xavier Tillman']\n",
      "nouveau joueur : ['Trey Burke'] equipe 1\n",
      "nouveau joueur : ['Thomas Bryant'] equipe 1\n",
      "nouveau joueur : ['Reggie Bullock', 'Alec Burks'] equipe 0\n",
      "blesse : ['Alec Burks']\n",
      "nouveau joueur : ['Mike Muscala'] equipe 1\n",
      "blesse : ['Grayson Allen', 'Jontay Porter', 'Xavier Tillman']\n",
      "nouveau joueur : ['Svi Mykhailiuk'] equipe 1\n",
      "blesse : ['Jahlil Okafor']\n",
      "nouveau joueur : ['Jimmy Butler'] equipe 0\n",
      "nouveau joueur : ['Trey Burke'] equipe 1\n",
      "nouveau joueur : ['Thomas Bryant'] equipe 0\n",
      "blesse : ['Dario Saric']\n",
      "nouveau joueur : ['Jamal Murray'] equipe 1\n",
      "blesse : ['James Harden']\n",
      "nouveau joueur : ['Reggie Bullock'] equipe 0\n",
      "nouveau joueur : ['Mike Muscala'] equipe 0\n",
      "nouveau joueur : ['Svi Mykhailiuk'] equipe 1\n",
      "nouveau joueur : ['Thomas Bryant'] equipe 0\n",
      "nouveau joueur : ['Jamal Murray'] equipe 0\n",
      "nouveau joueur : ['Trey Burke'] equipe 0\n",
      "blesse : ['Luka Doncic']\n",
      "blesse : ['Marcus Morris Sr.']\n",
      "blesse : ['Darius Garland']\n",
      "blesse : ['Darius Garland']\n",
      "nouveau joueur : ['Reggie Bullock'] equipe 0\n",
      "blesse : ['Nerlens Noel']\n",
      "nouveau joueur : ['Mike Muscala'] equipe 0\n",
      "nouveau joueur : ['Jimmy Butler'] equipe 1\n",
      "nouveau joueur : ['Trey Burke'] equipe 0\n",
      "nouveau joueur : ['Svi Mykhailiuk'] equipe 0\n",
      "blesse : ['John Konchar']\n",
      "nouveau joueur : ['Jamal Murray'] equipe 1\n",
      "blesse : ['Paul George', 'Marcus Morris Sr.']\n",
      "blesse : ['Ben McLemore', 'Christian Wood']\n",
      "blesse : ['Ben McLemore', 'Christian Wood']\n",
      "blesse : ['Darius Garland']\n",
      "blesse : ['Evan Fournier']\n",
      "nouveau joueur : ['Thomas Bryant'] equipe 0\n",
      "nouveau joueur : ['Jimmy Butler'] equipe 1\n",
      "nouveau joueur : ['Reggie Bullock'] equipe 1\n",
      "nouveau joueur : ['Svi Mykhailiuk'] equipe 0\n",
      "nouveau joueur : ['Mike Muscala'] equipe 0\n",
      "blesse : ['Darius Garland', 'Collin Sexton']\n",
      "blesse : ['John Konchar']\n",
      "nouveau joueur : ['Jamal Murray'] equipe 1\n",
      "nouveau joueur : ['Thomas Bryant'] equipe 0\n",
      "nouveau joueur : ['Mike Muscala'] equipe 0\n",
      "nouveau joueur : ['Reggie Bullock'] equipe 1\n",
      "blesse : ['Evan Fournier', 'Aaron Gordon']\n",
      "blesse : ['John Konchar']\n",
      "nouveau joueur : ['Jamal Murray'] equipe 0\n",
      "nouveau joueur : ['Jamal Murray'] equipe 1\n",
      "blesse : ['Cameron Payne']\n",
      "nouveau joueur : ['Jimmy Butler'] equipe 0\n",
      "nouveau joueur : ['Thomas Bryant'] equipe 1\n",
      "blesse : ['Russell Westbrook']\n",
      "blesse : ['Darius Garland', 'Collin Sexton']\n",
      "blesse : ['Evan Fournier']\n",
      "nouveau joueur : ['Trey Burke'] equipe 1\n",
      "blesse : ['Richaun Holmes']\n",
      "nouveau joueur : ['Mike Muscala'] equipe 0\n",
      "nouveau joueur : ['Jamal Murray'] equipe 0\n",
      "nouveau joueur : ['Reggie Bullock'] equipe 1\n",
      "blesse : ['Wesley Matthews']\n"
     ]
    }
   ],
   "source": [
    "with ct.ConnexionBdd('basket','maison') as c:\n",
    "    for root, dossier, files in os.walk(dossierBase) : \n",
    "        for f in files :\n",
    "            id_type_match=0\n",
    "            id_saison=1\n",
    "            if 'equipe' in f and f.endswith('.csv'): \n",
    "                continue\n",
    "            elif 'equipe' not in f and f.endswith('.csv'):\n",
    "                #recuperer l'id_match : \n",
    "                idMatch=c.sqlAlchemyConn.execute(\"SELECT last_value FROM donnees_source.match_id_match_seq\").fetchone()[0] \n",
    "                #recuperer l'identifiant du match dans le dossier contenant les fichiers\n",
    "                groupe=f.split('_')[0][1:]\n",
    "                #recuperer la date du match\n",
    "                date=f.split('_')[1][:-4]\n",
    "                #lire le fichier csv du match, transformer pour remplir la table des matchs\n",
    "                dfMatchCsv=pd.read_csv(os.path.join(root,f)).rename(columns={'equipe':'id_equipe'})\n",
    "                equipeExt=dfMatchCsv.iloc[0].id_equipe\n",
    "                equipeDom=dfMatchCsv.iloc[1].id_equipe\n",
    "                dfMatchBdd=pd.DataFrame({'id_saison':[id_saison],\n",
    "                                      'date_match':[date], \n",
    "                                      'equipe_domicile':[equipeDom], \n",
    "                                      'equipe_exterieure':[equipeExt],\n",
    "                                      'id_type_match':[id_type_match],\n",
    "                                        'id_match':idMatch})\n",
    "                #melt la table csv pour remplir la table des scores de match\n",
    "                dfScoreMatch=dfMatchCsv.melt(id_vars=['id_equipe'], value_vars=['q1','q2','q3','q4','final'],\n",
    "                            var_name='id_periode', value_name='score_periode').sort_values('id_equipe')\n",
    "                dfScoreMatch['id_match']=idMatch\n",
    "                \n",
    "                #maintenant il faut lire les fichiers stats_equipe associés\n",
    "                for i in (0,1) : \n",
    "                    nomFichierEquipe=f'm{groupe}_equipe{i}_{date}.csv'\n",
    "                    dfStatsJoueursCsv=pd.read_csv(os.path.join(root,nomFichierEquipe))\n",
    "                    #le pb ça va etre de recuperer les id_joueurs, va falloir telecharger d'abords la table de correspondance\n",
    "                    #faire la jointure en amont et ensuite on bascule tout le monde\n",
    "                    dfJoueursBdd=pd.read_sql('select * from donnees_source.joueur',c.sqlAlchemyConn)\n",
    "                    dfJoueursTot=dfStatsJoueursCsv.merge(dfJoueursBdd, on='nom')\n",
    "\n",
    "                    #pensez à checker si tous les joueurs sont présents dans la base joueur, et les ajouter si ils n'y sont pas\n",
    "                    dfJoueurInconnus=dfStatsJoueursCsv.loc[~dfStatsJoueursCsv.nom.isin(dfJoueursBdd.nom.tolist())]\n",
    "                    if not dfJoueurInconnus.empty : \n",
    "                        dfJoueurInconnus=dfJoueurInconnus[['nom', 'position']]\n",
    "                        #basculer dans Bdd\n",
    "                        #dfJoueurInconnus.to_sql('joueur', c.sqlAlchemyConn, schema='donnees_source', if_exists='append', index=False)\n",
    "                        print(f'nouveau joueur : {dfJoueurInconnus.nom.tolist()} equipe {i}')\n",
    "\n",
    "                    #refaire un import et jointure au cas où des joueurs aient été ajoutés\n",
    "                    dfJoueursBddFinal=pd.read_sql('select * from donnees_source.joueur',c.sqlAlchemyConn)\n",
    "                    dfJoueursTot=dfStatsJoueursCsv.merge(dfJoueursBddFinal, on='nom')\n",
    "\n",
    "                    #checker si des joueurs sont notés blessé et ne sont pas déjà dans la base blessure\n",
    "                    dfJoueursBlesses=dfStatsJoueursCsv.loc[dfStatsJoueursCsv['blesse']]\n",
    "                    rqtBlessesEncours=\"\"\"select b.*,j.nom \n",
    "                                          from donnees_source.joueur j JOIN donnees_source.blessure b ON j.id_joueur=b.id_joueur \n",
    "                                          WHERE b.date_guerison IS NULL\"\"\"\n",
    "                    dfJoueursBlessesBdd=pd.read_sql(rqtBlessesEncours,c.sqlAlchemyConn)\n",
    "                    if not dfJoueursBlesses.empty : #si des joueurs blesses, verifier qu'ils ne sont pas déjà presents dans la base\n",
    "                        if not dfJoueursBlesses.loc[~dfJoueursBlesses.nom.isin(dfJoueursBlessesBdd)].empty : \n",
    "                            dfJoueursBlesses.merge(dfJoueursBddFinal, on='nom')#pour récupérer l'id_joueur\n",
    "                            #dfJoueursBlesses[['id_joueur']].assign(date_blessure=date).to_sql('blessure', c.sqlAlchemyConn, schema='donnees_source', if_exists='append', index=False)\n",
    "                            print(f'blesse : {dfJoueursBlesses.nom.tolist()}')\n",
    "                            \n",
    "                    #checker si des joueurs ayant joué étaient noté blessé mais sont revenus\n",
    "\n",
    "\n",
    "                    #pensez à enlever du fichier source les joueurs n'ayant pas joué avant de creer la df des statsJoueur: \n",
    "                    dfStatsJoueursActifCsv=dfStatsJoueursCsv.loc[~dfStatsJoueursCsv['dnp']]\n",
    "\n",
    "                    #ensuite mettre en forme les stats de joueurs\n",
    "                    dfStatsJoueursBdd=dfJoueursTot[['minute', 'points', 'rebonds', 'passes_dec', 'steal',\n",
    "                       'contres', 'tir_reussi', 'tir_tentes', 'pct_tir', 'trois_pt_r',\n",
    "                       'trois_pt_t', 'pct_3_pt', 'lanc_frc_r', 'lanc_frc_t', 'pct_lfrc',\n",
    "                       'rebonds_o', 'rebonds_d', 'ball_perdu', 'faute_p', 'plus_moins', 'dnp',\n",
    "                       'blesse', 'score_ttfl', 'id_joueur']].copy()\n",
    "                    dfStatsJoueursBdd['id_match']=idMatch\n",
    "        else :\n",
    "            continue\n"
   ]
  },
  {
   "cell_type": "code",
   "execution_count": 44,
   "metadata": {},
   "outputs": [],
   "source": [
    "#test pour recuperer tous les attributs des joueurs present dans la liste des joueurs nba\n",
    "driver=DriverFirefox().driver\n",
    "driver.get('https://www.nba.com/players')\n",
    "#recupérer la liste des liens vers les pages des joueurs\n",
    "listLinkGeneral=driver.find_element_by_xpath(\"//td[@class='primary text PlayerList_primaryCol__1tWZA']\")\n",
    "listLinkJoueurs=[a.get_attribute(\"href\") for a in listLinkGeneral.find_elements_by_xpath(\"//a[@class='flex items-center t6']\")]\n",
    "def trouverLinkJoueur(nomJoueur) : \n",
    "    nomSimplifie=nomJoueur.replace(' ','-').replace('\\'','').lower()\n",
    "    return nomSimplifie\n",
    "linkJoueur=[e for e in listLinkJoueurs if trouverLinkJoueur('LaMarcus Aldridge') in e][0]"
   ]
  },
  {
   "cell_type": "code",
   "execution_count": 67,
   "metadata": {},
   "outputs": [],
   "source": [
    "#acceder à la page du joueur\n",
    "driver.get(linkJoueur)"
   ]
  },
  {
   "cell_type": "code",
   "execution_count": 68,
   "metadata": {},
   "outputs": [],
   "source": [
    "#trouver toute les caracteristiques (car les nom sde classe sont les mêmes pour tous)\n",
    "elements=driver.find_elements_by_xpath(\"//div[@class='PlayerSummary_playerInfo__1L8sx']/p[@class='PlayerSummary_playerInfoValue__mSfou']\")"
   ]
  },
  {
   "cell_type": "code",
   "execution_count": 69,
   "metadata": {},
   "outputs": [
    {
     "data": {
      "text/plain": [
       "{'date_entree_nba': '2006', 'date_naissance': Timestamp('1985-07-19 00:00:00')}"
      ]
     },
     "execution_count": 69,
     "metadata": {},
     "output_type": "execute_result"
    }
   ],
   "source": [
    "#faire un dico des caractéristiques\n",
    "{'date_entree_nba':[e.text for e in elements if re.match('[0-9]{4}',e.text)][0][:4],\n",
    " 'date_naissance':pd.to_datetime([e.text for e in elements if re.match('[a-z]{0,12} [1-9]{1,2}, [0-9]{4}',e.text.lower())][0])}"
   ]
  },
  {
   "cell_type": "markdown",
   "metadata": {},
   "source": [
    "# 4. exemple de blessure\n",
    "le joueur Markelle Fultz s'est fait une rupture des ligaments croisé, exemple d'insertion dans la table blessure"
   ]
  },
  {
   "cell_type": "code",
   "execution_count": null,
   "metadata": {},
   "outputs": [],
   "source": [
    "nomJoueurBlesse='Markelle Fultz'\n",
    "idTypeBlessure=1\n",
    "dateBlessure='2021-06-01'\n",
    "requeteBlessure = f\"\"\"insert into donnees_source.blessure(id_joueur,id_type_blessure,date_blessure) \n",
    "             select id_joueur,{idTypeBlessure},{dateBlessure} from donnees_source.joueur where lower(nom)=lower{nomJoueurBlesse}\"\"\"\n",
    "with ct.ConnexionBdd('basket','maison') as c : \n",
    "    c.execute(c.sqlAlchemyConn,requeteBlessure)"
   ]
  }
 ],
 "metadata": {
  "kernelspec": {
   "display_name": "Python 3",
   "language": "python",
   "name": "python3"
  },
  "language_info": {
   "codemirror_mode": {
    "name": "ipython",
    "version": 3
   },
   "file_extension": ".py",
   "mimetype": "text/x-python",
   "name": "python",
   "nbconvert_exporter": "python",
   "pygments_lexer": "ipython3",
   "version": "3.8.6"
  }
 },
 "nbformat": 4,
 "nbformat_minor": 4
}
