{
 "cells": [
  {
   "cell_type": "markdown",
   "metadata": {},
   "source": [
    "# **Notebook de transfert des donnees du site nba.com depuis le site ou un fichier intermediaire**"
   ]
  },
  {
   "cell_type": "code",
   "execution_count": 4,
   "metadata": {},
   "outputs": [],
   "source": [
    "%load_ext autoreload\n",
    "%autoreload 2\n",
    "import pandas as pd\n",
    "import sys, os #c'est pas propre mais pour le moment pour importer mes modules perso dans le notebook je ne sais pas faire\n",
    "sys.path.append(r'C:\\Users\\martin.schoreisz\\git\\Outils\\Outils\\Martin_Perso')\n",
    "import Connexion_Transfert as ct\n",
    "\n",
    "from datetime import datetime\n",
    "from TelechargementDonnees import JoueursSiteNba"
   ]
  },
  {
   "cell_type": "markdown",
   "metadata": {},
   "source": [
    "# 1. Données de joueurs \n",
    "Il s'agit de transfere dans le cas des donnees de joueuer telechargees en amont, ou d'ajouter des joueurs non presents au moment d'insertion de match"
   ]
  },
  {
   "cell_type": "markdown",
   "metadata": {},
   "source": [
    ">## 1.1 Enumerations des types de position\n",
    "A creer a la main"
   ]
  },
  {
   "cell_type": "code",
   "execution_count": 5,
   "metadata": {},
   "outputs": [
    {
     "ename": "TypeError",
     "evalue": "__exit__() takes 1 positional argument but 4 were given",
     "output_type": "error",
     "traceback": [
      "\u001b[1;31m---------------------------------------------------------------------------\u001b[0m",
      "\u001b[1;31mAttributeError\u001b[0m                            Traceback (most recent call last)",
      "\u001b[1;32m~\\git\\Basket\\Basket\\src\\TelechargementDonnees.py\u001b[0m in \u001b[0;36m__init__\u001b[1;34m(self, typeSource)\u001b[0m\n\u001b[0;32m    229\u001b[0m         \u001b[1;32mwith\u001b[0m \u001b[0mDriverFirefox\u001b[0m\u001b[1;33m(\u001b[0m\u001b[1;33m)\u001b[0m \u001b[1;32mas\u001b[0m \u001b[0md\u001b[0m \u001b[1;33m:\u001b[0m\u001b[1;33m\u001b[0m\u001b[1;33m\u001b[0m\u001b[0m\n\u001b[1;32m--> 230\u001b[1;33m             \u001b[0mself\u001b[0m\u001b[1;33m.\u001b[0m\u001b[0mdriver\u001b[0m\u001b[1;33m=\u001b[0m\u001b[0md\u001b[0m\u001b[1;33m.\u001b[0m\u001b[0mdriver\u001b[0m\u001b[1;33m\u001b[0m\u001b[1;33m\u001b[0m\u001b[0m\n\u001b[0m\u001b[0;32m    231\u001b[0m             \u001b[0mself\u001b[0m\u001b[1;33m.\u001b[0m\u001b[0murlPageJoueurs\u001b[0m\u001b[1;33m=\u001b[0m\u001b[1;34m'https://www.nba.com/players'\u001b[0m \u001b[1;32mif\u001b[0m \u001b[0mtypeSource\u001b[0m\u001b[1;33m==\u001b[0m\u001b[1;34m'USA'\u001b[0m \u001b[1;32melse\u001b[0m \u001b[1;34m'https://fr.global.nba.com/playerindex/'\u001b[0m\u001b[1;33m\u001b[0m\u001b[1;33m\u001b[0m\u001b[0m\n",
      "\u001b[1;31mAttributeError\u001b[0m: 'NoneType' object has no attribute 'DriverFirefox'",
      "\nDuring handling of the above exception, another exception occurred:\n",
      "\u001b[1;31mTypeError\u001b[0m                                 Traceback (most recent call last)",
      "\u001b[1;32m<ipython-input-5-89cb96ed65c0>\u001b[0m in \u001b[0;36m<module>\u001b[1;34m\u001b[0m\n\u001b[0;32m      1\u001b[0m \u001b[1;31m#creation de la classe\u001b[0m\u001b[1;33m\u001b[0m\u001b[1;33m\u001b[0m\u001b[1;33m\u001b[0m\u001b[0m\n\u001b[1;32m----> 2\u001b[1;33m \u001b[0mpagejoueuer\u001b[0m\u001b[1;33m=\u001b[0m\u001b[0mJoueursSiteNba\u001b[0m\u001b[1;33m(\u001b[0m\u001b[1;34m'USA'\u001b[0m\u001b[1;33m)\u001b[0m\u001b[1;33m\u001b[0m\u001b[1;33m\u001b[0m\u001b[0m\n\u001b[0m",
      "\u001b[1;32m~\\git\\Basket\\Basket\\src\\TelechargementDonnees.py\u001b[0m in \u001b[0;36m__init__\u001b[1;34m(self, typeSource)\u001b[0m\n\u001b[0;32m    233\u001b[0m             \u001b[0mself\u001b[0m\u001b[1;33m.\u001b[0m\u001b[0mdriver\u001b[0m\u001b[1;33m.\u001b[0m\u001b[0mget\u001b[0m\u001b[1;33m(\u001b[0m\u001b[0mself\u001b[0m\u001b[1;33m.\u001b[0m\u001b[0murlPageJoueurs\u001b[0m\u001b[1;33m)\u001b[0m\u001b[1;33m\u001b[0m\u001b[1;33m\u001b[0m\u001b[0m\n\u001b[0;32m    234\u001b[0m             \u001b[0mself\u001b[0m\u001b[1;33m.\u001b[0m\u001b[0mgererCookieJoueurs\u001b[0m\u001b[1;33m(\u001b[0m\u001b[1;33m)\u001b[0m\u001b[1;33m\u001b[0m\u001b[1;33m\u001b[0m\u001b[0m\n\u001b[1;32m--> 235\u001b[1;33m             \u001b[0mself\u001b[0m\u001b[1;33m.\u001b[0m\u001b[0mdfJoueurs\u001b[0m\u001b[1;33m=\u001b[0m\u001b[0mself\u001b[0m\u001b[1;33m.\u001b[0m\u001b[0mmiseEnFormeUSA\u001b[0m\u001b[1;33m(\u001b[0m\u001b[0mself\u001b[0m\u001b[1;33m.\u001b[0m\u001b[0mobtenirDfBaseUSA\u001b[0m\u001b[1;33m(\u001b[0m\u001b[1;33m)\u001b[0m\u001b[1;33m)\u001b[0m \u001b[1;32mif\u001b[0m \u001b[0mtypeSource\u001b[0m\u001b[1;33m==\u001b[0m\u001b[1;34m'USA'\u001b[0m \u001b[1;32melse\u001b[0m \u001b[0mself\u001b[0m\u001b[1;33m.\u001b[0m\u001b[0mmiseEnFormeDfJoueursFrance\u001b[0m\u001b[1;33m(\u001b[0m\u001b[0mself\u001b[0m\u001b[1;33m.\u001b[0m\u001b[0mcreerDfJoueursFrance\u001b[0m\u001b[1;33m(\u001b[0m\u001b[1;33m)\u001b[0m\u001b[1;33m)\u001b[0m\u001b[1;33m\u001b[0m\u001b[1;33m\u001b[0m\u001b[0m\n\u001b[0m\u001b[0;32m    236\u001b[0m \u001b[1;33m\u001b[0m\u001b[0m\n\u001b[0;32m    237\u001b[0m     \u001b[1;32mdef\u001b[0m \u001b[0mgererCookieJoueurs\u001b[0m\u001b[1;33m(\u001b[0m\u001b[0mself\u001b[0m\u001b[1;33m)\u001b[0m\u001b[1;33m:\u001b[0m\u001b[1;33m\u001b[0m\u001b[1;33m\u001b[0m\u001b[0m\n",
      "\u001b[1;31mTypeError\u001b[0m: __exit__() takes 1 positional argument but 4 were given"
     ]
    }
   ],
   "source": [
    "#creation de la classe\n",
    "pagejoueuer=JoueursSiteNba('USA')"
   ]
  },
  {
   "cell_type": "code",
   "execution_count": null,
   "metadata": {},
   "outputs": [],
   "source": [
    "with ct.ConnexionBdd('basket','maison') as c : \n",
    "    pd.DataFrame({'id_position_terrain':pagejoueuer.dfJoueurs.id_position_terrain.unique(), \n",
    "              'nom_position_terrain':['Forward ; 3 ; ailier', 'Guard ; 1 ou 2  ; meneur ou arriere', \n",
    "                                      'Center ; 5 ; Pivot' ,'Power Forward ; 4 ; ailier Fort', \n",
    "                                      'Shooting Guard ; 2 ; arriere', 'Shooting Guard ; 2 ; arriere',\n",
    "                                      'Power Forward ; 4 ; ailier Fort']}).to_sql(\n",
    "        'enum_position_terrain', c.sqlAlchemyConn, schema='donnees_source', if_exists='append', index=False)"
   ]
  },
  {
   "cell_type": "markdown",
   "metadata": {},
   "source": [
    "> ## 1.2 Donnees chargees depuis la page internet\n",
    "Là ce n'est que le premier import, on ne gère pas la mise à jour"
   ]
  },
  {
   "cell_type": "code",
   "execution_count": 5,
   "metadata": {},
   "outputs": [],
   "source": [
    "#transfert dans la Bdd\n",
    "with ct.ConnexionBdd('basket','maison') as c : \n",
    "    pagejoueuer.dfJoueurs[['nom','id_position_terrain','taille', 'poids','date_entree_nba']].to_sql(\n",
    "        'joueur', c.sqlAlchemyConn, schema='donnees_source', if_exists='append', index=False)"
   ]
  },
  {
   "cell_type": "markdown",
   "metadata": {},
   "source": [
    "# 2. Données d'équipe\n",
    "On utilise les données de joueurs pour faire la liste des equipes, et on complete avec les divisions et conférence, puis on transfere"
   ]
  },
  {
   "cell_type": "code",
   "execution_count": 6,
   "metadata": {},
   "outputs": [],
   "source": [
    "dicoDivision={'Central Division': ['MIL', 'CHI', 'IND', 'CLE', 'DET'],'Atlantic Division': ['BOS', 'BKN', 'NYK', 'TOR', \n",
    "'PHI'],'Southeast Division' : ['MIA', 'ORL', 'WAS', 'CHA', 'ATL'],'Southwest Division': ['SAS', 'HOU', 'DAL', 'NOP', \n",
    "'MEM'],'Northwest Division' : ['DEN', 'MIN', 'OKC', 'POR', 'UTA'],'Pacific Division' : ['LAC', 'LAL', 'PHX', 'GSW', 'SAC']}\n",
    "listDivision=[k for e in pagejoueuer.dfJoueurs.equipe.unique() for k,v in dicoDivision.items()  if e in v] "
   ]
  },
  {
   "cell_type": "code",
   "execution_count": 7,
   "metadata": {},
   "outputs": [],
   "source": [
    "dicoConference={'Ouest' : ['SAS', 'HOU', 'DAL', 'NOP', 'MEM','DEN', 'MIN', 'OKC', 'POR', 'UTA','LAC', 'LAL', 'PHX', \n",
    "    'GSW', 'SAC'],'Est':['MIL', 'CHI', 'IND', 'CLE', 'DET','BOS', 'BKN', 'NYK', 'TOR', 'PHI','MIA', \n",
    "                         'ORL', 'WAS', 'CHA', 'ATL']}\n",
    "dicoNom={'MIA':'Miami Heat','MIL':'Milwaukee Bucks','NOP':'New-Orleans Pelicans','SAS':'San-Antonio Spurs',\n",
    "'PHX':'Phoenix','MEM':'Memphis Grizzlies',    'BKN':'Brooklyn Nets','ORL':'Orlando Magic','LAL':'LosAngeles Lakers','POR':'Portland TrailBlazzers','TOR':'Toronto Raptors','CHI':'Chicago Bulls',\n",
    "'OKC':'Oklahoma City Thunder','WAS':'Washington Wizards','UTA':'Utah Jazz','SAC':'Sacramento Kings','CHA':'Charlotte Hornets','NYK':'New-York Knicks','DEN':'Denver Nuggets',\n",
    "'LAC':'Los Angeles Clippers','GSW':'Golden State Warriors','MIN':'Minessota TimberWolves','DET':'Detroit Pistons','DAL':'Dallas Mavericks',\n",
    "'IND':'Indiana Pacers','ATL':'Atlanta Hawks','CLE':'Cleveland Cavaliers','PHI':'Philadelphia Sixers','BOS':'Boston Celtics','HOU':'Houston Rockets'}\n",
    "listConference=[k for e in pagejoueuer.dfJoueurs.equipe.unique() for k,v in dicoConference.items()  if e in v] \n",
    "listNom=[v for k,v in dicoNom.items() for e in pagejoueuer.dfJoueurs.equipe.unique() if k==e] "
   ]
  },
  {
   "cell_type": "code",
   "execution_count": 8,
   "metadata": {},
   "outputs": [],
   "source": [
    "with ct.ConnexionBdd('basket','boulot') as c : \n",
    "    pd.DataFrame({'id_equipe':pagejoueuer.dfJoueurs.equipe.unique(),'nom_equipe': listNom,\n",
    "              'conference':listConference, 'division':listDivision}).to_sql(\n",
    "        'equipe', c.sqlAlchemyConn, schema='donnees_source', if_exists='append', index=False)"
   ]
  },
  {
   "cell_type": "markdown",
   "metadata": {},
   "source": [
    "# 3. Données de match\n",
    "Dans un premier temp on va lire les fichiers csv stcokés [ici](C:\\Users\\martin.schoreisz\\Documents\\AffairesEnCours\\temp\\basket)\n",
    "L'idée c'est d'avoir une classe match, qui va regrouper : \n",
    "- les df de matchs, statjoueur, stat\n",
    "- va falloir trier les joueuers qui n'ont pas joué avant de les basculer dans les stats joueur (attribut dnp)\n",
    "- va falloir trouver les joueurs non contenus dans la base des joueurs et les ajouter (nom à minima)\n",
    "- va falloir gérer les blessures  : \n",
    "> - les ajouter à la table blessure si elle ne sont pas déjà dedans\n",
    "> - noter comme apte les joueurs présents dans la table blessure, dont la date de guérison n'est pas connue"
   ]
  },
  {
   "cell_type": "code",
   "execution_count": 6,
   "metadata": {},
   "outputs": [],
   "source": [
    "dossierBase=r'C:\\Users\\martin.schoreisz\\git\\Basket\\Basket\\data'"
   ]
  },
  {
   "cell_type": "code",
   "execution_count": 31,
   "metadata": {},
   "outputs": [],
   "source": [
    "with ct.ConnexionBdd('basket','maison') as c:\n",
    "    for root, dossier, files in os.walk(dossierBase) : \n",
    "        for f in files :\n",
    "            id_type_match=0\n",
    "            id_saison=1\n",
    "            if 'equipe' in f and f.endswith('.csv'): \n",
    "                continue\n",
    "            elif 'equipe' not in f and f.endswith('.csv'):\n",
    "                #recuperer l'id_match : \n",
    "                idMatch=c.sqlAlchemyConn.execute(\"SELECT last_value FROM donnees_source.match_id_match_seq\").fetchone()[0] \n",
    "                #recuperer l'identifiant du match dans le dossier contenant les fichiers\n",
    "                groupe=f.split('_')[0][1:]\n",
    "                #recuperer la date du match\n",
    "                date=f.split('_')[1][:-4]\n",
    "                #lire le fichier csv du match, transformer pour remplir la table des matchs\n",
    "                dfMatchCsv=pd.read_csv(os.path.join(root,f)).rename(columns={'equipe':'id_equipe'})\n",
    "                equipeExt=dfMatchCsv.iloc[0].id_equipe\n",
    "                equipeDom=dfMatchCsv.iloc[1].id_equipe\n",
    "                dfMatchBdd=pd.DataFrame({'id_saison':[id_saison],\n",
    "                                      'date_match':[date], \n",
    "                                      'equipe_domicile':[equipeDom], \n",
    "                                      'equipe_exterieure':[equipeExt],\n",
    "                                      'id_type_match':[id_type_match],\n",
    "                                        'id_match':idMatch})\n",
    "                #melt la table csv pour remplir la table des scores de match\n",
    "                dfScoreMatch=dfMatchCsv.melt(id_vars=['id_equipe'], value_vars=['q1','q2','q3','q4','final'],\n",
    "                            var_name='id_periode', value_name='score_periode').sort_values('id_equipe')\n",
    "                dfScoreMatch['id_match']=idMatch\n",
    "                \n",
    "                #maintenant il faut lire les fichiers stats_equipe associés\n",
    "                i=1\n",
    "                nomFichierEquipe=f'm{groupe}_equipe{i}_{date}.csv'\n",
    "                dfStatsJoueursCsv=pd.read_csv(os.path.join(root,nomFichierEquipe))\n",
    "                #le pb ça va etre de recuperer les id_joueurs, va falloir telecharger d'abords la table de correspondance\n",
    "                #faire la jointure en amont et ensuite on bascule tout le monde\n",
    "                dfJoueursBdd=pd.read_sql('select * from donnees_source.joueur',c.sqlAlchemyConn)\n",
    "                dfJoueursTot=dfStatsJoueursCsv.merge(dfJoueursBdd, on='nom')\n",
    "                \n",
    "                #pensez à checker si tous les joueurs sont présents dans la base joueur, et les ajouter si ils n'y sont pas\n",
    "                dfJoueurInconnus=dfStatsJoueursCsv.loc[~dfStatsJoueursCsv.nom.isin(dfJoueursBdd.nom.tolist())]\n",
    "                if not dfJoueurInconnus.empty : \n",
    "                    dfJoueurInconnus=dfJoueurInconnus[['nom', 'position']]\n",
    "                    #basculer dans Bdd\n",
    "                    dfJoueurInconnus.to_sql('joueur', c.sqlAlchemyConn, schema='donnees_source', if_exists='append', index=False)\n",
    "                    \n",
    "                #refaire un import et jointure au cas où des joueurs aient été ajoutés\n",
    "                dfJoueursBddFinal=pd.read_sql('select * from donnees_source.joueur',c.sqlAlchemyConn)\n",
    "                dfJoueursTot=dfStatsJoueursActifCsv.merge(dfJoueursBddFinal, on='nom')\n",
    "                    \n",
    "                #checker si des joueurs sont notés blessé et ne sont pas déjà dans la base blessure\n",
    "                dfJoueursBlesses=dfStatsJoueursCsv.loc[dfStatsJoueursCsv['blesse']]\n",
    "                rqtBlessesEncours=\"\"\"select b.*,j.nom \n",
    "                                      from donnees_source.joueur j JOIN donnees_source.blessure b ON j.id_joueur=b.id_joueur \n",
    "                                      WHERE b.date_guerison IS NULL\"\"\"\n",
    "                dfJoueursBlessesBdd=pd.read_sql(rqtBlessesEncours,c.sqlAlchemyConn)\n",
    "                if not dfJoueursBlesses.empty : #si des joueurs blesses, verifier qu'ils ne sont pas déjà presents dans la base\n",
    "                    if dfJoueursBlesses.loc[~dfJoueursBlesses.nom.isin(dfJoueursBlessesBdd)] : \n",
    "                        dfJoueursBlesses.merge(dfJoueursBddFinal, on='nom')#pour récupérer l'id_joueur\n",
    "                        dfJoueursBlesses[['id_joueur']].assign(date_blessure=date).to_sql('blessure', c.sqlAlchemyConn, schema='donnees_source', if_exists='append', index=False)\n",
    "                #checker si des joueurs ayant joué étaient noté blessé mais sont revenus\n",
    "                    \n",
    "                \n",
    "                #pensez à enlever du fichier source les joueurs n'ayant pas joué avant de creer la df des statsJoueur: \n",
    "                dfStatsJoueursActifCsv=dfStatsJoueursCsv.loc[~dfStatsJoueursCsv['dnp']]\n",
    "                \n",
    "                #ensuite mettre en forme les stats de joueurs\n",
    "                dfStatsJoueursBdd=dfJoueursTot[['minute', 'points', 'rebonds', 'passes_dec', 'steal',\n",
    "                   'contres', 'tir_reussi', 'tir_tentes', 'pct_tir', 'trois_pt_r',\n",
    "                   'trois_pt_t', 'pct_3_pt', 'lanc_frc_r', 'lanc_frc_t', 'pct_lfrc',\n",
    "                   'rebonds_o', 'rebonds_d', 'ball_perdu', 'faute_p', 'plus_moins', 'dnp',\n",
    "                   'blesse', 'score_ttfl', 'id_joueur']].copy()\n",
    "                dfStatsJoueursBdd['id_match']=idMatch\n",
    "                break\n",
    "        else :\n",
    "            continue\n",
    "        break\n"
   ]
  },
  {
   "cell_type": "code",
   "execution_count": 33,
   "metadata": {},
   "outputs": [
    {
     "data": {
      "text/html": [
       "<div>\n",
       "<style scoped>\n",
       "    .dataframe tbody tr th:only-of-type {\n",
       "        vertical-align: middle;\n",
       "    }\n",
       "\n",
       "    .dataframe tbody tr th {\n",
       "        vertical-align: top;\n",
       "    }\n",
       "\n",
       "    .dataframe thead th {\n",
       "        text-align: right;\n",
       "    }\n",
       "</style>\n",
       "<table border=\"1\" class=\"dataframe\">\n",
       "  <thead>\n",
       "    <tr style=\"text-align: right;\">\n",
       "      <th></th>\n",
       "      <th>id_blessure</th>\n",
       "      <th>id_type_blessure</th>\n",
       "      <th>id_joueur</th>\n",
       "      <th>date_blessure</th>\n",
       "      <th>date_guerison</th>\n",
       "      <th>nom</th>\n",
       "    </tr>\n",
       "  </thead>\n",
       "  <tbody>\n",
       "    <tr>\n",
       "      <th>0</th>\n",
       "      <td>1</td>\n",
       "      <td>1</td>\n",
       "      <td>148</td>\n",
       "      <td>2021-01-06</td>\n",
       "      <td>None</td>\n",
       "      <td>Markelle Fultz</td>\n",
       "    </tr>\n",
       "  </tbody>\n",
       "</table>\n",
       "</div>"
      ],
      "text/plain": [
       "   id_blessure  id_type_blessure  id_joueur date_blessure date_guerison  \\\n",
       "0            1                 1        148    2021-01-06          None   \n",
       "\n",
       "              nom  \n",
       "0  Markelle Fultz  "
      ]
     },
     "execution_count": 33,
     "metadata": {},
     "output_type": "execute_result"
    }
   ],
   "source": [
    "dfJoueursBlessesBdd"
   ]
  },
  {
   "cell_type": "code",
   "execution_count": 27,
   "metadata": {},
   "outputs": [],
   "source": [
    "dfJoueurInconnus=dfStatsJoueursActifCsv.loc[~dfStatsJoueursActifCsv.nom.isin(dfJoueursBdd.nom.tolist())]"
   ]
  },
  {
   "cell_type": "code",
   "execution_count": 28,
   "metadata": {},
   "outputs": [
    {
     "data": {
      "text/html": [
       "<div>\n",
       "<style scoped>\n",
       "    .dataframe tbody tr th:only-of-type {\n",
       "        vertical-align: middle;\n",
       "    }\n",
       "\n",
       "    .dataframe tbody tr th {\n",
       "        vertical-align: top;\n",
       "    }\n",
       "\n",
       "    .dataframe thead th {\n",
       "        text-align: right;\n",
       "    }\n",
       "</style>\n",
       "<table border=\"1\" class=\"dataframe\">\n",
       "  <thead>\n",
       "    <tr style=\"text-align: right;\">\n",
       "      <th></th>\n",
       "      <th>nom</th>\n",
       "      <th>position</th>\n",
       "      <th>minute</th>\n",
       "      <th>points</th>\n",
       "      <th>rebonds</th>\n",
       "      <th>passes_dec</th>\n",
       "      <th>steal</th>\n",
       "      <th>contres</th>\n",
       "      <th>tir_reussi</th>\n",
       "      <th>tir_tentes</th>\n",
       "      <th>...</th>\n",
       "      <th>lanc_frc_t</th>\n",
       "      <th>pct_lfrc</th>\n",
       "      <th>rebonds_o</th>\n",
       "      <th>rebonds_d</th>\n",
       "      <th>ball_perdu</th>\n",
       "      <th>faute_p</th>\n",
       "      <th>plus_moins</th>\n",
       "      <th>dnp</th>\n",
       "      <th>blesse</th>\n",
       "      <th>score_ttfl</th>\n",
       "    </tr>\n",
       "  </thead>\n",
       "  <tbody>\n",
       "  </tbody>\n",
       "</table>\n",
       "<p>0 rows × 25 columns</p>\n",
       "</div>"
      ],
      "text/plain": [
       "Empty DataFrame\n",
       "Columns: [nom, position, minute, points, rebonds, passes_dec, steal, contres, tir_reussi, tir_tentes, pct_tir, trois_pt_r, trois_pt_t, pct_3_pt, lanc_frc_r, lanc_frc_t, pct_lfrc, rebonds_o, rebonds_d, ball_perdu, faute_p, plus_moins, dnp, blesse, score_ttfl]\n",
       "Index: []\n",
       "\n",
       "[0 rows x 25 columns]"
      ]
     },
     "execution_count": 28,
     "metadata": {},
     "output_type": "execute_result"
    }
   ],
   "source": [
    "dfJoueurInconnus"
   ]
  },
  {
   "cell_type": "markdown",
   "metadata": {},
   "source": [
    "# 4. exemple de blessure\n",
    "le joueur Markelle Fultz s'est fait une rupture des ligaments croisé, exemple d'insertion dans la table blessure"
   ]
  },
  {
   "cell_type": "code",
   "execution_count": null,
   "metadata": {},
   "outputs": [],
   "source": [
    "nomJoueurBlesse='Markelle Fultz'\n",
    "idTypeBlessure=1\n",
    "dateBlessure='2021-06-01'\n",
    "requeteBlessure = f\"\"\"insert into donnees_source.blessure(id_joueur,id_type_blessure,date_blessure) \n",
    "             select id_joueur,{idTypeBlessure},{dateBlessure} from donnees_source.joueur where lower(nom)=lower{nomJoueurBlesse}\"\"\"\n",
    "with ct.ConnexionBdd('basket','maison') as c : \n",
    "    c.execute(c.sqlAlchemyConn,requeteBlessure)"
   ]
  }
 ],
 "metadata": {
  "kernelspec": {
   "display_name": "Python 3",
   "language": "python",
   "name": "python3"
  },
  "language_info": {
   "codemirror_mode": {
    "name": "ipython",
    "version": 3
   },
   "file_extension": ".py",
   "mimetype": "text/x-python",
   "name": "python",
   "nbconvert_exporter": "python",
   "pygments_lexer": "ipython3",
   "version": "3.8.7"
  }
 },
 "nbformat": 4,
 "nbformat_minor": 4
}
