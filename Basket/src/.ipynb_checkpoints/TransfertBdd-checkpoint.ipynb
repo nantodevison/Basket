{
 "cells": [
  {
   "cell_type": "markdown",
   "metadata": {},
   "source": [
    "# **Notebook de transfert des donnees du site nba.com depuis le site ou un fichier intermediaire**"
   ]
  },
  {
   "cell_type": "code",
   "execution_count": 3,
   "metadata": {},
   "outputs": [],
   "source": [
    "import pandas as pd\n",
    "import sys #c'est pas propre mais pour le moment pour importer mes modules perso dans le notebook je ne sais pas faire\n",
    "sys.path.append(r'C:\\Users\\martin.schoreisz\\git\\Outils\\Outils\\Martin_Perso')\n",
    "import Connexion_Transfert as ct\n",
    "\n",
    "from TelechargementDonnees import JoueursSiteNba"
   ]
  },
  {
   "cell_type": "markdown",
   "metadata": {},
   "source": [
    "# 1. Données de joueurs \n",
    "Il s'agit de transfere dans le cas des donnees de joueuer telechargees en amont, ou d'ajouter des joueurs non presents au moment d'insertion de match"
   ]
  },
  {
   "cell_type": "markdown",
   "metadata": {},
   "source": [
    ">## 1.1 Enumerations\n",
    "A creer a la main"
   ]
  },
  {
   "cell_type": "code",
   "execution_count": 15,
   "metadata": {},
   "outputs": [],
   "source": [
    "with ct.ConnexionBdd('basket','boulot') as c : \n",
    "    pd.DataFrame({'id_position_terrain':dfJoueur.position.unique(), \n",
    "              'nom_position_terrain':['Forward ; 3 ; ailier', 'Guard ; 1 ou 2  ; meneur ou arriere', \n",
    "                                      'Center ; 5 ; Pivot' ,'Power Forward ; 4 ; ailier Fort', \n",
    "                                      'Shooting Guard ; 2 ; arriere', 'Shooting Guard ; 2 ; arriere',\n",
    "                                      'Power Forward ; 4 ; ailier Fort']}).to_sql(\n",
    "        'enum_position_terrain', c.sqlAlchemyConn, schema='donnees_source', if_exists='append', index=False)"
   ]
  },
  {
   "cell_type": "markdown",
   "metadata": {},
   "source": [
    "> ## 1.2 Donnees chargees depuis la page internet\n",
    "Là ce n'est que le premier import, on ne gère pas la mise à jour"
   ]
  },
  {
   "cell_type": "code",
   "execution_count": 5,
   "metadata": {},
   "outputs": [],
   "source": [
    "#creation de la classe\n",
    "pagejoueuer=JoueursSiteNba()"
   ]
  },
  {
   "cell_type": "code",
   "execution_count": 9,
   "metadata": {},
   "outputs": [],
   "source": [
    "#transfert dans la Bdd\n",
    "with ct.ConnexionBdd('basket','boulot') as c : \n",
    "    pagejoueuer.dfJoueurs[['nom','id_position_terrain','taille', 'poids','date_entree_nba']].to_sql(\n",
    "        'joueur', c.sqlAlchemyConn, schema='donnees_source', if_exists='append', index=False)"
   ]
  }
 ],
 "metadata": {
  "kernelspec": {
   "display_name": "Python 3",
   "language": "python",
   "name": "python3"
  },
  "language_info": {
   "codemirror_mode": {
    "name": "ipython",
    "version": 3
   },
   "file_extension": ".py",
   "mimetype": "text/x-python",
   "name": "python",
   "nbconvert_exporter": "python",
   "pygments_lexer": "ipython3",
   "version": "3.8.6"
  }
 },
 "nbformat": 4,
 "nbformat_minor": 4
}
