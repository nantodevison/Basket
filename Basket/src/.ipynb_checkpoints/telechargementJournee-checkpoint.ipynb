{
 "cells": [
  {
   "cell_type": "markdown",
   "metadata": {},
   "source": [
    "# **Notebook de test de Téléchargement de donnée de basket depuis le site nba.com**"
   ]
  },
  {
   "cell_type": "markdown",
   "metadata": {},
   "source": [
    "Sommaire"
   ]
  },
  {
   "cell_type": "markdown",
   "metadata": {},
   "source": [
    "## Imports"
   ]
  },
  {
   "cell_type": "code",
   "execution_count": 1,
   "metadata": {},
   "outputs": [],
   "source": [
    "%load_ext autoreload\n",
    "%autoreload 2\n",
    "from TelechargementDonnees import CreationDriverFirefox, JourneeSiteNba, PasDeMatchError, JoueursSiteNba\n",
    "import pandas as pd\n",
    "import numpy as np"
   ]
  },
  {
   "cell_type": "markdown",
   "metadata": {},
   "source": [
    "## 1. Telecharger les données liees aux matchs depuis le site internet pour une ou plusieurs dates  \n",
    "1. on telecharge une journee\n",
    "1. on sauvegarder dans un json"
   ]
  },
  {
   "cell_type": "code",
   "execution_count": null,
   "metadata": {},
   "outputs": [],
   "source": [
    "#telecharger une journee\n",
    "try : \n",
    "    journee=JourneeSiteNba('2021-01-02')\n",
    "except PasDeMatchError as e : \n",
    "    print(e)\n",
    "#exporter\n",
    "#journee.saveCsv()"
   ]
  },
  {
   "cell_type": "code",
   "execution_count": null,
   "metadata": {},
   "outputs": [],
   "source": [
    "# pour un ensemeble de journee : \n",
    "for j in ['2021-01-%02d' %n  for n in range(2,6)] : \n",
    "    print(j)\n",
    "    try :\n",
    "        journee=JourneeSiteNba(j)\n",
    "        journee.saveCsv()\n",
    "    except PasDeMatchError as e: \n",
    "        print(e)    \n",
    "        continue"
   ]
  },
  {
   "cell_type": "markdown",
   "metadata": {},
   "source": [
    "## 2. Telecharger les données liees aux joueurs depuis le site internet \n",
    "1. on se connecte à la page principale des joueurs\n",
    "1. on passe de lettre en lettre pour sauvegarder les donnees"
   ]
  },
  {
   "cell_type": "code",
   "execution_count": 62,
   "metadata": {},
   "outputs": [],
   "source": [
    "#creation de la classe\n",
    "pagejoueuer=JoueursSiteNba()\n",
    "#acces aux donnees\n",
    "pagejoueuer.dfJoueurs\n",
    "#export des donnees\n",
    "pagejoueuer.dfJoueurs.reset_index(drop=True).to_json(r'C:\\Users\\martin.schoreisz\\Documents\\AffairesEnCours\\temp\\basket\\Joueurs_saison_2020-2021\\Joueurs_saison_2020-2021.json')"
   ]
  }
 ],
 "metadata": {
  "kernelspec": {
   "display_name": "Python 3",
   "language": "python",
   "name": "python3"
  },
  "language_info": {
   "codemirror_mode": {
    "name": "ipython",
    "version": 3
   },
   "file_extension": ".py",
   "mimetype": "text/x-python",
   "name": "python",
   "nbconvert_exporter": "python",
   "pygments_lexer": "ipython3",
   "version": "3.8.6"
  }
 },
 "nbformat": 4,
 "nbformat_minor": 4
}
