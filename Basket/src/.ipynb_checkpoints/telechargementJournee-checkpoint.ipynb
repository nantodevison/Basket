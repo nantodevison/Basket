{
 "cells": [
  {
   "cell_type": "markdown",
   "metadata": {},
   "source": [
    "# **Notebook de test de Téléchargement de donnée de basket depuis le site nba.com**"
   ]
  },
  {
   "cell_type": "markdown",
   "metadata": {},
   "source": [
    "Sommaire"
   ]
  },
  {
   "cell_type": "markdown",
   "metadata": {},
   "source": [
    "## Imports"
   ]
  },
  {
   "cell_type": "code",
   "execution_count": 2,
   "metadata": {},
   "outputs": [
    {
     "name": "stdout",
     "output_type": "stream",
     "text": [
      "The autoreload extension is already loaded. To reload it, use:\n",
      "  %reload_ext autoreload\n"
     ]
    }
   ],
   "source": [
    "%load_ext autoreload\n",
    "%autoreload 2\n",
    "from TelechargementDonnees import (JourneeSiteNba, PasDeMatchError, JoueursSiteNba, \n",
    "                                   DriverFirefox, gererCookie, simplifierNomJoueur)\n",
    "import pandas as pd\n",
    "import numpy as np\n",
    "import time\n",
    "from collections import Counter\n",
    "\n",
    "from selenium import webdriver\n",
    "from selenium.webdriver.common.by import By\n",
    "from selenium.webdriver.support.ui import WebDriverWait\n",
    "from selenium.webdriver.support import expected_conditions as EC\n",
    "from selenium.common.exceptions import NoSuchElementException,StaleElementReferenceException,TimeoutException, ElementClickInterceptedException\n",
    "from selenium.webdriver.support.ui import Select"
   ]
  },
  {
   "cell_type": "markdown",
   "metadata": {},
   "source": [
    "## 1. Telecharger les données liees aux matchs depuis le site internet pour une ou plusieurs dates  \n",
    "1. on telecharge une journee\n",
    "1. on sauvegarder dans un json"
   ]
  },
  {
   "cell_type": "code",
   "execution_count": 10,
   "metadata": {},
   "outputs": [
    {
     "name": "stdout",
     "output_type": "stream",
     "text": [
      "0 https://www.nba.com/game/lac-vs-atl-0022000268/box-score#box-score\n",
      "1 https://www.nba.com/game/was-vs-hou-0022000269/box-score#box-score\n",
      "2 https://www.nba.com/game/nyk-vs-uta-0022000270/box-score#box-score\n"
     ]
    }
   ],
   "source": [
    "#telecharger une journee\n",
    "try : \n",
    "    journee=JourneeSiteNba('2021-01-26', dossierExportCsv=r'C:\\Users\\martin.schoreisz\\git\\Basket\\Basket\\data\\testUsa')\n",
    "    #exporter\n",
    "    #journee.saveCsv()\n",
    "except PasDeMatchError as e : \n",
    "    print(e)"
   ]
  },
  {
   "cell_type": "code",
   "execution_count": 14,
   "metadata": {},
   "outputs": [
    {
     "name": "stdout",
     "output_type": "stream",
     "text": [
      "2021-01-25\n",
      "0 https://www.nba.com/game/phi-vs-det-0022000257/box-score#box-score\n",
      "1 https://www.nba.com/game/tor-vs-ind-0022000258/box-score#box-score\n",
      "2 https://www.nba.com/game/cha-vs-orl-0022000259/box-score#box-score\n",
      "3 https://www.nba.com/game/mia-vs-bkn-0022000260/box-score#box-score\n",
      "4 https://www.nba.com/game/lal-vs-cle-0022000261/box-score#box-score\n",
      "5 https://www.nba.com/game/den-vs-dal-0022000265/box-score#box-score\n",
      "6 https://www.nba.com/game/bos-vs-chi-0022000262/box-score#box-score\n",
      "7 https://www.nba.com/game/min-vs-gsw-0022000266/box-score#box-score\n",
      "8 https://www.nba.com/game/okc-vs-por-0022000267/box-score#box-score\n",
      "2021-01-26\n",
      "0 https://www.nba.com/game/lac-vs-atl-0022000268/box-score#box-score\n",
      "1 https://www.nba.com/game/was-vs-hou-0022000269/box-score#box-score\n",
      "2 https://www.nba.com/game/nyk-vs-uta-0022000270/box-score#box-score\n"
     ]
    }
   ],
   "source": [
    "# pour un ensemble de journee : \n",
    "for j in ['2021-01-%02d' %n  for n in range(25,27)] : \n",
    "    print(j)\n",
    "    try :\n",
    "        journee=JourneeSiteNba(j,dossierExportCsv=r'C:\\Users\\martin.schoreisz\\git\\Basket\\Basket\\data\\testUsa')\n",
    "        journee.saveCsv()\n",
    "    except PasDeMatchError as e: \n",
    "        print(e)    \n",
    "        continue"
   ]
  },
  {
   "cell_type": "markdown",
   "metadata": {},
   "source": [
    "## 2. Telecharger les données liees aux joueurs depuis le site internet \n",
    "> Dans le cas ou on souhaite telecharger la totalite des donnees de la page des joueuers\n",
    "1. on se connecte à la page principale des joueurs\n",
    "1. on affiche l'integralite des donnees"
   ]
  },
  {
   "cell_type": "code",
   "execution_count": 62,
   "metadata": {},
   "outputs": [],
   "source": [
    "#creation de la classe\n",
    "pagejoueuer=EnsembleJoueursSiteNba()\n",
    "#acces aux donnees\n",
    "pagejoueuer.dfJoueurs\n",
    "#export des donnees\n",
    "pagejoueuer.dfJoueurs.reset_index(drop=True).to_json(r'C:\\Users\\martin.schoreisz\\Documents\\AffairesEnCours\\temp\\basket\\Joueurs_saison_2020-2021\\Joueurs_saison_2020-2021.json')"
   ]
  },
  {
   "cell_type": "markdown",
   "metadata": {},
   "source": [
    "## 3. Test donnees blessure sur site americain\n",
    "1. on se connecte à la page des blessures par equipes pour recuperer tous les jouuers blesses et mettre a jour la table existante \n",
    "1. on se connecte à l apage des joueurs blesses par jour on prend que le plus recent.\n",
    "\n",
    "Dans les deux cas on cherche les joueurs non presents dans la base des blesses et on fait des insert, ou on chreche les joueurs presents dans la base avec une date de guerison inconnues et on met a jour le type de blessures."
   ]
  },
  {
   "cell_type": "code",
   "execution_count": null,
   "metadata": {},
   "outputs": [],
   "source": [
    "#se connecter au site\n",
    "driver=DriverFirefox('Mano').driver\n",
    "driver.get('https://www.cbssports.com/nba/injuries')\n",
    "time.sleep(5)"
   ]
  },
  {
   "cell_type": "code",
   "execution_count": 7,
   "metadata": {},
   "outputs": [],
   "source": [
    "#recuperer tous les joueurs blesse\n",
    "importPage=pd.read_html(driver.page_source)\n",
    "dfsInjuries=pd.concat([importPage[i] for i in range(len(importPage))])"
   ]
  },
  {
   "cell_type": "code",
   "execution_count": 22,
   "metadata": {},
   "outputs": [],
   "source": [
    "#mettre a jour les nom\n",
    "dfsInjuries['Player']=dfsInjuries.Player.apply(lambda x : ' '.join(x.split()[-2:]) if Counter(x)[' ']<=4 \n",
    "                         and x.split()[-1].lower() not in ('jr.', 'sr.', 'ii','iii','iv','v')  \n",
    "                         else ' '.join(x.split()[-3:])).tolist()\n",
    "dfsInjuries['nom_simple']=dfsInjuries.Player.apply(lambda x : simplifierNomJoueur(x))"
   ]
  },
  {
   "cell_type": "code",
   "execution_count": 23,
   "metadata": {},
   "outputs": [
    {
     "data": {
      "text/html": [
       "<div>\n",
       "<style scoped>\n",
       "    .dataframe tbody tr th:only-of-type {\n",
       "        vertical-align: middle;\n",
       "    }\n",
       "\n",
       "    .dataframe tbody tr th {\n",
       "        vertical-align: top;\n",
       "    }\n",
       "\n",
       "    .dataframe thead th {\n",
       "        text-align: right;\n",
       "    }\n",
       "</style>\n",
       "<table border=\"1\" class=\"dataframe\">\n",
       "  <thead>\n",
       "    <tr style=\"text-align: right;\">\n",
       "      <th></th>\n",
       "      <th>Player</th>\n",
       "      <th>Position</th>\n",
       "      <th>Updated</th>\n",
       "      <th>Injury</th>\n",
       "      <th>Injury Status</th>\n",
       "      <th>nom_simple</th>\n",
       "    </tr>\n",
       "  </thead>\n",
       "  <tbody>\n",
       "    <tr>\n",
       "      <th>0</th>\n",
       "      <td>De'Andre Hunter</td>\n",
       "      <td>SF</td>\n",
       "      <td>Sun, Feb 7</td>\n",
       "      <td>Knee</td>\n",
       "      <td>Expected to be out until at least Mar 15</td>\n",
       "      <td>deandrehunter</td>\n",
       "    </tr>\n",
       "    <tr>\n",
       "      <th>1</th>\n",
       "      <td>Kris Dunn</td>\n",
       "      <td>PG</td>\n",
       "      <td>Thu, Jan 28</td>\n",
       "      <td>Ankle</td>\n",
       "      <td>Expected to be out until at least Feb 12</td>\n",
       "      <td>krisdunn</td>\n",
       "    </tr>\n",
       "    <tr>\n",
       "      <th>2</th>\n",
       "      <td>Bogdan Bogdanovic</td>\n",
       "      <td>SG</td>\n",
       "      <td>Sun, Jan 10</td>\n",
       "      <td>Knee</td>\n",
       "      <td>Expected to be out until at least Mar 3</td>\n",
       "      <td>bogdanbogdanovic</td>\n",
       "    </tr>\n",
       "    <tr>\n",
       "      <th>0</th>\n",
       "      <td>Romeo Langford</td>\n",
       "      <td>SG</td>\n",
       "      <td>Sun, Feb 7</td>\n",
       "      <td>Wrist</td>\n",
       "      <td>Game Time Decision</td>\n",
       "      <td>romeolangford</td>\n",
       "    </tr>\n",
       "    <tr>\n",
       "      <th>1</th>\n",
       "      <td>Jaylen Brown</td>\n",
       "      <td>SG</td>\n",
       "      <td>Sun, Feb 7</td>\n",
       "      <td>Knee</td>\n",
       "      <td>Game Time Decision</td>\n",
       "      <td>jaylenbrown</td>\n",
       "    </tr>\n",
       "  </tbody>\n",
       "</table>\n",
       "</div>"
      ],
      "text/plain": [
       "              Player Position      Updated Injury  \\\n",
       "0    De'Andre Hunter       SF   Sun, Feb 7   Knee   \n",
       "1          Kris Dunn       PG  Thu, Jan 28  Ankle   \n",
       "2  Bogdan Bogdanovic       SG  Sun, Jan 10   Knee   \n",
       "0     Romeo Langford       SG   Sun, Feb 7  Wrist   \n",
       "1       Jaylen Brown       SG   Sun, Feb 7   Knee   \n",
       "\n",
       "                              Injury Status        nom_simple  \n",
       "0  Expected to be out until at least Mar 15     deandrehunter  \n",
       "1  Expected to be out until at least Feb 12          krisdunn  \n",
       "2   Expected to be out until at least Mar 3  bogdanbogdanovic  \n",
       "0                        Game Time Decision     romeolangford  \n",
       "1                        Game Time Decision       jaylenbrown  "
      ]
     },
     "execution_count": 23,
     "metadata": {},
     "output_type": "execute_result"
    }
   ],
   "source": [
    "#récupérer les blesses en cours existants dans la base\n",
    "#mettre à jour"
   ]
  },
  {
   "cell_type": "code",
   "execution_count": null,
   "metadata": {},
   "outputs": [],
   "source": []
  }
 ],
 "metadata": {
  "kernelspec": {
   "display_name": "Python 3",
   "language": "python",
   "name": "python3"
  },
  "language_info": {
   "codemirror_mode": {
    "name": "ipython",
    "version": 3
   },
   "file_extension": ".py",
   "mimetype": "text/x-python",
   "name": "python",
   "nbconvert_exporter": "python",
   "pygments_lexer": "ipython3",
   "version": "3.8.6"
  }
 },
 "nbformat": 4,
 "nbformat_minor": 4
}
