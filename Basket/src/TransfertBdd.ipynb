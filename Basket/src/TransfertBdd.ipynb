{
 "cells": [
  {
   "cell_type": "markdown",
   "metadata": {},
   "source": [
    "# **Notebook de transfert des donnees du site nba.com depuis le site ou un fichier intermediaire**"
   ]
  },
  {
   "cell_type": "code",
   "execution_count": 1,
   "metadata": {},
   "outputs": [],
   "source": [
    "%load_ext autoreload\n",
    "%autoreload 2\n",
    "import pandas as pd\n",
    "import sys, os, re, time #c'est pas propre mais pour le moment pour importer mes modules perso dans le notebook je ne sais pas faire\n",
    "sys.path.append(r'C:\\Users\\martin.schoreisz\\git\\Outils\\Outils\\Martin_Perso')\n",
    "import Connexion_Transfert as ct\n",
    "\n",
    "from datetime import datetime\n",
    "from TelechargementDonnees import JoueursSiteNba, DriverFirefox, gererCookieNba, gererCookieTtfl,simplifierNomJoueur, JourneeSiteNba, Blessures, JoueursChoisisTtfl, Calendrier\n",
    "from TeleversementJourneeBdd import JourneeBdd, insererBlessesInconnusMatchBefore, miseAJourBlessesBdd, insererBlessesInconnusPasMatchBefore, transfertCalendrier, televerserJourneeSiteNba\n",
    "from Ihm.Initialiser_donnees_IHM import lastDates\n",
    "from sqlalchemy import MetaData\n",
    "from datetime import timedelta, date"
   ]
  },
  {
   "cell_type": "code",
   "execution_count": 7,
   "metadata": {},
   "outputs": [],
   "source": [
    "from selenium import webdriver\n",
    "from selenium.webdriver.common.by import By\n",
    "from selenium.webdriver.support.ui import WebDriverWait\n",
    "from selenium.webdriver.support import expected_conditions as EC\n",
    "from selenium.common.exceptions import NoSuchElementException,StaleElementReferenceException,TimeoutException\n",
    "from selenium.webdriver.support.ui import Select\n",
    "ignored_exceptions=(NoSuchElementException,StaleElementReferenceException,)"
   ]
  },
  {
   "cell_type": "code",
   "execution_count": 3,
   "metadata": {},
   "outputs": [],
   "source": [
    "import Ihm.MainWindow as mw"
   ]
  },
  {
   "cell_type": "code",
   "execution_count": 4,
   "metadata": {},
   "outputs": [],
   "source": [
    "pd.set_option('display.max_rows', 500)"
   ]
  },
  {
   "cell_type": "markdown",
   "metadata": {},
   "source": [
    "# 1. Données de joueurs \n",
    "Il s'agit de transfere dans le cas des donnees de joueuer telechargees en amont, ou d'ajouter des joueurs non presents au moment d'insertion de match"
   ]
  },
  {
   "cell_type": "markdown",
   "metadata": {},
   "source": [
    ">## 1.1 Enumerations des types de position\n",
    "A creer a la main"
   ]
  },
  {
   "cell_type": "code",
   "execution_count": null,
   "metadata": {},
   "outputs": [],
   "source": [
    "with ct.ConnexionBdd('basket','maison') as c : \n",
    "    pd.DataFrame({'id_position_terrain':['F', 'G', 'C', 'C-F', 'F-G', 'G-F', 'F-C','NC'], \n",
    "              'nom_position_terrain':['Forward ; 3 ; ailier', 'Guard ; 1 ou 2  ; meneur ou arriere', \n",
    "                                      'Center ; 5 ; Pivot' ,'Power Forward ; 4 ; ailier Fort', \n",
    "                                      'Shooting Guard ; 2 ; arriere', 'Shooting Guard ; 2 ; arriere',\n",
    "                                      'Power Forward ; 4 ; ailier Fort', 'Non connue']}).to_sql(\n",
    "        'enum_position_terrain', c.sqlAlchemyConn, schema='donnees_source', if_exists='append', index=False)"
   ]
  },
  {
   "cell_type": "markdown",
   "metadata": {},
   "source": [
    "> ## 1.2 Donnees chargees depuis la page internet\n",
    "Là ce n'est que le premier import, on ne gère pas la mise à jour"
   ]
  },
  {
   "cell_type": "code",
   "execution_count": 42,
   "metadata": {},
   "outputs": [],
   "source": [
    "#creation de la classe si import depuis le net\n",
    "#pagejoueuer=JoueursSiteNba(urlPageJoueurs='https://www.nba.com/player/1630173/precious-achiuwa',typeExport='One' ) #joueur unique\n",
    "pagejoueuer=JoueursSiteNba() #joueurs multiples"
   ]
  },
  {
   "cell_type": "code",
   "execution_count": null,
   "metadata": {},
   "outputs": [],
   "source": [
    "pagejoueuer.listLinkJoueurs"
   ]
  },
  {
   "cell_type": "code",
   "execution_count": null,
   "metadata": {},
   "outputs": [],
   "source": [
    "pagejoueuer.creerDfJoueur()"
   ]
  },
  {
   "cell_type": "code",
   "execution_count": 34,
   "metadata": {},
   "outputs": [],
   "source": [
    "driver=DriverFirefox('mano').driver"
   ]
  },
  {
   "cell_type": "code",
   "execution_count": 35,
   "metadata": {},
   "outputs": [],
   "source": [
    "refDivCarac='PlayerSummary_playerInfo__1L8sx'\n",
    "refParagrapheCarac='PlayerSummary_playerInfoValue__mSfou'\n",
    "refElementNom='flex flex-col text-white'\n",
    "dicoCaracJoueur={}\n",
    "driver.get('https://www.nba.com/player/1630173/precious-achiuwa')\n",
    "time.sleep(3)\n",
    "#trouver toute les caracteristiques (car les nom sde classe sont les mêmes pour tous)\n",
    "elements=WebDriverWait(driver, 20).until(EC.presence_of_all_elements_located((By.XPATH, f\"//div[@class='{refDivCarac}']/p[@class='{refParagrapheCarac}']\")))\n",
    "#self.driver.find_elements_by_xpath(f\"//div[@class='{refDivCarac}']/p[@class='{refParagrapheCarac}']\")\n",
    "nomPosition=WebDriverWait(driver, 20).until(EC.presence_of_element_located((By.XPATH, f\"//div[@class='{refElementNom}']\")))\n",
    "#self.driver.find_element_by_xpath(f\"//div[@class='{refElementNom}']\")\n",
    "listeCaracNomPosition=[e.text for e in nomPosition.find_elements_by_xpath(\".//*\")]\n",
    "dicoCaracJoueur['taille']=[float(re.sub('(\\(|\\)|m)','',re.search('(\\([1-2]\\.[0-9]{2}m\\))',e.text).group(1))) for i,e in enumerate(elements) if i==0][0]\n",
    "dicoCaracJoueur['poids']=[float(re.sub('(\\(|\\)|kg)','',re.search('(\\([0-9]{1,3}kg\\))',e.text).group(1))) for i,e in enumerate(elements) if i==1][0]\n",
    "dicoCaracJoueur['date_entree_nba']=pd.to_datetime(f\"{[2021-int(e.text.split()[0]) if e.text != 'Rookie' else 2021 for i,e in enumerate(elements) if i==7][0]  }-10-01\")\n",
    "dicoCaracJoueur['date_naissance']=pd.to_datetime([e.text for e in elements if re.match('[a-z]{0,12} [0-9]{1,2}, [0-9]{4}',e.text.lower())][0])\n",
    "dicoCaracJoueur['nom']=' '.join(listeCaracNomPosition[-2:])\n",
    "dicoCaracJoueur['nom_simple']=simplifierNomJoueur(' '.join(listeCaracNomPosition[-2:]))\n",
    "dicoCaracJoueur['id_position_terrain']='-'.join([e[0] if e in ('Center','Guard', 'Forward') else 'NC' for e in listeCaracNomPosition[0].split(' | ')[-1].split('-')])"
   ]
  },
  {
   "cell_type": "code",
   "execution_count": 37,
   "metadata": {},
   "outputs": [
    {
     "data": {
      "text/plain": [
       "{'taille': 2.03,\n",
       " 'poids': 102.0,\n",
       " 'date_entree_nba': Timestamp('2020-10-01 00:00:00'),\n",
       " 'date_naissance': Timestamp('1999-09-19 00:00:00'),\n",
       " 'nom': 'Precious Achiuwa',\n",
       " 'nom_simple': 'preciousachiuwa',\n",
       " 'id_position_terrain': 'F'}"
      ]
     },
     "execution_count": 37,
     "metadata": {},
     "output_type": "execute_result"
    }
   ],
   "source": [
    "dicoCaracJoueur"
   ]
  },
  {
   "cell_type": "code",
   "execution_count": 43,
   "metadata": {},
   "outputs": [
    {
     "data": {
      "text/html": [
       "<div>\n",
       "<style scoped>\n",
       "    .dataframe tbody tr th:only-of-type {\n",
       "        vertical-align: middle;\n",
       "    }\n",
       "\n",
       "    .dataframe tbody tr th {\n",
       "        vertical-align: top;\n",
       "    }\n",
       "\n",
       "    .dataframe thead th {\n",
       "        text-align: right;\n",
       "    }\n",
       "</style>\n",
       "<table border=\"1\" class=\"dataframe\">\n",
       "  <thead>\n",
       "    <tr style=\"text-align: right;\">\n",
       "      <th></th>\n",
       "      <th>taille</th>\n",
       "      <th>poids</th>\n",
       "      <th>date_entree_nba</th>\n",
       "      <th>date_naissance</th>\n",
       "      <th>nom</th>\n",
       "      <th>nom_simple</th>\n",
       "      <th>id_position_terrain</th>\n",
       "    </tr>\n",
       "  </thead>\n",
       "  <tbody>\n",
       "    <tr>\n",
       "      <th>0</th>\n",
       "      <td>2.03</td>\n",
       "      <td>102.0</td>\n",
       "      <td>2020-10-01</td>\n",
       "      <td>1999-09-19</td>\n",
       "      <td>Precious Achiuwa</td>\n",
       "      <td>preciousachiuwa</td>\n",
       "      <td>F</td>\n",
       "    </tr>\n",
       "    <tr>\n",
       "      <th>1</th>\n",
       "      <td>2.11</td>\n",
       "      <td>120.0</td>\n",
       "      <td>2013-10-01</td>\n",
       "      <td>1993-07-20</td>\n",
       "      <td>Steven Adams</td>\n",
       "      <td>stevenadams</td>\n",
       "      <td>C</td>\n",
       "    </tr>\n",
       "    <tr>\n",
       "      <th>2</th>\n",
       "      <td>2.06</td>\n",
       "      <td>116.0</td>\n",
       "      <td>2017-10-01</td>\n",
       "      <td>1997-07-18</td>\n",
       "      <td>Bam Adebayo</td>\n",
       "      <td>bamadebayo</td>\n",
       "      <td>C-F</td>\n",
       "    </tr>\n",
       "    <tr>\n",
       "      <th>3</th>\n",
       "      <td>2.11</td>\n",
       "      <td>98.0</td>\n",
       "      <td>2021-10-01</td>\n",
       "      <td>2001-01-10</td>\n",
       "      <td>Santi Aldama</td>\n",
       "      <td>santialdama</td>\n",
       "      <td>F-C</td>\n",
       "    </tr>\n",
       "    <tr>\n",
       "      <th>4</th>\n",
       "      <td>2.11</td>\n",
       "      <td>113.0</td>\n",
       "      <td>2006-10-01</td>\n",
       "      <td>1985-07-19</td>\n",
       "      <td>LaMarcus Aldridge</td>\n",
       "      <td>lamarcusaldridge</td>\n",
       "      <td>C-F</td>\n",
       "    </tr>\n",
       "    <tr>\n",
       "      <th>...</th>\n",
       "      <td>...</td>\n",
       "      <td>...</td>\n",
       "      <td>...</td>\n",
       "      <td>...</td>\n",
       "      <td>...</td>\n",
       "      <td>...</td>\n",
       "      <td>...</td>\n",
       "    </tr>\n",
       "    <tr>\n",
       "      <th>499</th>\n",
       "      <td>2.03</td>\n",
       "      <td>107.0</td>\n",
       "      <td>2007-10-01</td>\n",
       "      <td>1988-06-21</td>\n",
       "      <td>Thaddeus Young</td>\n",
       "      <td>thaddeusyoung</td>\n",
       "      <td>F</td>\n",
       "    </tr>\n",
       "    <tr>\n",
       "      <th>500</th>\n",
       "      <td>1.85</td>\n",
       "      <td>74.0</td>\n",
       "      <td>2018-10-01</td>\n",
       "      <td>1998-09-19</td>\n",
       "      <td>Trae Young</td>\n",
       "      <td>traeyoung</td>\n",
       "      <td>G</td>\n",
       "    </tr>\n",
       "    <tr>\n",
       "      <th>501</th>\n",
       "      <td>2.11</td>\n",
       "      <td>125.0</td>\n",
       "      <td>2021-10-01</td>\n",
       "      <td>1998-06-19</td>\n",
       "      <td>Omer Yurtseven</td>\n",
       "      <td>omeryurtseven</td>\n",
       "      <td>C</td>\n",
       "    </tr>\n",
       "    <tr>\n",
       "      <th>502</th>\n",
       "      <td>2.11</td>\n",
       "      <td>109.0</td>\n",
       "      <td>2013-10-01</td>\n",
       "      <td>1992-10-05</td>\n",
       "      <td>Cody Zeller</td>\n",
       "      <td>codyzeller</td>\n",
       "      <td>F-C</td>\n",
       "    </tr>\n",
       "    <tr>\n",
       "      <th>503</th>\n",
       "      <td>2.13</td>\n",
       "      <td>109.0</td>\n",
       "      <td>2016-10-01</td>\n",
       "      <td>1997-03-18</td>\n",
       "      <td>Ivica Zubac</td>\n",
       "      <td>ivicazubac</td>\n",
       "      <td>C</td>\n",
       "    </tr>\n",
       "  </tbody>\n",
       "</table>\n",
       "<p>504 rows × 7 columns</p>\n",
       "</div>"
      ],
      "text/plain": [
       "     taille  poids date_entree_nba date_naissance                nom  \\\n",
       "0      2.03  102.0      2020-10-01     1999-09-19   Precious Achiuwa   \n",
       "1      2.11  120.0      2013-10-01     1993-07-20       Steven Adams   \n",
       "2      2.06  116.0      2017-10-01     1997-07-18        Bam Adebayo   \n",
       "3      2.11   98.0      2021-10-01     2001-01-10       Santi Aldama   \n",
       "4      2.11  113.0      2006-10-01     1985-07-19  LaMarcus Aldridge   \n",
       "..      ...    ...             ...            ...                ...   \n",
       "499    2.03  107.0      2007-10-01     1988-06-21     Thaddeus Young   \n",
       "500    1.85   74.0      2018-10-01     1998-09-19         Trae Young   \n",
       "501    2.11  125.0      2021-10-01     1998-06-19     Omer Yurtseven   \n",
       "502    2.11  109.0      2013-10-01     1992-10-05        Cody Zeller   \n",
       "503    2.13  109.0      2016-10-01     1997-03-18        Ivica Zubac   \n",
       "\n",
       "           nom_simple id_position_terrain  \n",
       "0     preciousachiuwa                   F  \n",
       "1         stevenadams                   C  \n",
       "2          bamadebayo                 C-F  \n",
       "3         santialdama                 F-C  \n",
       "4    lamarcusaldridge                 C-F  \n",
       "..                ...                 ...  \n",
       "499     thaddeusyoung                   F  \n",
       "500         traeyoung                   G  \n",
       "501     omeryurtseven                   C  \n",
       "502        codyzeller                 F-C  \n",
       "503        ivicazubac                   C  \n",
       "\n",
       "[504 rows x 7 columns]"
      ]
     },
     "execution_count": 43,
     "metadata": {},
     "output_type": "execute_result"
    }
   ],
   "source": [
    "pagejoueuer.dfJoueurs"
   ]
  },
  {
   "cell_type": "code",
   "execution_count": 40,
   "metadata": {},
   "outputs": [],
   "source": [
    "with ct.ConnexionBdd('basket','maison') as c : \n",
    "    #remmplacer pagejoueuer.dfJoueurs par Joueur si import Json\n",
    "    Joueur[['nom','id_position_terrain','taille', 'poids','date_entree_nba','nom_simple']].to_sql(\n",
    "        'joueur', c.sqlAlchemyConn, schema='donnees_source', if_exists='append', index=False)"
   ]
  },
  {
   "cell_type": "markdown",
   "metadata": {},
   "source": [
    "# 2. Données d'équipe\n",
    "On utilise les données de joueurs pour faire la liste des equipes, et on complete avec les divisions et conférence, puis on transfere"
   ]
  },
  {
   "cell_type": "code",
   "execution_count": 41,
   "metadata": {},
   "outputs": [],
   "source": [
    "dicoNom={'MIA':'Miami Heat','MIL':'Milwaukee Bucks','NOP':'New-Orleans Pelicans','SAS':'San-Antonio Spurs',\n",
    "'PHX':'Phoenix','MEM':'Memphis Grizzlies',    'BKN':'Brooklyn Nets','ORL':'Orlando Magic','LAL':'LosAngeles Lakers','POR':'Portland TrailBlazzers','TOR':'Toronto Raptors','CHI':'Chicago Bulls',\n",
    "'OKC':'Oklahoma City Thunder','WAS':'Washington Wizards','UTA':'Utah Jazz','SAC':'Sacramento Kings','CHA':'Charlotte Hornets','NYK':'New-York Knicks','DEN':'Denver Nuggets',\n",
    "'LAC':'Los Angeles Clippers','GSW':'Golden State Warriors','MIN':'Minessota TimberWolves','DET':'Detroit Pistons','DAL':'Dallas Mavericks',\n",
    "'IND':'Indiana Pacers','ATL':'Atlanta Hawks','CLE':'Cleveland Cavaliers','PHI':'Philadelphia Sixers','BOS':'Boston Celtics','HOU':'Houston Rockets'}\n",
    "list_equipe=dicoNom.keys()"
   ]
  },
  {
   "cell_type": "code",
   "execution_count": 42,
   "metadata": {},
   "outputs": [],
   "source": [
    "dicoDivision={'Central Division': ['MIL', 'CHI', 'IND', 'CLE', 'DET'],'Atlantic Division': ['BOS', 'BKN', 'NYK', 'TOR', \n",
    "'PHI'],'Southeast Division' : ['MIA', 'ORL', 'WAS', 'CHA', 'ATL'],'Southwest Division': ['SAS', 'HOU', 'DAL', 'NOP', \n",
    "'MEM'],'Northwest Division' : ['DEN', 'MIN', 'OKC', 'POR', 'UTA'],'Pacific Division' : ['LAC', 'LAL', 'PHX', 'GSW', 'SAC']}\n",
    "listDivision=[k for e in list_equipe for k,v in dicoDivision.items()  if e in v] "
   ]
  },
  {
   "cell_type": "code",
   "execution_count": 43,
   "metadata": {},
   "outputs": [],
   "source": [
    "dicoConference={'Ouest' : ['SAS', 'HOU', 'DAL', 'NOP', 'MEM','DEN', 'MIN', 'OKC', 'POR', 'UTA','LAC', 'LAL', 'PHX', \n",
    "    'GSW', 'SAC'],'Est':['MIL', 'CHI', 'IND', 'CLE', 'DET','BOS', 'BKN', 'NYK', 'TOR', 'PHI','MIA', \n",
    "                         'ORL', 'WAS', 'CHA', 'ATL']}\n",
    "\n",
    "listConference=[k for e in list_equipe for k,v in dicoConference.items()  if e in v] \n",
    "listNom=[v for k,v in dicoNom.items() for e in list_equipe if k==e] "
   ]
  },
  {
   "cell_type": "code",
   "execution_count": 44,
   "metadata": {},
   "outputs": [],
   "source": [
    "with ct.ConnexionBdd('basket','boulot') as c : \n",
    "    pd.DataFrame({'id_equipe':list_equipe,'nom_equipe': listNom,\n",
    "              'conference':listConference, 'division':listDivision}).to_sql(\n",
    "        'equipe', c.sqlAlchemyConn, schema='donnees_source', if_exists='append', index=False)"
   ]
  },
  {
   "cell_type": "markdown",
   "metadata": {},
   "source": [
    "# 3. Données de match\n",
    "Lecture et transfert des données du site vers la bdd"
   ]
  },
  {
   "cell_type": "code",
   "execution_count": 3,
   "metadata": {},
   "outputs": [],
   "source": [
    "dateMatchRecentBdd, dateCalendrierRecent=lastDates()[0:2]"
   ]
  },
  {
   "cell_type": "code",
   "execution_count": 11,
   "metadata": {},
   "outputs": [
    {
     "data": {
      "text/plain": [
       "(datetime.date(2021, 3, 28), datetime.date(2021, 4, 12))"
      ]
     },
     "execution_count": 11,
     "metadata": {},
     "output_type": "execute_result"
    }
   ],
   "source": [
    "dateMatchRecentBdd, dateCalendrierRecent"
   ]
  },
  {
   "cell_type": "code",
   "execution_count": 4,
   "metadata": {},
   "outputs": [
    {
     "name": "stdout",
     "output_type": "stream",
     "text": [
      "2021-03-31\n",
      "0 https://www.nba.com/game/por-vs-det-0022000721/box-score#box-score\n",
      "1 https://www.nba.com/game/mia-vs-ind-0022000722/box-score#box-score\n",
      "2 https://www.nba.com/game/dal-vs-bos-0022000723/box-score#box-score\n",
      "3 https://www.nba.com/game/hou-vs-bkn-0022000724/box-score#box-score\n",
      "4 https://www.nba.com/game/uta-vs-mem-0022000725/box-score#box-score\n",
      "5 https://www.nba.com/game/nyk-vs-min-0022000726/box-score#box-score\n",
      "6 https://www.nba.com/game/tor-vs-okc-0022000727/box-score#box-score\n",
      "7 https://www.nba.com/game/sac-vs-sas-0022000728/box-score#box-score\n",
      "8 https://www.nba.com/game/mil-vs-lal-0022000729/box-score#box-score\n",
      "9 https://www.nba.com/game/chi-vs-phx-0022000730/box-score#box-score\n"
     ]
    }
   ],
   "source": [
    "listeDate=[d.strftime('%Y-%m-%d') for d in pd.date_range(start='2021-03-31',\n",
    "                                                                    periods=1)]\n",
    "for e,j in  enumerate(listeDate): \n",
    "    print(j)\n",
    "    journee=JourneeBdd(j)\n",
    "    journee.creerAttributsGlobaux()\n",
    "    journee.exporterVersBdd()"
   ]
  },
  {
   "cell_type": "markdown",
   "metadata": {},
   "source": [
    "# 4. exemple de blessure\n",
    "le joueur Markelle Fultz s'est fait une rupture des ligaments croisé, exemple d'insertion dans la table blessure"
   ]
  },
  {
   "cell_type": "code",
   "execution_count": null,
   "metadata": {},
   "outputs": [],
   "source": [
    "nomJoueurBlesse='Markelle Fultz'\n",
    "idTypeBlessure=1\n",
    "dateBlessure='2021-06-01'\n",
    "requeteBlessure = f\"\"\"insert into donnees_source.blessure(id_joueur,id_type_blessure,date_blessure) \n",
    "             select id_joueur,{idTypeBlessure},{dateBlessure} from donnees_source.joueur where lower(nom)=lower{nomJoueurBlesse}\"\"\"\n",
    "with ct.ConnexionBdd('basket','maison') as c : \n",
    "    c.execute(c.sqlAlchemyConn,requeteBlessure)"
   ]
  },
  {
   "cell_type": "code",
   "execution_count": 46,
   "metadata": {},
   "outputs": [],
   "source": [
    "#dfsInjuries=Blessures().dfInjuries\n",
    "with ct.ConnexionBdd('basket','maison') as c : \n",
    "    #miseAJourBlessesBdd(dfsInjuries,c.sqlAlchemyConn)\n",
    "    #insererBlessesInconnusMatchBefore(dfsInjuries,c.sqlAlchemyConn)\n",
    "    insererBlessesInconnusPasMatchBefore(dfsInjuries,c.sqlAlchemyConn)"
   ]
  },
  {
   "cell_type": "markdown",
   "metadata": {},
   "source": [
    "# 5. TTFL : inserer les joueurs choisis\n",
    "Inserer dans la base les joueurs deja choisis en ttfl ;  \n",
    "Pour le moment je télécharge manuellement les donnees depuis trashtalk\n",
    "à terme on pourra telecaharger auto (attention, gestion mot de passe) ou remplir directement depuis une liste exterieure"
   ]
  },
  {
   "cell_type": "code",
   "execution_count": 2,
   "metadata": {},
   "outputs": [
    {
     "name": "stdout",
     "output_type": "stream",
     "text": [
      "connexion a etablir\n"
     ]
    }
   ],
   "source": [
    "JoueurChoisis=JoueursChoisisTtfl(2)"
   ]
  },
  {
   "cell_type": "code",
   "execution_count": 6,
   "metadata": {},
   "outputs": [
    {
     "data": {
      "text/html": [
       "<div>\n",
       "<style scoped>\n",
       "    .dataframe tbody tr th:only-of-type {\n",
       "        vertical-align: middle;\n",
       "    }\n",
       "\n",
       "    .dataframe tbody tr th {\n",
       "        vertical-align: top;\n",
       "    }\n",
       "\n",
       "    .dataframe thead th {\n",
       "        text-align: right;\n",
       "    }\n",
       "</style>\n",
       "<table border=\"1\" class=\"dataframe\">\n",
       "  <thead>\n",
       "    <tr style=\"text-align: right;\">\n",
       "      <th></th>\n",
       "      <th>Date</th>\n",
       "      <th>Joueur</th>\n",
       "      <th>Pts</th>\n",
       "      <th>Reb</th>\n",
       "      <th>Ast</th>\n",
       "      <th>Stl</th>\n",
       "      <th>Blk</th>\n",
       "      <th>Ftm</th>\n",
       "      <th>Fgm</th>\n",
       "      <th>Fg3m</th>\n",
       "      <th>Malus</th>\n",
       "      <th>Score</th>\n",
       "      <th>nom_simple</th>\n",
       "      <th>id_joueur</th>\n",
       "    </tr>\n",
       "  </thead>\n",
       "  <tbody>\n",
       "    <tr>\n",
       "      <th>8</th>\n",
       "      <td>2021-10-19</td>\n",
       "      <td>Stephen Curry</td>\n",
       "      <td>21</td>\n",
       "      <td>10</td>\n",
       "      <td>10</td>\n",
       "      <td>3</td>\n",
       "      <td>0</td>\n",
       "      <td>9</td>\n",
       "      <td>5</td>\n",
       "      <td>2</td>\n",
       "      <td>26</td>\n",
       "      <td>34</td>\n",
       "      <td>stephencurry</td>\n",
       "      <td>189</td>\n",
       "    </tr>\n",
       "    <tr>\n",
       "      <th>7</th>\n",
       "      <td>2021-10-20</td>\n",
       "      <td>Joel Embiid</td>\n",
       "      <td>22</td>\n",
       "      <td>6</td>\n",
       "      <td>5</td>\n",
       "      <td>1</td>\n",
       "      <td>1</td>\n",
       "      <td>4</td>\n",
       "      <td>8</td>\n",
       "      <td>2</td>\n",
       "      <td>13</td>\n",
       "      <td>36</td>\n",
       "      <td>joelembiid</td>\n",
       "      <td>216</td>\n",
       "    </tr>\n",
       "    <tr>\n",
       "      <th>6</th>\n",
       "      <td>2021-10-21</td>\n",
       "      <td>Trae Young</td>\n",
       "      <td>19</td>\n",
       "      <td>2</td>\n",
       "      <td>14</td>\n",
       "      <td>1</td>\n",
       "      <td>0</td>\n",
       "      <td>5</td>\n",
       "      <td>6</td>\n",
       "      <td>2</td>\n",
       "      <td>18</td>\n",
       "      <td>31</td>\n",
       "      <td>traeyoung</td>\n",
       "      <td>577</td>\n",
       "    </tr>\n",
       "    <tr>\n",
       "      <th>5</th>\n",
       "      <td>2021-10-22</td>\n",
       "      <td>Julius Randle</td>\n",
       "      <td>21</td>\n",
       "      <td>10</td>\n",
       "      <td>7</td>\n",
       "      <td>2</td>\n",
       "      <td>0</td>\n",
       "      <td>1</td>\n",
       "      <td>9</td>\n",
       "      <td>2</td>\n",
       "      <td>16</td>\n",
       "      <td>36</td>\n",
       "      <td>juliusrandle</td>\n",
       "      <td>471</td>\n",
       "    </tr>\n",
       "    <tr>\n",
       "      <th>4</th>\n",
       "      <td>2021-10-23</td>\n",
       "      <td>Karl Anthony Towns</td>\n",
       "      <td>25</td>\n",
       "      <td>4</td>\n",
       "      <td>2</td>\n",
       "      <td>0</td>\n",
       "      <td>3</td>\n",
       "      <td>2</td>\n",
       "      <td>10</td>\n",
       "      <td>3</td>\n",
       "      <td>18</td>\n",
       "      <td>31</td>\n",
       "      <td>karlanthonytowns</td>\n",
       "      <td>533</td>\n",
       "    </tr>\n",
       "    <tr>\n",
       "      <th>3</th>\n",
       "      <td>2021-10-24</td>\n",
       "      <td>Jayson Tatum</td>\n",
       "      <td>31</td>\n",
       "      <td>9</td>\n",
       "      <td>2</td>\n",
       "      <td>1</td>\n",
       "      <td>1</td>\n",
       "      <td>3</td>\n",
       "      <td>12</td>\n",
       "      <td>4</td>\n",
       "      <td>21</td>\n",
       "      <td>42</td>\n",
       "      <td>jaysontatum</td>\n",
       "      <td>518</td>\n",
       "    </tr>\n",
       "    <tr>\n",
       "      <th>2</th>\n",
       "      <td>2021-10-25</td>\n",
       "      <td>LaMelo Ball</td>\n",
       "      <td>25</td>\n",
       "      <td>5</td>\n",
       "      <td>9</td>\n",
       "      <td>0</td>\n",
       "      <td>0</td>\n",
       "      <td>4</td>\n",
       "      <td>7</td>\n",
       "      <td>7</td>\n",
       "      <td>25</td>\n",
       "      <td>32</td>\n",
       "      <td>lameloball</td>\n",
       "      <td>105</td>\n",
       "    </tr>\n",
       "    <tr>\n",
       "      <th>1</th>\n",
       "      <td>2021-10-26</td>\n",
       "      <td>Luka Doncic</td>\n",
       "      <td>26</td>\n",
       "      <td>14</td>\n",
       "      <td>7</td>\n",
       "      <td>2</td>\n",
       "      <td>1</td>\n",
       "      <td>5</td>\n",
       "      <td>10</td>\n",
       "      <td>1</td>\n",
       "      <td>24</td>\n",
       "      <td>42</td>\n",
       "      <td>lukadoncic</td>\n",
       "      <td>201</td>\n",
       "    </tr>\n",
       "    <tr>\n",
       "      <th>0</th>\n",
       "      <td>2021-10-27</td>\n",
       "      <td>Anthony Davis</td>\n",
       "      <td>30</td>\n",
       "      <td>8</td>\n",
       "      <td>2</td>\n",
       "      <td>1</td>\n",
       "      <td>0</td>\n",
       "      <td>6</td>\n",
       "      <td>12</td>\n",
       "      <td>0</td>\n",
       "      <td>14</td>\n",
       "      <td>45</td>\n",
       "      <td>anthonydavis</td>\n",
       "      <td>191</td>\n",
       "    </tr>\n",
       "  </tbody>\n",
       "</table>\n",
       "</div>"
      ],
      "text/plain": [
       "        Date              Joueur Pts Reb Ast Stl Blk Ftm Fgm Fg3m Malus Score  \\\n",
       "8 2021-10-19       Stephen Curry  21  10  10   3   0   9   5    2    26    34   \n",
       "7 2021-10-20         Joel Embiid  22   6   5   1   1   4   8    2    13    36   \n",
       "6 2021-10-21          Trae Young  19   2  14   1   0   5   6    2    18    31   \n",
       "5 2021-10-22       Julius Randle  21  10   7   2   0   1   9    2    16    36   \n",
       "4 2021-10-23  Karl Anthony Towns  25   4   2   0   3   2  10    3    18    31   \n",
       "3 2021-10-24        Jayson Tatum  31   9   2   1   1   3  12    4    21    42   \n",
       "2 2021-10-25         LaMelo Ball  25   5   9   0   0   4   7    7    25    32   \n",
       "1 2021-10-26         Luka Doncic  26  14   7   2   1   5  10    1    24    42   \n",
       "0 2021-10-27       Anthony Davis  30   8   2   1   0   6  12    0    14    45   \n",
       "\n",
       "         nom_simple  id_joueur  \n",
       "8      stephencurry        189  \n",
       "7        joelembiid        216  \n",
       "6         traeyoung        577  \n",
       "5      juliusrandle        471  \n",
       "4  karlanthonytowns        533  \n",
       "3       jaysontatum        518  \n",
       "2        lameloball        105  \n",
       "1        lukadoncic        201  \n",
       "0      anthonydavis        191  "
      ]
     },
     "execution_count": 6,
     "metadata": {},
     "output_type": "execute_result"
    }
   ],
   "source": [
    "JoueurChoisis.dfJoueurChoisiId.sort_values('Date')"
   ]
  },
  {
   "cell_type": "code",
   "execution_count": 7,
   "metadata": {},
   "outputs": [
    {
     "data": {
      "text/html": [
       "<div>\n",
       "<style scoped>\n",
       "    .dataframe tbody tr th:only-of-type {\n",
       "        vertical-align: middle;\n",
       "    }\n",
       "\n",
       "    .dataframe tbody tr th {\n",
       "        vertical-align: top;\n",
       "    }\n",
       "\n",
       "    .dataframe thead th {\n",
       "        text-align: right;\n",
       "    }\n",
       "</style>\n",
       "<table border=\"1\" class=\"dataframe\">\n",
       "  <thead>\n",
       "    <tr style=\"text-align: right;\">\n",
       "      <th></th>\n",
       "      <th>Date</th>\n",
       "      <th>Joueur</th>\n",
       "      <th>Pts</th>\n",
       "      <th>Reb</th>\n",
       "      <th>Ast</th>\n",
       "      <th>Stl</th>\n",
       "      <th>Blk</th>\n",
       "      <th>Ftm</th>\n",
       "      <th>Fgm</th>\n",
       "      <th>Fg3m</th>\n",
       "      <th>Malus</th>\n",
       "      <th>Score</th>\n",
       "      <th>nom_simple</th>\n",
       "      <th>id_joueur</th>\n",
       "    </tr>\n",
       "  </thead>\n",
       "  <tbody>\n",
       "    <tr>\n",
       "      <th>0</th>\n",
       "      <td>2021-10-27</td>\n",
       "      <td>Anthony Davis</td>\n",
       "      <td>30</td>\n",
       "      <td>8</td>\n",
       "      <td>2</td>\n",
       "      <td>1</td>\n",
       "      <td>0</td>\n",
       "      <td>6</td>\n",
       "      <td>12</td>\n",
       "      <td>0</td>\n",
       "      <td>14</td>\n",
       "      <td>45</td>\n",
       "      <td>anthonydavis</td>\n",
       "      <td>191</td>\n",
       "    </tr>\n",
       "    <tr>\n",
       "      <th>1</th>\n",
       "      <td>2021-10-26</td>\n",
       "      <td>Luka Doncic</td>\n",
       "      <td>26</td>\n",
       "      <td>14</td>\n",
       "      <td>7</td>\n",
       "      <td>2</td>\n",
       "      <td>1</td>\n",
       "      <td>5</td>\n",
       "      <td>10</td>\n",
       "      <td>1</td>\n",
       "      <td>24</td>\n",
       "      <td>42</td>\n",
       "      <td>lukadoncic</td>\n",
       "      <td>201</td>\n",
       "    </tr>\n",
       "    <tr>\n",
       "      <th>2</th>\n",
       "      <td>2021-10-25</td>\n",
       "      <td>LaMelo Ball</td>\n",
       "      <td>25</td>\n",
       "      <td>5</td>\n",
       "      <td>9</td>\n",
       "      <td>0</td>\n",
       "      <td>0</td>\n",
       "      <td>4</td>\n",
       "      <td>7</td>\n",
       "      <td>7</td>\n",
       "      <td>25</td>\n",
       "      <td>32</td>\n",
       "      <td>lameloball</td>\n",
       "      <td>105</td>\n",
       "    </tr>\n",
       "    <tr>\n",
       "      <th>3</th>\n",
       "      <td>2021-10-24</td>\n",
       "      <td>Jayson Tatum</td>\n",
       "      <td>31</td>\n",
       "      <td>9</td>\n",
       "      <td>2</td>\n",
       "      <td>1</td>\n",
       "      <td>1</td>\n",
       "      <td>3</td>\n",
       "      <td>12</td>\n",
       "      <td>4</td>\n",
       "      <td>21</td>\n",
       "      <td>42</td>\n",
       "      <td>jaysontatum</td>\n",
       "      <td>518</td>\n",
       "    </tr>\n",
       "    <tr>\n",
       "      <th>4</th>\n",
       "      <td>2021-10-23</td>\n",
       "      <td>Karl Anthony Towns</td>\n",
       "      <td>25</td>\n",
       "      <td>4</td>\n",
       "      <td>2</td>\n",
       "      <td>0</td>\n",
       "      <td>3</td>\n",
       "      <td>2</td>\n",
       "      <td>10</td>\n",
       "      <td>3</td>\n",
       "      <td>18</td>\n",
       "      <td>31</td>\n",
       "      <td>karlanthonytowns</td>\n",
       "      <td>533</td>\n",
       "    </tr>\n",
       "    <tr>\n",
       "      <th>5</th>\n",
       "      <td>2021-10-22</td>\n",
       "      <td>Julius Randle</td>\n",
       "      <td>21</td>\n",
       "      <td>10</td>\n",
       "      <td>7</td>\n",
       "      <td>2</td>\n",
       "      <td>0</td>\n",
       "      <td>1</td>\n",
       "      <td>9</td>\n",
       "      <td>2</td>\n",
       "      <td>16</td>\n",
       "      <td>36</td>\n",
       "      <td>juliusrandle</td>\n",
       "      <td>471</td>\n",
       "    </tr>\n",
       "    <tr>\n",
       "      <th>6</th>\n",
       "      <td>2021-10-21</td>\n",
       "      <td>Trae Young</td>\n",
       "      <td>19</td>\n",
       "      <td>2</td>\n",
       "      <td>14</td>\n",
       "      <td>1</td>\n",
       "      <td>0</td>\n",
       "      <td>5</td>\n",
       "      <td>6</td>\n",
       "      <td>2</td>\n",
       "      <td>18</td>\n",
       "      <td>31</td>\n",
       "      <td>traeyoung</td>\n",
       "      <td>577</td>\n",
       "    </tr>\n",
       "    <tr>\n",
       "      <th>7</th>\n",
       "      <td>2021-10-20</td>\n",
       "      <td>Joel Embiid</td>\n",
       "      <td>22</td>\n",
       "      <td>6</td>\n",
       "      <td>5</td>\n",
       "      <td>1</td>\n",
       "      <td>1</td>\n",
       "      <td>4</td>\n",
       "      <td>8</td>\n",
       "      <td>2</td>\n",
       "      <td>13</td>\n",
       "      <td>36</td>\n",
       "      <td>joelembiid</td>\n",
       "      <td>216</td>\n",
       "    </tr>\n",
       "    <tr>\n",
       "      <th>8</th>\n",
       "      <td>2021-10-19</td>\n",
       "      <td>Stephen Curry</td>\n",
       "      <td>21</td>\n",
       "      <td>10</td>\n",
       "      <td>10</td>\n",
       "      <td>3</td>\n",
       "      <td>0</td>\n",
       "      <td>9</td>\n",
       "      <td>5</td>\n",
       "      <td>2</td>\n",
       "      <td>26</td>\n",
       "      <td>34</td>\n",
       "      <td>stephencurry</td>\n",
       "      <td>189</td>\n",
       "    </tr>\n",
       "  </tbody>\n",
       "</table>\n",
       "</div>"
      ],
      "text/plain": [
       "        Date              Joueur Pts Reb Ast Stl Blk Ftm Fgm Fg3m Malus Score  \\\n",
       "0 2021-10-27       Anthony Davis  30   8   2   1   0   6  12    0    14    45   \n",
       "1 2021-10-26         Luka Doncic  26  14   7   2   1   5  10    1    24    42   \n",
       "2 2021-10-25         LaMelo Ball  25   5   9   0   0   4   7    7    25    32   \n",
       "3 2021-10-24        Jayson Tatum  31   9   2   1   1   3  12    4    21    42   \n",
       "4 2021-10-23  Karl Anthony Towns  25   4   2   0   3   2  10    3    18    31   \n",
       "5 2021-10-22       Julius Randle  21  10   7   2   0   1   9    2    16    36   \n",
       "6 2021-10-21          Trae Young  19   2  14   1   0   5   6    2    18    31   \n",
       "7 2021-10-20         Joel Embiid  22   6   5   1   1   4   8    2    13    36   \n",
       "8 2021-10-19       Stephen Curry  21  10  10   3   0   9   5    2    26    34   \n",
       "\n",
       "         nom_simple  id_joueur  \n",
       "0      anthonydavis        191  \n",
       "1        lukadoncic        201  \n",
       "2        lameloball        105  \n",
       "3       jaysontatum        518  \n",
       "4  karlanthonytowns        533  \n",
       "5      juliusrandle        471  \n",
       "6         traeyoung        577  \n",
       "7        joelembiid        216  \n",
       "8      stephencurry        189  "
      ]
     },
     "execution_count": 7,
     "metadata": {},
     "output_type": "execute_result"
    }
   ],
   "source": [
    "JoueurChoisis.dfJoueurAInserer"
   ]
  },
  {
   "cell_type": "code",
   "execution_count": 3,
   "metadata": {},
   "outputs": [],
   "source": [
    "JoueurChoisis.transfertBdd()"
   ]
  },
  {
   "cell_type": "markdown",
   "metadata": {},
   "source": [
    "# 6. tranferer le calendrier des matchs a venir\n",
    "en fonction d'une date et duree.  \n",
    "il reste a mettre en place un systeme qui checke en amont les donnees deja presente et delete celle qui ne sont plus dans la journee (ou reportee, a verifier), et qui insere de nouvelle"
   ]
  },
  {
   "cell_type": "code",
   "execution_count": 5,
   "metadata": {},
   "outputs": [
    {
     "name": "stdout",
     "output_type": "stream",
     "text": [
      "debut\n",
      "avant driver\n",
      "apres driver\n",
      "Message: \n",
      "\n",
      "Pas de match le : 2021-11-25\n"
     ]
    }
   ],
   "source": [
    "transfertCalendrier(2,'23/11/2021', 30)"
   ]
  },
  {
   "cell_type": "code",
   "execution_count": 2,
   "metadata": {},
   "outputs": [],
   "source": [
    "cal=Calendrier(2, '22/11/2021', 1)"
   ]
  },
  {
   "cell_type": "code",
   "execution_count": 19,
   "metadata": {},
   "outputs": [
    {
     "name": "stdout",
     "output_type": "stream",
     "text": [
      "debut\n",
      "avant driver\n",
      "apres driver\n"
     ]
    }
   ],
   "source": [
    "id_saison=2\n",
    "date_depart='20/11/2021'\n",
    "duree=1\n",
    "listDfMatchs=[]\n",
    "urlSiteNbaScore='https://www.nba.com/games'\n",
    "print('debut')\n",
    "with DriverFirefox() as d :\n",
    "    print('avant driver')\n",
    "    driver=d.driver\n",
    "    print('apres driver')\n",
    "    for i,dateString in enumerate([d.strftime('%Y-%m-%d') \n",
    "                for d in pd.date_range(start=date_depart,periods=duree)]) :\n",
    "        urlDateJournee=fr'{urlSiteNbaScore}?date={dateString}'\n",
    "        driver.get(urlDateJournee)\n",
    "        time.sleep(3)\n",
    "        gererCookieNba(driver)\n",
    "        try :\n",
    "            elementsMatch=WebDriverWait(driver, 20).until(EC.presence_of_all_elements_located(\n",
    "                (By.XPATH,\"//a[@class='block py-3 text-xs font-bold text-center text-cerulean Anchor_complexLink__2NtkO']\")))\n",
    "        except TimeoutException as e :\n",
    "            print(e)\n",
    "            raise PasDeMatchError(d)\n",
    "        listMatch=[p.get_attribute(\"href\") for p in elementsMatch]\n",
    "        listDfMatchs.append(pd.DataFrame.from_records([(m.split('-vs-')[0][-3:].upper(), m.split('-vs-')[1][:3].upper(), dateString, id_saison) for m in listMatch if '-vs-' in m], \n",
    "                          columns=['equipe_exterieure', 'equipe_domicile', 'date_match', 'id_saison']).drop_duplicates())\n",
    "calendrier=pd.concat(listDfMatchs)"
   ]
  },
  {
   "cell_type": "code",
   "execution_count": 20,
   "metadata": {},
   "outputs": [
    {
     "data": {
      "text/html": [
       "<div>\n",
       "<style scoped>\n",
       "    .dataframe tbody tr th:only-of-type {\n",
       "        vertical-align: middle;\n",
       "    }\n",
       "\n",
       "    .dataframe tbody tr th {\n",
       "        vertical-align: top;\n",
       "    }\n",
       "\n",
       "    .dataframe thead th {\n",
       "        text-align: right;\n",
       "    }\n",
       "</style>\n",
       "<table border=\"1\" class=\"dataframe\">\n",
       "  <thead>\n",
       "    <tr style=\"text-align: right;\">\n",
       "      <th></th>\n",
       "      <th>equipe_exterieure</th>\n",
       "      <th>equipe_domicile</th>\n",
       "      <th>date_match</th>\n",
       "      <th>id_saison</th>\n",
       "    </tr>\n",
       "  </thead>\n",
       "  <tbody>\n",
       "    <tr>\n",
       "      <th>0</th>\n",
       "      <td>HOU</td>\n",
       "      <td>NYK</td>\n",
       "      <td>2021-11-20</td>\n",
       "      <td>2</td>\n",
       "    </tr>\n",
       "    <tr>\n",
       "      <th>2</th>\n",
       "      <td>NOP</td>\n",
       "      <td>IND</td>\n",
       "      <td>2021-11-20</td>\n",
       "      <td>2</td>\n",
       "    </tr>\n",
       "    <tr>\n",
       "      <th>4</th>\n",
       "      <td>MIA</td>\n",
       "      <td>WAS</td>\n",
       "      <td>2021-11-20</td>\n",
       "      <td>2</td>\n",
       "    </tr>\n",
       "    <tr>\n",
       "      <th>6</th>\n",
       "      <td>CHA</td>\n",
       "      <td>ATL</td>\n",
       "      <td>2021-11-20</td>\n",
       "      <td>2</td>\n",
       "    </tr>\n",
       "    <tr>\n",
       "      <th>8</th>\n",
       "      <td>OKC</td>\n",
       "      <td>BOS</td>\n",
       "      <td>2021-11-20</td>\n",
       "      <td>2</td>\n",
       "    </tr>\n",
       "    <tr>\n",
       "      <th>10</th>\n",
       "      <td>ORL</td>\n",
       "      <td>MIL</td>\n",
       "      <td>2021-11-20</td>\n",
       "      <td>2</td>\n",
       "    </tr>\n",
       "    <tr>\n",
       "      <th>12</th>\n",
       "      <td>MEM</td>\n",
       "      <td>MIN</td>\n",
       "      <td>2021-11-20</td>\n",
       "      <td>2</td>\n",
       "    </tr>\n",
       "    <tr>\n",
       "      <th>14</th>\n",
       "      <td>PHI</td>\n",
       "      <td>POR</td>\n",
       "      <td>2021-11-20</td>\n",
       "      <td>2</td>\n",
       "    </tr>\n",
       "    <tr>\n",
       "      <th>16</th>\n",
       "      <td>UTA</td>\n",
       "      <td>SAC</td>\n",
       "      <td>2021-11-20</td>\n",
       "      <td>2</td>\n",
       "    </tr>\n",
       "  </tbody>\n",
       "</table>\n",
       "</div>"
      ],
      "text/plain": [
       "   equipe_exterieure equipe_domicile  date_match  id_saison\n",
       "0                HOU             NYK  2021-11-20          2\n",
       "2                NOP             IND  2021-11-20          2\n",
       "4                MIA             WAS  2021-11-20          2\n",
       "6                CHA             ATL  2021-11-20          2\n",
       "8                OKC             BOS  2021-11-20          2\n",
       "10               ORL             MIL  2021-11-20          2\n",
       "12               MEM             MIN  2021-11-20          2\n",
       "14               PHI             POR  2021-11-20          2\n",
       "16               UTA             SAC  2021-11-20          2"
      ]
     },
     "execution_count": 20,
     "metadata": {},
     "output_type": "execute_result"
    }
   ],
   "source": [
    "calendrier"
   ]
  },
  {
   "cell_type": "markdown",
   "metadata": {},
   "source": [
    "# 7.Test"
   ]
  },
  {
   "cell_type": "code",
   "execution_count": 10,
   "metadata": {},
   "outputs": [],
   "source": [
    "test=mw.WorkerCalendrier(1,'2021-04-13',2)"
   ]
  },
  {
   "cell_type": "code",
   "execution_count": 11,
   "metadata": {},
   "outputs": [
    {
     "name": "stdout",
     "output_type": "stream",
     "text": [
      "debut run\n",
      "avant tranbsmission\n",
      "avant calendrier\n"
     ]
    }
   ],
   "source": [
    "test.run()"
   ]
  },
  {
   "cell_type": "code",
   "execution_count": null,
   "metadata": {},
   "outputs": [],
   "source": []
  }
 ],
 "metadata": {
  "kernelspec": {
   "display_name": "Python 3",
   "language": "python",
   "name": "python3"
  },
  "language_info": {
   "codemirror_mode": {
    "name": "ipython",
    "version": 3
   },
   "file_extension": ".py",
   "mimetype": "text/x-python",
   "name": "python",
   "nbconvert_exporter": "python",
   "pygments_lexer": "ipython3",
   "version": "3.8.7"
  }
 },
 "nbformat": 4,
 "nbformat_minor": 4
}
