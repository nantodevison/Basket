{
 "cells": [
  {
   "cell_type": "markdown",
   "metadata": {},
   "source": [
    "# **Notebook de transfert des donnees du site nba.com depuis le site ou un fichier intermediaire**"
   ]
  },
  {
   "cell_type": "code",
   "execution_count": 1,
   "metadata": {},
   "outputs": [],
   "source": [
    "import pandas as pd\n",
    "import sys, os #c'est pas propre mais pour le moment pour importer mes modules perso dans le notebook je ne sais pas faire\n",
    "sys.path.append(r'C:\\Users\\martin.schoreisz\\git\\Outils\\Outils\\Martin_Perso')\n",
    "import Connexion_Transfert as ct\n",
    "\n",
    "from datetime import datetime\n",
    "from TelechargementDonnees import JoueursSiteNba"
   ]
  },
  {
   "cell_type": "markdown",
   "metadata": {},
   "source": [
    "# 1. Données de joueurs \n",
    "Il s'agit de transfere dans le cas des donnees de joueuer telechargees en amont, ou d'ajouter des joueurs non presents au moment d'insertion de match"
   ]
  },
  {
   "cell_type": "markdown",
   "metadata": {},
   "source": [
    ">## 1.1 Enumerations des types de position\n",
    "A creer a la main"
   ]
  },
  {
   "cell_type": "code",
   "execution_count": 2,
   "metadata": {},
   "outputs": [],
   "source": [
    "#creation de la classe\n",
    "pagejoueuer=JoueursSiteNba()"
   ]
  },
  {
   "cell_type": "code",
   "execution_count": 15,
   "metadata": {},
   "outputs": [],
   "source": [
    "with ct.ConnexionBdd('basket','boulot') as c : \n",
    "    pd.DataFrame({'id_position_terrain':pagejoueuer.dfJoueurs.id_position_terrain.unique(), \n",
    "              'nom_position_terrain':['Forward ; 3 ; ailier', 'Guard ; 1 ou 2  ; meneur ou arriere', \n",
    "                                      'Center ; 5 ; Pivot' ,'Power Forward ; 4 ; ailier Fort', \n",
    "                                      'Shooting Guard ; 2 ; arriere', 'Shooting Guard ; 2 ; arriere',\n",
    "                                      'Power Forward ; 4 ; ailier Fort']}).to_sql(\n",
    "        'enum_position_terrain', c.sqlAlchemyConn, schema='donnees_source', if_exists='append', index=False)"
   ]
  },
  {
   "cell_type": "markdown",
   "metadata": {},
   "source": [
    "> ## 1.2 Donnees chargees depuis la page internet\n",
    "Là ce n'est que le premier import, on ne gère pas la mise à jour"
   ]
  },
  {
   "cell_type": "code",
   "execution_count": 9,
   "metadata": {},
   "outputs": [],
   "source": [
    "#transfert dans la Bdd\n",
    "with ct.ConnexionBdd('basket','boulot') as c : \n",
    "    pagejoueuer.dfJoueurs[['nom','id_position_terrain','taille', 'poids','date_entree_nba']].to_sql(\n",
    "        'joueur', c.sqlAlchemyConn, schema='donnees_source', if_exists='append', index=False)"
   ]
  },
  {
   "cell_type": "markdown",
   "metadata": {},
   "source": [
    "# 2. Données d'équipe\n",
    "On utilise les données de joueurs pour faire la liste des equipes, et on complete avec les divisions et conférence, puis on transfere"
   ]
  },
  {
   "cell_type": "code",
   "execution_count": 18,
   "metadata": {},
   "outputs": [],
   "source": [
    "dicoDivision={'Central Division': ['MIL', 'CHI', 'IND', 'CLE', 'DET'],'Atlantic Division': ['BOS', 'BKN', 'NYK', 'TOR', \n",
    "'PHI'],'Southeast Division' : ['MIA', 'ORL', 'WAS', 'CHA', 'ATL'],'Southwest Division': ['SAS', 'HOU', 'DAL', 'NOP', \n",
    "'MEM'],'Northwest Division' : ['DEN', 'MIN', 'OKC', 'POR', 'UTA'],'Pacific Division' : ['LAC', 'LAL', 'PHX', 'GSW', 'SAC']}\n",
    "listDivision=[k for e in pagejoueuer.dfJoueurs.equipe.unique() for k,v in dicoDivision.items()  if e in v] "
   ]
  },
  {
   "cell_type": "code",
   "execution_count": 17,
   "metadata": {},
   "outputs": [],
   "source": [
    "dicoConference={'Ouest' : ['SAS', 'HOU', 'DAL', 'NOP', 'MEM','DEN', 'MIN', 'OKC', 'POR', 'UTA','LAC', 'LAL', 'PHX', \n",
    "    'GSW', 'SAC'],'Est':['MIL', 'CHI', 'IND', 'CLE', 'DET','BOS', 'BKN', 'NYK', 'TOR', 'PHI','MIA', \n",
    "                         'ORL', 'WAS', 'CHA', 'ATL']}\n",
    "listConference=[k for e in pagejoueuer.dfJoueurs.equipe.unique() for k,v in dicoConference.items()  if e in v] "
   ]
  },
  {
   "cell_type": "code",
   "execution_count": 16,
   "metadata": {},
   "outputs": [],
   "source": [
    "with ct.ConnexionBdd('basket','boulot') as c : \n",
    "    pd.DataFrame({'nom_equipe':pagejoueuer.dfJoueurs.equipe.unique(), \n",
    "              'conference':listConference, 'division':listDivision}).to_sql(\n",
    "        'equipe', c.sqlAlchemyConn, schema='donnees_source', if_exists='append', index=False)"
   ]
  },
  {
   "cell_type": "markdown",
   "metadata": {},
   "source": [
    "# 3. Données de match\n",
    "Dans un premier temp on va lire les fichiers csv stcokés [ici](C:\\Users\\martin.schoreisz\\Documents\\AffairesEnCours\\temp\\basket)"
   ]
  },
  {
   "cell_type": "code",
   "execution_count": 2,
   "metadata": {},
   "outputs": [],
   "source": [
    "dossierBase=r'C:\\Users\\martin.schoreisz\\git\\Basket\\Basket\\data'"
   ]
  },
  {
   "cell_type": "code",
   "execution_count": 8,
   "metadata": {},
   "outputs": [
    {
     "name": "stdout",
     "output_type": "stream",
     "text": [
      "  equipe  q1  q2  q3  q4  final\n",
      "0    GSW  25  20  26  28     99\n",
      "1    BKN  40  23  36  26    125\n",
      "  equipe  q1  q2  q3  q4  final\n",
      "0    CHA  23  21  36  34    114\n",
      "1    CLE  24  41  28  28    121\n",
      "  equipe  q1  q2  q3  q4  final\n",
      "0    NOP  26  27  26  19     98\n",
      "1    MIA  29  37  22  23    111\n",
      "  equipe  q1  q2  q3  q4  final\n",
      "0    ATL  27  31  29  35    122\n",
      "1    MEM  22  34  32  24    112\n",
      "  equipe  q1  q2  q3  q4  final\n",
      "0    DAL  36  41  27  20    124\n",
      "1    LAC  13  14  30  16     73\n",
      "  equipe  q1  q2  q3  q4  final\n",
      "0    DET  25  31  31  33    120\n",
      "1    ATL  33  32  35  28    128\n",
      "  equipe  q1  q2  q3  q4  final\n",
      "0    NYK  29  24  18  24     95\n",
      "1    CLE  15  31  18  22     86\n",
      "  equipe  q1  q2  q3  q4  final\n",
      "0    MEM  19  21  31  36    107\n",
      "1    BOS  31  35  30  30    126\n",
      "  equipe  q1  q2  q3  q4  final\n",
      "0    CLE  21  30  17  31     99\n",
      "1    IND  32  25  31  31    119\n",
      "  equipe  q1  q2  q3  q4  final\n",
      "0    MEM  23  30  30  25    108\n",
      "1    CHA  19  28  20  26     93\n",
      "  equipe  q1  q2  q3  q4  final\n",
      "0    SAC  36  28  17  13     94\n",
      "1    HOU  36  28  19  19    102\n",
      "  equipe  q1  q2  q3  q4  final\n",
      "0    BOS  31  30  30  31    122\n",
      "1    DET  33  24  31  32    120\n",
      "  equipe  q1  q2  q3  q4  final\n",
      "0    CLE  19  30  18  16     83\n",
      "1    ORL  26  25  38  14    103\n",
      "  equipe  q1  q2  q3  q4  final\n",
      "0    UTA  14  30  29  23     96\n",
      "1    BKN  35  28  35  32    130\n",
      "  equipe  q1  q2  q3  q4  final\n",
      "0    HOU  30  26  31  20    107\n",
      "1    IND  35  27  28  24    114\n",
      "  equipe  q1  q2  q3  q4  final\n",
      "0    PHI  26  25  33  25    109\n",
      "1    BKN  28  37  29  28    122\n"
     ]
    }
   ],
   "source": [
    "for root, dossier, files in os.walk(dossierBase) : \n",
    "    for f in files :\n",
    "        id_type_match=0\n",
    "        id_saison=1\n",
    "        if 'equipe' not in f and f.endswith('.csv'): \n",
    "            groupe=f.split('_')[0][1:]\n",
    "            date=f.split('_')[1][:-4]\n",
    "            m=pd.read_csv(os.path.join(root,f))\n",
    "            equipeExt=m.iloc[0].equipe\n",
    "            equipeDom=m.iloc[1].equipe\n",
    "            dfEquipe=pd.DataFrame({'id_saison':[id_saison],\n",
    "                                  'date_match':[date], \n",
    "                                  'equipe_domicile':[equipeDom], \n",
    "                                  'equipe_exterieure':[equipeExt],\n",
    "                                  'id_type_match':[id_type_match]})\n",
    "            #inserer dans la base le match\n",
    "            #selectionner le last_value from sequence id_match dans une variable\n",
    "            #recuperer au passage et avant ça la correspondance entre id et nom d'equipe\n",
    "            #inserer la variable dans une df\n",
    "            #utiliser la df du match en pivot pour remplir la df des periodes  \n",
    "            print(m)\n",
    "            break\n",
    "            \n",
    "                "
   ]
  },
  {
   "cell_type": "code",
   "execution_count": null,
   "metadata": {},
   "outputs": [],
   "source": []
  }
 ],
 "metadata": {
  "kernelspec": {
   "display_name": "Python 3",
   "language": "python",
   "name": "python3"
  },
  "language_info": {
   "codemirror_mode": {
    "name": "ipython",
    "version": 3
   },
   "file_extension": ".py",
   "mimetype": "text/x-python",
   "name": "python",
   "nbconvert_exporter": "python",
   "pygments_lexer": "ipython3",
   "version": "3.8.7"
  }
 },
 "nbformat": 4,
 "nbformat_minor": 4
}
