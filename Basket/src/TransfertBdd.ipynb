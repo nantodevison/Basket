{
 "cells": [
  {
   "cell_type": "markdown",
   "metadata": {},
   "source": [
    "# **Notebook de transfert des donnees du site nba.com depuis le site ou un fichier intermediaire**"
   ]
  },
  {
   "cell_type": "code",
   "execution_count": 1,
   "metadata": {},
   "outputs": [],
   "source": [
    "%load_ext autoreload\n",
    "%autoreload 2\n",
    "import pandas as pd\n",
    "import sys, os, re, time #c'est pas propre mais pour le moment pour importer mes modules perso dans le notebook je ne sais pas faire\n",
    "sys.path.append(r'C:\\Users\\martin.schoreisz\\git\\Outils\\Outils\\Martin_Perso')\n",
    "import Connexion_Transfert as ct\n",
    "\n",
    "from datetime import datetime\n",
    "from TelechargementDonnees import JoueursSiteNba, DriverFirefox, gererCookie,simplifierNomJoueur, JourneeSiteNba, Blessures\n",
    "from TeleversementJourneeBdd import JourneeBdd, insererBlessesInconnusMatchBefore, miseAJourBlessesBdd, insererBlessesInconnusPasMatchBefore\n",
    "from sqlalchemy import MetaData"
   ]
  },
  {
   "cell_type": "code",
   "execution_count": 35,
   "metadata": {},
   "outputs": [],
   "source": [
    "pd.set_option('display.max_rows', 500)"
   ]
  },
  {
   "cell_type": "markdown",
   "metadata": {},
   "source": [
    "# 1. Données de joueurs \n",
    "Il s'agit de transfere dans le cas des donnees de joueuer telechargees en amont, ou d'ajouter des joueurs non presents au moment d'insertion de match"
   ]
  },
  {
   "cell_type": "markdown",
   "metadata": {},
   "source": [
    ">## 1.1 Enumerations des types de position\n",
    "A creer a la main"
   ]
  },
  {
   "cell_type": "code",
   "execution_count": 27,
   "metadata": {},
   "outputs": [],
   "source": [
    "with ct.ConnexionBdd('basket','maison') as c : \n",
    "    pd.DataFrame({'id_position_terrain':['F', 'G', 'C', 'C-F', 'F-G', 'G-F', 'F-C','NC'], \n",
    "              'nom_position_terrain':['Forward ; 3 ; ailier', 'Guard ; 1 ou 2  ; meneur ou arriere', \n",
    "                                      'Center ; 5 ; Pivot' ,'Power Forward ; 4 ; ailier Fort', \n",
    "                                      'Shooting Guard ; 2 ; arriere', 'Shooting Guard ; 2 ; arriere',\n",
    "                                      'Power Forward ; 4 ; ailier Fort', 'Non connue']}).to_sql(\n",
    "        'enum_position_terrain', c.sqlAlchemyConn, schema='donnees_source', if_exists='append', index=False)"
   ]
  },
  {
   "cell_type": "markdown",
   "metadata": {},
   "source": [
    "> ## 1.2 Donnees chargees depuis la page internet\n",
    "Là ce n'est que le premier import, on ne gère pas la mise à jour"
   ]
  },
  {
   "cell_type": "code",
   "execution_count": 79,
   "metadata": {},
   "outputs": [],
   "source": [
    "#creation de la classe si import depuis le net\n",
    "pagejoueuer=JoueursSiteNba(urlPageJoueurs='https://www.nba.com/player/1630173/precious-achiuwa',typeExport='One' ) #joueur unique\n",
    "pagejoueuer=JoueursSiteNba #joueurs multiples"
   ]
  },
  {
   "cell_type": "code",
   "execution_count": 80,
   "metadata": {},
   "outputs": [],
   "source": [
    "pagejoueuer.dfJoueurs"
   ]
  },
  {
   "cell_type": "code",
   "execution_count": 39,
   "metadata": {},
   "outputs": [],
   "source": [
    "#si import depuis json\n",
    "Joueur=pd.read_json(r'C:\\Users\\martin.schoreisz\\git\\Basket\\Basket\\data\\Joueurs_saison_2020-2021\\joueurs.json')\n",
    "#correction format date\n",
    "Joueur.date_entree_nba=Joueur.date_entree_nba.apply(lambda x : pd.to_datetime(x,unit='ms'))\n",
    "Joueur.date_naissance=Joueur.date_naissance.apply(lambda x : pd.to_datetime(x,unit='ms'))\n",
    "#si besoin correction position bizrre car inconnues sur le net (normalenet pris en cmpte en amont dans nouvelle versions)\n",
    "Joueur.loc[~Joueur.id_position_terrain.isin(['F', 'G', 'C', 'C-F', 'F-G', 'G-F', 'F-C','NC']),'id_position_terrain']='NC'"
   ]
  },
  {
   "cell_type": "code",
   "execution_count": 40,
   "metadata": {},
   "outputs": [],
   "source": [
    "with ct.ConnexionBdd('basket','maison') as c : \n",
    "    #remmplacer pagejoueuer.dfJoueurs par Joueur si import Json\n",
    "    Joueur[['nom','id_position_terrain','taille', 'poids','date_entree_nba','nom_simple']].to_sql(\n",
    "        'joueur', c.sqlAlchemyConn, schema='donnees_source', if_exists='append', index=False)"
   ]
  },
  {
   "cell_type": "markdown",
   "metadata": {},
   "source": [
    "# 2. Données d'équipe\n",
    "On utilise les données de joueurs pour faire la liste des equipes, et on complete avec les divisions et conférence, puis on transfere"
   ]
  },
  {
   "cell_type": "code",
   "execution_count": 41,
   "metadata": {},
   "outputs": [],
   "source": [
    "dicoNom={'MIA':'Miami Heat','MIL':'Milwaukee Bucks','NOP':'New-Orleans Pelicans','SAS':'San-Antonio Spurs',\n",
    "'PHX':'Phoenix','MEM':'Memphis Grizzlies',    'BKN':'Brooklyn Nets','ORL':'Orlando Magic','LAL':'LosAngeles Lakers','POR':'Portland TrailBlazzers','TOR':'Toronto Raptors','CHI':'Chicago Bulls',\n",
    "'OKC':'Oklahoma City Thunder','WAS':'Washington Wizards','UTA':'Utah Jazz','SAC':'Sacramento Kings','CHA':'Charlotte Hornets','NYK':'New-York Knicks','DEN':'Denver Nuggets',\n",
    "'LAC':'Los Angeles Clippers','GSW':'Golden State Warriors','MIN':'Minessota TimberWolves','DET':'Detroit Pistons','DAL':'Dallas Mavericks',\n",
    "'IND':'Indiana Pacers','ATL':'Atlanta Hawks','CLE':'Cleveland Cavaliers','PHI':'Philadelphia Sixers','BOS':'Boston Celtics','HOU':'Houston Rockets'}\n",
    "list_equipe=dicoNom.keys()"
   ]
  },
  {
   "cell_type": "code",
   "execution_count": 42,
   "metadata": {},
   "outputs": [],
   "source": [
    "dicoDivision={'Central Division': ['MIL', 'CHI', 'IND', 'CLE', 'DET'],'Atlantic Division': ['BOS', 'BKN', 'NYK', 'TOR', \n",
    "'PHI'],'Southeast Division' : ['MIA', 'ORL', 'WAS', 'CHA', 'ATL'],'Southwest Division': ['SAS', 'HOU', 'DAL', 'NOP', \n",
    "'MEM'],'Northwest Division' : ['DEN', 'MIN', 'OKC', 'POR', 'UTA'],'Pacific Division' : ['LAC', 'LAL', 'PHX', 'GSW', 'SAC']}\n",
    "listDivision=[k for e in list_equipe for k,v in dicoDivision.items()  if e in v] "
   ]
  },
  {
   "cell_type": "code",
   "execution_count": 43,
   "metadata": {},
   "outputs": [],
   "source": [
    "dicoConference={'Ouest' : ['SAS', 'HOU', 'DAL', 'NOP', 'MEM','DEN', 'MIN', 'OKC', 'POR', 'UTA','LAC', 'LAL', 'PHX', \n",
    "    'GSW', 'SAC'],'Est':['MIL', 'CHI', 'IND', 'CLE', 'DET','BOS', 'BKN', 'NYK', 'TOR', 'PHI','MIA', \n",
    "                         'ORL', 'WAS', 'CHA', 'ATL']}\n",
    "\n",
    "listConference=[k for e in list_equipe for k,v in dicoConference.items()  if e in v] \n",
    "listNom=[v for k,v in dicoNom.items() for e in list_equipe if k==e] "
   ]
  },
  {
   "cell_type": "code",
   "execution_count": 44,
   "metadata": {},
   "outputs": [],
   "source": [
    "with ct.ConnexionBdd('basket','boulot') as c : \n",
    "    pd.DataFrame({'id_equipe':list_equipe,'nom_equipe': listNom,\n",
    "              'conference':listConference, 'division':listDivision}).to_sql(\n",
    "        'equipe', c.sqlAlchemyConn, schema='donnees_source', if_exists='append', index=False)"
   ]
  },
  {
   "cell_type": "markdown",
   "metadata": {},
   "source": [
    "# 3. Données de match\n",
    "Lecture et transfert des données du site vers la bdd"
   ]
  },
  {
   "cell_type": "code",
   "execution_count": 3,
   "metadata": {},
   "outputs": [
    {
     "name": "stdout",
     "output_type": "stream",
     "text": [
      "2021-02-25\n",
      "0 https://www.nba.com/game/dal-vs-phi-0022000498/box-score#box-score\n",
      "1 https://www.nba.com/game/orl-vs-bkn-0022000499/box-score#box-score\n",
      "2 https://www.nba.com/game/sac-vs-nyk-0022000500/box-score#box-score\n",
      "3 https://www.nba.com/game/lac-vs-mem-0022000501/box-score#box-score\n",
      "4 https://www.nba.com/game/was-vs-den-0022000502/box-score#box-score\n",
      "5 https://www.nba.com/game/nop-vs-mil-0022000503/box-score#box-score\n"
     ]
    }
   ],
   "source": [
    "for j in [d.strftime('%Y-%m-%d') for d in pd.date_range(start='02/25/2021',periods=1)] : \n",
    "    print(j)\n",
    "    journee=JourneeBdd(j)\n",
    "    journee.creerAttributsGlobaux()\n",
    "    journee.exporterVersBdd()"
   ]
  },
  {
   "cell_type": "code",
   "execution_count": 5,
   "metadata": {},
   "outputs": [],
   "source": [
    "journee.dfInjuries.loc[journee.dfInjuries.nom_simple=='taureanprince']"
   ]
  },
  {
   "cell_type": "code",
   "execution_count": 5,
   "metadata": {},
   "outputs": [
    {
     "data": {
      "text/html": [
       "<div>\n",
       "<style scoped>\n",
       "    .dataframe tbody tr th:only-of-type {\n",
       "        vertical-align: middle;\n",
       "    }\n",
       "\n",
       "    .dataframe tbody tr th {\n",
       "        vertical-align: top;\n",
       "    }\n",
       "\n",
       "    .dataframe thead th {\n",
       "        text-align: right;\n",
       "    }\n",
       "</style>\n",
       "<table border=\"1\" class=\"dataframe\">\n",
       "  <thead>\n",
       "    <tr style=\"text-align: right;\">\n",
       "      <th></th>\n",
       "      <th>Player</th>\n",
       "      <th>Position</th>\n",
       "      <th>Updated</th>\n",
       "      <th>Injury</th>\n",
       "      <th>Injury Status</th>\n",
       "      <th>nom_simple</th>\n",
       "      <th>id_type_blessure</th>\n",
       "      <th>nom_blessure</th>\n",
       "    </tr>\n",
       "  </thead>\n",
       "  <tbody>\n",
       "    <tr>\n",
       "      <th>13</th>\n",
       "      <td>Taurean Prince</td>\n",
       "      <td>PF</td>\n",
       "      <td>2021-02-24</td>\n",
       "      <td>ankle</td>\n",
       "      <td>Game Time Decision</td>\n",
       "      <td>taureanprince</td>\n",
       "      <td>3</td>\n",
       "      <td>cheville</td>\n",
       "    </tr>\n",
       "  </tbody>\n",
       "</table>\n",
       "</div>"
      ],
      "text/plain": [
       "            Player Position    Updated Injury       Injury Status  \\\n",
       "13  Taurean Prince       PF 2021-02-24  ankle  Game Time Decision   \n",
       "\n",
       "       nom_simple  id_type_blessure nom_blessure  \n",
       "13  taureanprince                 3     cheville  "
      ]
     },
     "execution_count": 5,
     "metadata": {},
     "output_type": "execute_result"
    }
   ],
   "source": [
    "journee."
   ]
  },
  {
   "cell_type": "markdown",
   "metadata": {},
   "source": [
    "# 4. exemple de blessure\n",
    "le joueur Markelle Fultz s'est fait une rupture des ligaments croisé, exemple d'insertion dans la table blessure"
   ]
  },
  {
   "cell_type": "code",
   "execution_count": null,
   "metadata": {},
   "outputs": [],
   "source": [
    "nomJoueurBlesse='Markelle Fultz'\n",
    "idTypeBlessure=1\n",
    "dateBlessure='2021-06-01'\n",
    "requeteBlessure = f\"\"\"insert into donnees_source.blessure(id_joueur,id_type_blessure,date_blessure) \n",
    "             select id_joueur,{idTypeBlessure},{dateBlessure} from donnees_source.joueur where lower(nom)=lower{nomJoueurBlesse}\"\"\"\n",
    "with ct.ConnexionBdd('basket','maison') as c : \n",
    "    c.execute(c.sqlAlchemyConn,requeteBlessure)"
   ]
  },
  {
   "cell_type": "code",
   "execution_count": 46,
   "metadata": {},
   "outputs": [],
   "source": [
    "#dfsInjuries=Blessures().dfInjuries\n",
    "with ct.ConnexionBdd('basket','maison') as c : \n",
    "    #miseAJourBlessesBdd(dfsInjuries,c.sqlAlchemyConn)\n",
    "    #insererBlessesInconnusMatchBefore(dfsInjuries,c.sqlAlchemyConn)\n",
    "    insererBlessesInconnusPasMatchBefore(dfsInjuries,c.sqlAlchemyConn)"
   ]
  },
  {
   "cell_type": "code",
   "execution_count": 7,
   "metadata": {},
   "outputs": [
    {
     "data": {
      "text/html": [
       "<div>\n",
       "<style scoped>\n",
       "    .dataframe tbody tr th:only-of-type {\n",
       "        vertical-align: middle;\n",
       "    }\n",
       "\n",
       "    .dataframe tbody tr th {\n",
       "        vertical-align: top;\n",
       "    }\n",
       "\n",
       "    .dataframe thead th {\n",
       "        text-align: right;\n",
       "    }\n",
       "</style>\n",
       "<table border=\"1\" class=\"dataframe\">\n",
       "  <thead>\n",
       "    <tr style=\"text-align: right;\">\n",
       "      <th></th>\n",
       "      <th>Player</th>\n",
       "      <th>Position</th>\n",
       "      <th>Updated</th>\n",
       "      <th>Injury</th>\n",
       "      <th>Injury Status</th>\n",
       "      <th>nom_simple</th>\n",
       "      <th>id_type_blessure</th>\n",
       "      <th>nom_blessure</th>\n",
       "    </tr>\n",
       "  </thead>\n",
       "  <tbody>\n",
       "    <tr>\n",
       "      <th>0</th>\n",
       "      <td>John Collins</td>\n",
       "      <td>PF</td>\n",
       "      <td>Tue, Feb 23</td>\n",
       "      <td>concussion</td>\n",
       "      <td>Game Time Decision</td>\n",
       "      <td>johncollins</td>\n",
       "      <td>22</td>\n",
       "      <td>comossion</td>\n",
       "    </tr>\n",
       "    <tr>\n",
       "      <th>1</th>\n",
       "      <td>Kris Dunn</td>\n",
       "      <td>PG</td>\n",
       "      <td>Tue, Feb 23</td>\n",
       "      <td>ankle</td>\n",
       "      <td>Game Time Decision</td>\n",
       "      <td>krisdunn</td>\n",
       "      <td>3</td>\n",
       "      <td>cheville</td>\n",
       "    </tr>\n",
       "    <tr>\n",
       "      <th>2</th>\n",
       "      <td>Taurean Prince</td>\n",
       "      <td>PF</td>\n",
       "      <td>Tue, Feb 23</td>\n",
       "      <td>ankle</td>\n",
       "      <td>Game Time Decision</td>\n",
       "      <td>taureanprince</td>\n",
       "      <td>3</td>\n",
       "      <td>cheville</td>\n",
       "    </tr>\n",
       "    <tr>\n",
       "      <th>3</th>\n",
       "      <td>Maxi Kleber</td>\n",
       "      <td>PF</td>\n",
       "      <td>Tue, Feb 23</td>\n",
       "      <td>ankle</td>\n",
       "      <td>Game Time Decision</td>\n",
       "      <td>maxikleber</td>\n",
       "      <td>3</td>\n",
       "      <td>cheville</td>\n",
       "    </tr>\n",
       "    <tr>\n",
       "      <th>4</th>\n",
       "      <td>Eric Gordon</td>\n",
       "      <td>SG</td>\n",
       "      <td>Tue, Feb 23</td>\n",
       "      <td>ankle</td>\n",
       "      <td>Game Time Decision</td>\n",
       "      <td>ericgordon</td>\n",
       "      <td>3</td>\n",
       "      <td>cheville</td>\n",
       "    </tr>\n",
       "    <tr>\n",
       "      <th>...</th>\n",
       "      <td>...</td>\n",
       "      <td>...</td>\n",
       "      <td>...</td>\n",
       "      <td>...</td>\n",
       "      <td>...</td>\n",
       "      <td>...</td>\n",
       "      <td>...</td>\n",
       "      <td>...</td>\n",
       "    </tr>\n",
       "    <tr>\n",
       "      <th>85</th>\n",
       "      <td>Killian Tillie</td>\n",
       "      <td>C</td>\n",
       "      <td>Mon, Feb 22</td>\n",
       "      <td>foot</td>\n",
       "      <td>Expected to be out until at least Feb 26</td>\n",
       "      <td>killiantillie</td>\n",
       "      <td>6</td>\n",
       "      <td>pied</td>\n",
       "    </tr>\n",
       "    <tr>\n",
       "      <th>86</th>\n",
       "      <td>CJ McCollum</td>\n",
       "      <td>SG</td>\n",
       "      <td>Thu, Feb 18</td>\n",
       "      <td>foot</td>\n",
       "      <td>Expected to be out until at least Mar 11</td>\n",
       "      <td>cjmccollum</td>\n",
       "      <td>6</td>\n",
       "      <td>pied</td>\n",
       "    </tr>\n",
       "    <tr>\n",
       "      <th>87</th>\n",
       "      <td>Austin Rivers</td>\n",
       "      <td>PG</td>\n",
       "      <td>Tue, Feb 23</td>\n",
       "      <td>illness</td>\n",
       "      <td>Expected to be out until at least Feb 25</td>\n",
       "      <td>austinrivers</td>\n",
       "      <td>19</td>\n",
       "      <td>maladie</td>\n",
       "    </tr>\n",
       "    <tr>\n",
       "      <th>88</th>\n",
       "      <td>George Hill</td>\n",
       "      <td>PG</td>\n",
       "      <td>Tue, Feb 2</td>\n",
       "      <td>thumb</td>\n",
       "      <td>Expected to be out until at least Mar 9</td>\n",
       "      <td>georgehill</td>\n",
       "      <td>13</td>\n",
       "      <td>pouce</td>\n",
       "    </tr>\n",
       "    <tr>\n",
       "      <th>89</th>\n",
       "      <td>Abdel Nader</td>\n",
       "      <td>SF</td>\n",
       "      <td>Tue, Feb 23</td>\n",
       "      <td>thumb</td>\n",
       "      <td>Game Time Decision</td>\n",
       "      <td>abdelnader</td>\n",
       "      <td>13</td>\n",
       "      <td>pouce</td>\n",
       "    </tr>\n",
       "  </tbody>\n",
       "</table>\n",
       "<p>90 rows × 8 columns</p>\n",
       "</div>"
      ],
      "text/plain": [
       "            Player Position      Updated      Injury  \\\n",
       "0     John Collins       PF  Tue, Feb 23  concussion   \n",
       "1        Kris Dunn       PG  Tue, Feb 23       ankle   \n",
       "2   Taurean Prince       PF  Tue, Feb 23       ankle   \n",
       "3      Maxi Kleber       PF  Tue, Feb 23       ankle   \n",
       "4      Eric Gordon       SG  Tue, Feb 23       ankle   \n",
       "..             ...      ...          ...         ...   \n",
       "85  Killian Tillie        C  Mon, Feb 22        foot   \n",
       "86     CJ McCollum       SG  Thu, Feb 18        foot   \n",
       "87   Austin Rivers       PG  Tue, Feb 23     illness   \n",
       "88     George Hill       PG   Tue, Feb 2       thumb   \n",
       "89     Abdel Nader       SF  Tue, Feb 23       thumb   \n",
       "\n",
       "                               Injury Status     nom_simple  id_type_blessure  \\\n",
       "0                         Game Time Decision    johncollins                22   \n",
       "1                         Game Time Decision       krisdunn                 3   \n",
       "2                         Game Time Decision  taureanprince                 3   \n",
       "3                         Game Time Decision     maxikleber                 3   \n",
       "4                         Game Time Decision     ericgordon                 3   \n",
       "..                                       ...            ...               ...   \n",
       "85  Expected to be out until at least Feb 26  killiantillie                 6   \n",
       "86  Expected to be out until at least Mar 11     cjmccollum                 6   \n",
       "87  Expected to be out until at least Feb 25   austinrivers                19   \n",
       "88   Expected to be out until at least Mar 9     georgehill                13   \n",
       "89                        Game Time Decision     abdelnader                13   \n",
       "\n",
       "   nom_blessure  \n",
       "0     comossion  \n",
       "1      cheville  \n",
       "2      cheville  \n",
       "3      cheville  \n",
       "4      cheville  \n",
       "..          ...  \n",
       "85         pied  \n",
       "86         pied  \n",
       "87      maladie  \n",
       "88        pouce  \n",
       "89        pouce  \n",
       "\n",
       "[90 rows x 8 columns]"
      ]
     },
     "execution_count": 7,
     "metadata": {},
     "output_type": "execute_result"
    }
   ],
   "source": [
    "journee.dfInjuries#.loc[journee.dfInjuries.nom_simple=='timotheluwawucabarrot']"
   ]
  },
  {
   "cell_type": "code",
   "execution_count": 12,
   "metadata": {},
   "outputs": [
    {
     "data": {
      "text/plain": [
       "0    2021-02-23\n",
       "1    2021-02-23\n",
       "2    2021-02-23\n",
       "3    2021-02-23\n",
       "4    2021-02-23\n",
       "        ...    \n",
       "85   2021-02-22\n",
       "86   2021-02-18\n",
       "87   2021-02-23\n",
       "88   2021-02-02\n",
       "89   2021-02-23\n",
       "Name: Updated, Length: 90, dtype: datetime64[ns]"
      ]
     },
     "execution_count": 12,
     "metadata": {},
     "output_type": "execute_result"
    }
   ],
   "source": [
    "journee.dfInjuries.Updated.apply(lambda x : pd.to_datetime(x.split(', ')[1]+' '+str(datetime.now().year)))"
   ]
  },
  {
   "cell_type": "code",
   "execution_count": 21,
   "metadata": {},
   "outputs": [
    {
     "data": {
      "text/plain": [
       "datetime.datetime(2021, 2, 24, 20, 28, 15, 960895)"
      ]
     },
     "execution_count": 21,
     "metadata": {},
     "output_type": "execute_result"
    }
   ],
   "source": [
    "datetime.now()#.year"
   ]
  },
  {
   "cell_type": "code",
   "execution_count": 15,
   "metadata": {},
   "outputs": [],
   "source": []
  },
  {
   "cell_type": "code",
   "execution_count": null,
   "metadata": {},
   "outputs": [],
   "source": []
  }
 ],
 "metadata": {
  "kernelspec": {
   "display_name": "Python 3",
   "language": "python",
   "name": "python3"
  },
  "language_info": {
   "codemirror_mode": {
    "name": "ipython",
    "version": 3
   },
   "file_extension": ".py",
   "mimetype": "text/x-python",
   "name": "python",
   "nbconvert_exporter": "python",
   "pygments_lexer": "ipython3",
   "version": "3.8.7"
  }
 },
 "nbformat": 4,
 "nbformat_minor": 4
}
