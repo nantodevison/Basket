{
 "cells": [
  {
   "cell_type": "markdown",
   "metadata": {},
   "source": [
    "# **Notebook de transfert des donnees du site nba.com depuis le site ou un fichier intermediaire**"
   ]
  },
  {
   "cell_type": "code",
   "execution_count": 1,
   "metadata": {},
   "outputs": [],
   "source": [
    "%load_ext autoreload\n",
    "%autoreload 2\n",
    "import pandas as pd\n",
    "import sys, os, re, time #c'est pas propre mais pour le moment pour importer mes modules perso dans le notebook je ne sais pas faire\n",
    "sys.path.append(r'C:\\Users\\martin.schoreisz\\git\\Outils\\Outils\\Martin_Perso')\n",
    "import Connexion_Transfert as ct\n",
    "\n",
    "from datetime import datetime\n",
    "from TelechargementDonnees import JoueursSiteNba, DriverFirefox, gererCookie,simplifierNomJoueur, JourneeSiteNba, Blessures\n",
    "from TeleversementJourneeBdd import JourneeBdd, insererBlessesInconnusMatchBefore, miseAJourBlessesBdd, insererBlessesInconnusPasMatchBefore\n",
    "from sqlalchemy import MetaData"
   ]
  },
  {
   "cell_type": "code",
   "execution_count": 35,
   "metadata": {},
   "outputs": [],
   "source": [
    "pd.set_option('display.max_rows', 500)"
   ]
  },
  {
   "cell_type": "markdown",
   "metadata": {},
   "source": [
    "# 1. Données de joueurs \n",
    "Il s'agit de transfere dans le cas des donnees de joueuer telechargees en amont, ou d'ajouter des joueurs non presents au moment d'insertion de match"
   ]
  },
  {
   "cell_type": "markdown",
   "metadata": {},
   "source": [
    ">## 1.1 Enumerations des types de position\n",
    "A creer a la main"
   ]
  },
  {
   "cell_type": "code",
   "execution_count": 27,
   "metadata": {},
   "outputs": [],
   "source": [
    "with ct.ConnexionBdd('basket','maison') as c : \n",
    "    pd.DataFrame({'id_position_terrain':['F', 'G', 'C', 'C-F', 'F-G', 'G-F', 'F-C','NC'], \n",
    "              'nom_position_terrain':['Forward ; 3 ; ailier', 'Guard ; 1 ou 2  ; meneur ou arriere', \n",
    "                                      'Center ; 5 ; Pivot' ,'Power Forward ; 4 ; ailier Fort', \n",
    "                                      'Shooting Guard ; 2 ; arriere', 'Shooting Guard ; 2 ; arriere',\n",
    "                                      'Power Forward ; 4 ; ailier Fort', 'Non connue']}).to_sql(\n",
    "        'enum_position_terrain', c.sqlAlchemyConn, schema='donnees_source', if_exists='append', index=False)"
   ]
  },
  {
   "cell_type": "markdown",
   "metadata": {},
   "source": [
    "> ## 1.2 Donnees chargees depuis la page internet\n",
    "Là ce n'est que le premier import, on ne gère pas la mise à jour"
   ]
  },
  {
   "cell_type": "code",
   "execution_count": 79,
   "metadata": {},
   "outputs": [],
   "source": [
    "#creation de la classe si import depuis le net\n",
    "pagejoueuer=JoueursSiteNba(urlPageJoueurs='https://www.nba.com/player/1630173/precious-achiuwa',typeExport='One' ) #joueur unique\n",
    "pagejoueuer=JoueursSiteNba #joueurs multiples"
   ]
  },
  {
   "cell_type": "code",
   "execution_count": 80,
   "metadata": {},
   "outputs": [],
   "source": [
    "pagejoueuer.dfJoueurs"
   ]
  },
  {
   "cell_type": "code",
   "execution_count": 39,
   "metadata": {},
   "outputs": [],
   "source": [
    "#si import depuis json\n",
    "Joueur=pd.read_json(r'C:\\Users\\martin.schoreisz\\git\\Basket\\Basket\\data\\Joueurs_saison_2020-2021\\joueurs.json')\n",
    "#correction format date\n",
    "Joueur.date_entree_nba=Joueur.date_entree_nba.apply(lambda x : pd.to_datetime(x,unit='ms'))\n",
    "Joueur.date_naissance=Joueur.date_naissance.apply(lambda x : pd.to_datetime(x,unit='ms'))\n",
    "#si besoin correction position bizrre car inconnues sur le net (normalenet pris en cmpte en amont dans nouvelle versions)\n",
    "Joueur.loc[~Joueur.id_position_terrain.isin(['F', 'G', 'C', 'C-F', 'F-G', 'G-F', 'F-C','NC']),'id_position_terrain']='NC'"
   ]
  },
  {
   "cell_type": "code",
   "execution_count": 40,
   "metadata": {},
   "outputs": [],
   "source": [
    "with ct.ConnexionBdd('basket','maison') as c : \n",
    "    #remmplacer pagejoueuer.dfJoueurs par Joueur si import Json\n",
    "    Joueur[['nom','id_position_terrain','taille', 'poids','date_entree_nba','nom_simple']].to_sql(\n",
    "        'joueur', c.sqlAlchemyConn, schema='donnees_source', if_exists='append', index=False)"
   ]
  },
  {
   "cell_type": "markdown",
   "metadata": {},
   "source": [
    "# 2. Données d'équipe\n",
    "On utilise les données de joueurs pour faire la liste des equipes, et on complete avec les divisions et conférence, puis on transfere"
   ]
  },
  {
   "cell_type": "code",
   "execution_count": 41,
   "metadata": {},
   "outputs": [],
   "source": [
    "dicoNom={'MIA':'Miami Heat','MIL':'Milwaukee Bucks','NOP':'New-Orleans Pelicans','SAS':'San-Antonio Spurs',\n",
    "'PHX':'Phoenix','MEM':'Memphis Grizzlies',    'BKN':'Brooklyn Nets','ORL':'Orlando Magic','LAL':'LosAngeles Lakers','POR':'Portland TrailBlazzers','TOR':'Toronto Raptors','CHI':'Chicago Bulls',\n",
    "'OKC':'Oklahoma City Thunder','WAS':'Washington Wizards','UTA':'Utah Jazz','SAC':'Sacramento Kings','CHA':'Charlotte Hornets','NYK':'New-York Knicks','DEN':'Denver Nuggets',\n",
    "'LAC':'Los Angeles Clippers','GSW':'Golden State Warriors','MIN':'Minessota TimberWolves','DET':'Detroit Pistons','DAL':'Dallas Mavericks',\n",
    "'IND':'Indiana Pacers','ATL':'Atlanta Hawks','CLE':'Cleveland Cavaliers','PHI':'Philadelphia Sixers','BOS':'Boston Celtics','HOU':'Houston Rockets'}\n",
    "list_equipe=dicoNom.keys()"
   ]
  },
  {
   "cell_type": "code",
   "execution_count": 42,
   "metadata": {},
   "outputs": [],
   "source": [
    "dicoDivision={'Central Division': ['MIL', 'CHI', 'IND', 'CLE', 'DET'],'Atlantic Division': ['BOS', 'BKN', 'NYK', 'TOR', \n",
    "'PHI'],'Southeast Division' : ['MIA', 'ORL', 'WAS', 'CHA', 'ATL'],'Southwest Division': ['SAS', 'HOU', 'DAL', 'NOP', \n",
    "'MEM'],'Northwest Division' : ['DEN', 'MIN', 'OKC', 'POR', 'UTA'],'Pacific Division' : ['LAC', 'LAL', 'PHX', 'GSW', 'SAC']}\n",
    "listDivision=[k for e in list_equipe for k,v in dicoDivision.items()  if e in v] "
   ]
  },
  {
   "cell_type": "code",
   "execution_count": 43,
   "metadata": {},
   "outputs": [],
   "source": [
    "dicoConference={'Ouest' : ['SAS', 'HOU', 'DAL', 'NOP', 'MEM','DEN', 'MIN', 'OKC', 'POR', 'UTA','LAC', 'LAL', 'PHX', \n",
    "    'GSW', 'SAC'],'Est':['MIL', 'CHI', 'IND', 'CLE', 'DET','BOS', 'BKN', 'NYK', 'TOR', 'PHI','MIA', \n",
    "                         'ORL', 'WAS', 'CHA', 'ATL']}\n",
    "\n",
    "listConference=[k for e in list_equipe for k,v in dicoConference.items()  if e in v] \n",
    "listNom=[v for k,v in dicoNom.items() for e in list_equipe if k==e] "
   ]
  },
  {
   "cell_type": "code",
   "execution_count": 44,
   "metadata": {},
   "outputs": [],
   "source": [
    "with ct.ConnexionBdd('basket','boulot') as c : \n",
    "    pd.DataFrame({'id_equipe':list_equipe,'nom_equipe': listNom,\n",
    "              'conference':listConference, 'division':listDivision}).to_sql(\n",
    "        'equipe', c.sqlAlchemyConn, schema='donnees_source', if_exists='append', index=False)"
   ]
  },
  {
   "cell_type": "markdown",
   "metadata": {},
   "source": [
    "# 3. Données de match\n",
    "Lecture et transfert des données du site vers la bdd"
   ]
  },
  {
   "cell_type": "code",
   "execution_count": null,
   "metadata": {},
   "outputs": [
    {
     "name": "stdout",
     "output_type": "stream",
     "text": [
      "2021-02-08\n",
      "0 https://www.nba.com/game/hou-vs-cha-0022000367/box-score#box-score\n",
      "1 https://www.nba.com/game/was-vs-chi-0022000368/box-score#box-score\n",
      "2 https://www.nba.com/game/tor-vs-mem-0022000369/box-score#box-score\n",
      "3 https://www.nba.com/game/min-vs-dal-0022000370/box-score#box-score\n",
      "4 https://www.nba.com/game/gsw-vs-sas-0022000371/box-score#box-score\n",
      "5 https://www.nba.com/game/cle-vs-phx-0022000372/box-score#box-score\n",
      "6 https://www.nba.com/game/mil-vs-den-0022000373/box-score#box-score\n",
      "7 https://www.nba.com/game/okc-vs-lal-0022000374/box-score#box-score\n",
      "2021-02-09\n",
      "0 https://www.nba.com/game/bkn-vs-det-0022000375/box-score#box-score\n",
      "1 https://www.nba.com/game/nyk-vs-mia-0022000376/box-score#box-score\n",
      "2 https://www.nba.com/game/hou-vs-nop-0022000377/box-score#box-score\n",
      "3 https://www.nba.com/game/gsw-vs-sas-0022000378/box-score#box-score\n",
      "4 https://www.nba.com/game/bos-vs-uta-0022000379/box-score#box-score\n",
      "5 https://www.nba.com/game/orl-vs-por-0022000380/box-score#box-score\n",
      "6 https://www.nba.com/game/phi-vs-sac-0022000381/box-score#box-score\n",
      "2021-02-10\n",
      "0 https://www.nba.com/game/tor-vs-was-0022000382/box-score#box-score\n",
      "1 https://www.nba.com/game/atl-vs-dal-0022000384/box-score#box-score\n",
      "2 https://www.nba.com/game/ind-vs-bkn-0022000383/box-score#box-score\n",
      "3 https://www.nba.com/game/cha-vs-mem-0022000386/box-score#box-score\n",
      "4 https://www.nba.com/game/lac-vs-min-0022000387/box-score#box-score\n",
      "5 https://www.nba.com/game/nop-vs-chi-0022000385/box-score#box-score\n",
      "6 https://www.nba.com/game/cle-vs-den-0022000388/box-score#box-score\n",
      "7 https://www.nba.com/game/mil-vs-phx-0022000389/box-score#box-score\n",
      "8 https://www.nba.com/game/okc-vs-lal-0022000390/box-score#box-score\n",
      "2021-02-11\n",
      "0 https://www.nba.com/game/mia-vs-hou-0022000392/box-score#box-score\n",
      "1 https://www.nba.com/game/tor-vs-bos-0022000398/box-score#box-score\n",
      "2 https://www.nba.com/game/ind-vs-det-0022000391/box-score#box-score\n",
      "3 https://www.nba.com/game/orl-vs-gsw-0022000393/box-score#box-score\n",
      "4 https://www.nba.com/game/phi-vs-por-0022000394/box-score#box-score\n",
      "2021-02-12\n"
     ]
    }
   ],
   "source": [
    "for j in [d.strftime('%Y-%m-%d') for d in pd.date_range(start='02/08/2021',periods=13)] : \n",
    "    print(j)\n",
    "    journee=JourneeBdd(j)\n",
    "    journee.creerAttributsGlobaux()\n",
    "    journee.exporterVersBdd()"
   ]
  },
  {
   "cell_type": "markdown",
   "metadata": {},
   "source": [
    "# 4. exemple de blessure\n",
    "le joueur Markelle Fultz s'est fait une rupture des ligaments croisé, exemple d'insertion dans la table blessure"
   ]
  },
  {
   "cell_type": "code",
   "execution_count": null,
   "metadata": {},
   "outputs": [],
   "source": [
    "nomJoueurBlesse='Markelle Fultz'\n",
    "idTypeBlessure=1\n",
    "dateBlessure='2021-06-01'\n",
    "requeteBlessure = f\"\"\"insert into donnees_source.blessure(id_joueur,id_type_blessure,date_blessure) \n",
    "             select id_joueur,{idTypeBlessure},{dateBlessure} from donnees_source.joueur where lower(nom)=lower{nomJoueurBlesse}\"\"\"\n",
    "with ct.ConnexionBdd('basket','maison') as c : \n",
    "    c.execute(c.sqlAlchemyConn,requeteBlessure)"
   ]
  },
  {
   "cell_type": "code",
   "execution_count": 46,
   "metadata": {},
   "outputs": [],
   "source": [
    "#dfsInjuries=Blessures().dfInjuries\n",
    "with ct.ConnexionBdd('basket','maison') as c : \n",
    "    #miseAJourBlessesBdd(dfsInjuries,c.sqlAlchemyConn)\n",
    "    #insererBlessesInconnusMatchBefore(dfsInjuries,c.sqlAlchemyConn)\n",
    "    insererBlessesInconnusPasMatchBefore(dfsInjuries,c.sqlAlchemyConn)"
   ]
  },
  {
   "cell_type": "code",
   "execution_count": null,
   "metadata": {},
   "outputs": [],
   "source": []
  }
 ],
 "metadata": {
  "kernelspec": {
   "display_name": "Python 3",
   "language": "python",
   "name": "python3"
  },
  "language_info": {
   "codemirror_mode": {
    "name": "ipython",
    "version": 3
   },
   "file_extension": ".py",
   "mimetype": "text/x-python",
   "name": "python",
   "nbconvert_exporter": "python",
   "pygments_lexer": "ipython3",
   "version": "3.8.6"
  }
 },
 "nbformat": 4,
 "nbformat_minor": 4
}
