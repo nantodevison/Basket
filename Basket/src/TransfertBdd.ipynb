{
 "cells": [
  {
   "cell_type": "markdown",
   "metadata": {},
   "source": [
    "# **Notebook de transfert des donnees du site nba.com depuis le site ou un fichier intermediaire**"
   ]
  },
  {
   "cell_type": "code",
   "execution_count": 7,
   "metadata": {},
   "outputs": [
    {
     "name": "stdout",
     "output_type": "stream",
     "text": [
      "The autoreload extension is already loaded. To reload it, use:\n",
      "  %reload_ext autoreload\n"
     ]
    }
   ],
   "source": [
    "%load_ext autoreload\n",
    "%autoreload 2\n",
    "import pandas as pd\n",
    "import sys, os, re #c'est pas propre mais pour le moment pour importer mes modules perso dans le notebook je ne sais pas faire\n",
    "sys.path.append(r'C:\\Users\\martin.schoreisz\\git\\Outils\\Outils\\Martin_Perso')\n",
    "import Connexion_Transfert as ct\n",
    "from selenium import webdriver\n",
    "from selenium.webdriver.common.by import By\n",
    "from selenium.webdriver.support.ui import WebDriverWait\n",
    "from selenium.webdriver.support import expected_conditions as EC\n",
    "from selenium.common.exceptions import NoSuchElementException,StaleElementReferenceException,TimeoutException, ElementClickInterceptedException\n",
    "from selenium.webdriver.support.ui import Select\n",
    "from datetime import datetime\n",
    "from TelechargementDonnees import JoueursSiteNba, CreationDriverFirefox"
   ]
  },
  {
   "cell_type": "markdown",
   "metadata": {},
   "source": [
    "# 1. Données de joueurs \n",
    "Il s'agit de transfere dans le cas des donnees de joueuer telechargees en amont, ou d'ajouter des joueurs non presents au moment d'insertion de match"
   ]
  },
  {
   "cell_type": "markdown",
   "metadata": {},
   "source": [
    ">## 1.1 Enumerations des types de position\n",
    "A creer a la main"
   ]
  },
  {
   "cell_type": "code",
   "execution_count": 10,
   "metadata": {},
   "outputs": [],
   "source": [
    "#creation de la classe\n",
    "pagejoueuer=JoueursSiteNba('USA')"
   ]
  },
  {
   "cell_type": "code",
   "execution_count": 21,
   "metadata": {},
   "outputs": [],
   "source": [
    "pagejoueuer.dfJoueurs.rename(columns={'Player':'nom','Position':'id_position_terrain','Height':'taille','Weight':'poids'},inplace=True)\n",
    "pagejoueuer.dfJoueurs['taille']=pagejoueuer.dfJoueurs.taille.str.split('-').apply(lambda x : round((int(x[0])/3.2808)+((int(x[1])/0.39370)/100),2))\n",
    "pagejoueuer.dfJoueurs['poids']=pagejoueuer.dfJoueurs.poids.str.split().apply(lambda x : round(int(x[0])/2.2046,1))\n",
    "pagejoueuer.dfJoueurs['nom_simple']=pagejoueuer.dfJoueurs.nom.apply(lambda x : re.sub(' |-|\\.|\\'','',x).lower())"
   ]
  },
  {
   "cell_type": "code",
   "execution_count": 22,
   "metadata": {},
   "outputs": [
    {
     "data": {
      "text/html": [
       "<div>\n",
       "<style scoped>\n",
       "    .dataframe tbody tr th:only-of-type {\n",
       "        vertical-align: middle;\n",
       "    }\n",
       "\n",
       "    .dataframe tbody tr th {\n",
       "        vertical-align: top;\n",
       "    }\n",
       "\n",
       "    .dataframe thead th {\n",
       "        text-align: right;\n",
       "    }\n",
       "</style>\n",
       "<table border=\"1\" class=\"dataframe\">\n",
       "  <thead>\n",
       "    <tr style=\"text-align: right;\">\n",
       "      <th></th>\n",
       "      <th>nom</th>\n",
       "      <th>Team</th>\n",
       "      <th>Number</th>\n",
       "      <th>id_position_terrain</th>\n",
       "      <th>taille</th>\n",
       "      <th>poids</th>\n",
       "      <th>Last Attended</th>\n",
       "      <th>Country</th>\n",
       "      <th>nom_simple</th>\n",
       "    </tr>\n",
       "  </thead>\n",
       "  <tbody>\n",
       "    <tr>\n",
       "      <th>0</th>\n",
       "      <td>PreciousAchiuwa</td>\n",
       "      <td>MIA</td>\n",
       "      <td>5</td>\n",
       "      <td>F</td>\n",
       "      <td>2.03</td>\n",
       "      <td>102.1</td>\n",
       "      <td>Memphis</td>\n",
       "      <td>Nigeria</td>\n",
       "      <td>preciousachiuwa</td>\n",
       "    </tr>\n",
       "    <tr>\n",
       "      <th>1</th>\n",
       "      <td>JaylenAdams</td>\n",
       "      <td>MIL</td>\n",
       "      <td>6</td>\n",
       "      <td>G</td>\n",
       "      <td>1.83</td>\n",
       "      <td>102.1</td>\n",
       "      <td>St. Bonaventure</td>\n",
       "      <td>USA</td>\n",
       "      <td>jaylenadams</td>\n",
       "    </tr>\n",
       "    <tr>\n",
       "      <th>2</th>\n",
       "      <td>StevenAdams</td>\n",
       "      <td>NOP</td>\n",
       "      <td>12</td>\n",
       "      <td>C</td>\n",
       "      <td>2.11</td>\n",
       "      <td>120.2</td>\n",
       "      <td>Pittsburgh</td>\n",
       "      <td>New Zealand</td>\n",
       "      <td>stevenadams</td>\n",
       "    </tr>\n",
       "    <tr>\n",
       "      <th>3</th>\n",
       "      <td>BamAdebayo</td>\n",
       "      <td>MIA</td>\n",
       "      <td>13</td>\n",
       "      <td>C-F</td>\n",
       "      <td>2.06</td>\n",
       "      <td>115.7</td>\n",
       "      <td>Kentucky</td>\n",
       "      <td>USA</td>\n",
       "      <td>bamadebayo</td>\n",
       "    </tr>\n",
       "    <tr>\n",
       "      <th>4</th>\n",
       "      <td>LaMarcusAldridge</td>\n",
       "      <td>SAS</td>\n",
       "      <td>12</td>\n",
       "      <td>C-F</td>\n",
       "      <td>2.11</td>\n",
       "      <td>113.4</td>\n",
       "      <td>Texas</td>\n",
       "      <td>USA</td>\n",
       "      <td>lamarcusaldridge</td>\n",
       "    </tr>\n",
       "    <tr>\n",
       "      <th>...</th>\n",
       "      <td>...</td>\n",
       "      <td>...</td>\n",
       "      <td>...</td>\n",
       "      <td>...</td>\n",
       "      <td>...</td>\n",
       "      <td>...</td>\n",
       "      <td>...</td>\n",
       "      <td>...</td>\n",
       "      <td>...</td>\n",
       "    </tr>\n",
       "    <tr>\n",
       "      <th>495</th>\n",
       "      <td>DelonWright</td>\n",
       "      <td>DET</td>\n",
       "      <td>55</td>\n",
       "      <td>G</td>\n",
       "      <td>1.96</td>\n",
       "      <td>83.9</td>\n",
       "      <td>Utah</td>\n",
       "      <td>USA</td>\n",
       "      <td>delonwright</td>\n",
       "    </tr>\n",
       "    <tr>\n",
       "      <th>496</th>\n",
       "      <td>ThaddeusYoung</td>\n",
       "      <td>CHI</td>\n",
       "      <td>21</td>\n",
       "      <td>F</td>\n",
       "      <td>2.03</td>\n",
       "      <td>106.6</td>\n",
       "      <td>Georgia Tech</td>\n",
       "      <td>USA</td>\n",
       "      <td>thaddeusyoung</td>\n",
       "    </tr>\n",
       "    <tr>\n",
       "      <th>497</th>\n",
       "      <td>TraeYoung</td>\n",
       "      <td>ATL</td>\n",
       "      <td>11</td>\n",
       "      <td>G</td>\n",
       "      <td>1.85</td>\n",
       "      <td>81.6</td>\n",
       "      <td>Oklahoma</td>\n",
       "      <td>USA</td>\n",
       "      <td>traeyoung</td>\n",
       "    </tr>\n",
       "    <tr>\n",
       "      <th>498</th>\n",
       "      <td>CodyZeller</td>\n",
       "      <td>CHA</td>\n",
       "      <td>40</td>\n",
       "      <td>F-C</td>\n",
       "      <td>2.11</td>\n",
       "      <td>108.9</td>\n",
       "      <td>Indiana</td>\n",
       "      <td>USA</td>\n",
       "      <td>codyzeller</td>\n",
       "    </tr>\n",
       "    <tr>\n",
       "      <th>499</th>\n",
       "      <td>IvicaZubac</td>\n",
       "      <td>LAC</td>\n",
       "      <td>40</td>\n",
       "      <td>C</td>\n",
       "      <td>2.13</td>\n",
       "      <td>108.9</td>\n",
       "      <td>Mega Basket</td>\n",
       "      <td>Croatia</td>\n",
       "      <td>ivicazubac</td>\n",
       "    </tr>\n",
       "  </tbody>\n",
       "</table>\n",
       "<p>500 rows × 9 columns</p>\n",
       "</div>"
      ],
      "text/plain": [
       "                  nom Team  Number id_position_terrain  taille  poids  \\\n",
       "0     PreciousAchiuwa  MIA       5                   F    2.03  102.1   \n",
       "1         JaylenAdams  MIL       6                   G    1.83  102.1   \n",
       "2         StevenAdams  NOP      12                   C    2.11  120.2   \n",
       "3          BamAdebayo  MIA      13                 C-F    2.06  115.7   \n",
       "4    LaMarcusAldridge  SAS      12                 C-F    2.11  113.4   \n",
       "..                ...  ...     ...                 ...     ...    ...   \n",
       "495       DelonWright  DET      55                   G    1.96   83.9   \n",
       "496     ThaddeusYoung  CHI      21                   F    2.03  106.6   \n",
       "497         TraeYoung  ATL      11                   G    1.85   81.6   \n",
       "498        CodyZeller  CHA      40                 F-C    2.11  108.9   \n",
       "499        IvicaZubac  LAC      40                   C    2.13  108.9   \n",
       "\n",
       "       Last Attended      Country        nom_simple  \n",
       "0            Memphis      Nigeria   preciousachiuwa  \n",
       "1    St. Bonaventure          USA       jaylenadams  \n",
       "2         Pittsburgh  New Zealand       stevenadams  \n",
       "3           Kentucky          USA        bamadebayo  \n",
       "4              Texas          USA  lamarcusaldridge  \n",
       "..               ...          ...               ...  \n",
       "495             Utah          USA       delonwright  \n",
       "496     Georgia Tech          USA     thaddeusyoung  \n",
       "497         Oklahoma          USA         traeyoung  \n",
       "498          Indiana          USA        codyzeller  \n",
       "499      Mega Basket      Croatia        ivicazubac  \n",
       "\n",
       "[500 rows x 9 columns]"
      ]
     },
     "execution_count": 22,
     "metadata": {},
     "output_type": "execute_result"
    }
   ],
   "source": [
    "pagejoueuer.dfJoueurs"
   ]
  },
  {
   "cell_type": "code",
   "execution_count": null,
   "metadata": {},
   "outputs": [],
   "source": [
    "with ct.ConnexionBdd('basket','maison') as c : \n",
    "    pd.DataFrame({'id_position_terrain':pagejoueuer.dfJoueurs.id_position_terrain.unique(), \n",
    "              'nom_position_terrain':['Forward ; 3 ; ailier', 'Guard ; 1 ou 2  ; meneur ou arriere', \n",
    "                                      'Center ; 5 ; Pivot' ,'Power Forward ; 4 ; ailier Fort', \n",
    "                                      'Shooting Guard ; 2 ; arriere', 'Shooting Guard ; 2 ; arriere',\n",
    "                                      'Power Forward ; 4 ; ailier Fort']}).to_sql(\n",
    "        'enum_position_terrain', c.sqlAlchemyConn, schema='donnees_source', if_exists='append', index=False)"
   ]
  },
  {
   "cell_type": "markdown",
   "metadata": {},
   "source": [
    "> ## 1.2 Donnees chargees depuis la page internet\n",
    "Là ce n'est que le premier import, on ne gère pas la mise à jour"
   ]
  },
  {
   "cell_type": "code",
   "execution_count": null,
   "metadata": {},
   "outputs": [],
   "source": [
    "#transfert dans la Bdd\n",
    "with ct.ConnexionBdd('basket','maison') as c : \n",
    "    pagejoueuer.dfJoueurs[['nom','id_position_terrain','taille', 'poids','date_entree_nba']].to_sql(\n",
    "        'joueur', c.sqlAlchemyConn, schema='donnees_source', if_exists='append', index=False)"
   ]
  },
  {
   "cell_type": "markdown",
   "metadata": {},
   "source": [
    "# 2. Données d'équipe\n",
    "On utilise les données de joueurs pour faire la liste des equipes, et on complete avec les divisions et conférence, puis on transfere"
   ]
  },
  {
   "cell_type": "code",
   "execution_count": null,
   "metadata": {},
   "outputs": [],
   "source": [
    "dicoDivision={'Central Division': ['MIL', 'CHI', 'IND', 'CLE', 'DET'],'Atlantic Division': ['BOS', 'BKN', 'NYK', 'TOR', \n",
    "'PHI'],'Southeast Division' : ['MIA', 'ORL', 'WAS', 'CHA', 'ATL'],'Southwest Division': ['SAS', 'HOU', 'DAL', 'NOP', \n",
    "'MEM'],'Northwest Division' : ['DEN', 'MIN', 'OKC', 'POR', 'UTA'],'Pacific Division' : ['LAC', 'LAL', 'PHX', 'GSW', 'SAC']}\n",
    "listDivision=[k for e in pagejoueuer.dfJoueurs.equipe.unique() for k,v in dicoDivision.items()  if e in v] "
   ]
  },
  {
   "cell_type": "code",
   "execution_count": null,
   "metadata": {},
   "outputs": [],
   "source": [
    "dicoConference={'Ouest' : ['SAS', 'HOU', 'DAL', 'NOP', 'MEM','DEN', 'MIN', 'OKC', 'POR', 'UTA','LAC', 'LAL', 'PHX', \n",
    "    'GSW', 'SAC'],'Est':['MIL', 'CHI', 'IND', 'CLE', 'DET','BOS', 'BKN', 'NYK', 'TOR', 'PHI','MIA', \n",
    "                         'ORL', 'WAS', 'CHA', 'ATL']}\n",
    "dicoNom={'MIA':'Miami Heat','MIL':'Milwaukee Bucks','NOP':'New-Orleans Pelicans','SAS':'San-Antonio Spurs',\n",
    "'PHX':'Phoenix','MEM':'Memphis Grizzlies',    'BKN':'Brooklyn Nets','ORL':'Orlando Magic','LAL':'LosAngeles Lakers','POR':'Portland TrailBlazzers','TOR':'Toronto Raptors','CHI':'Chicago Bulls',\n",
    "'OKC':'Oklahoma City Thunder','WAS':'Washington Wizards','UTA':'Utah Jazz','SAC':'Sacramento Kings','CHA':'Charlotte Hornets','NYK':'New-York Knicks','DEN':'Denver Nuggets',\n",
    "'LAC':'Los Angeles Clippers','GSW':'Golden State Warriors','MIN':'Minessota TimberWolves','DET':'Detroit Pistons','DAL':'Dallas Mavericks',\n",
    "'IND':'Indiana Pacers','ATL':'Atlanta Hawks','CLE':'Cleveland Cavaliers','PHI':'Philadelphia Sixers','BOS':'Boston Celtics','HOU':'Houston Rockets'}\n",
    "listConference=[k for e in pagejoueuer.dfJoueurs.equipe.unique() for k,v in dicoConference.items()  if e in v] \n",
    "listNom=[v for k,v in dicoNom.items() for e in pagejoueuer.dfJoueurs.equipe.unique() if k==e] "
   ]
  },
  {
   "cell_type": "code",
   "execution_count": null,
   "metadata": {},
   "outputs": [],
   "source": [
    "with ct.ConnexionBdd('basket','boulot') as c : \n",
    "    pd.DataFrame({'id_equipe':pagejoueuer.dfJoueurs.equipe.unique(),'nom_equipe': listNom,\n",
    "              'conference':listConference, 'division':listDivision}).to_sql(\n",
    "        'equipe', c.sqlAlchemyConn, schema='donnees_source', if_exists='append', index=False)"
   ]
  },
  {
   "cell_type": "markdown",
   "metadata": {},
   "source": [
    "# 3. Données de match\n",
    "Dans un premier temp on va lire les fichiers csv stcokés [ici](C:\\Users\\martin.schoreisz\\Documents\\AffairesEnCours\\temp\\basket)\n",
    "L'idée c'est d'avoir une classe match, qui va regrouper : \n",
    "- les df de matchs, statjoueur, stat\n",
    "- va falloir trier les joueuers qui n'ont pas joué avant de les basculer dans les stats joueur (attribut dnp)\n",
    "- va falloir trouver les joueurs non contenus dans la base des joueurs et les ajouter (nom à minima)\n",
    "- va falloir gérer les blessures  : \n",
    "> - les ajouter à la table blessure si elle ne sont pas déjà dedans\n",
    "> - noter comme apte les joueurs présents dans la table blessure, dont la date de guérison n'est pas connue"
   ]
  },
  {
   "cell_type": "code",
   "execution_count": null,
   "metadata": {},
   "outputs": [],
   "source": [
    "dossierBase=r'C:\\Users\\martin.schoreisz\\git\\Basket\\Basket\\data'"
   ]
  },
  {
   "cell_type": "code",
   "execution_count": null,
   "metadata": {},
   "outputs": [],
   "source": [
    "with ct.ConnexionBdd('basket','maison') as c:\n",
    "    for root, dossier, files in os.walk(dossierBase) : \n",
    "        for f in files :\n",
    "            id_type_match=0\n",
    "            id_saison=1\n",
    "            if 'equipe' in f and f.endswith('.csv'): \n",
    "                continue\n",
    "            elif 'equipe' not in f and f.endswith('.csv'):\n",
    "                #recuperer l'id_match : \n",
    "                idMatch=c.sqlAlchemyConn.execute(\"SELECT last_value FROM donnees_source.match_id_match_seq\").fetchone()[0] \n",
    "                #recuperer l'identifiant du match dans le dossier contenant les fichiers\n",
    "                groupe=f.split('_')[0][1:]\n",
    "                #recuperer la date du match\n",
    "                date=f.split('_')[1][:-4]\n",
    "                #lire le fichier csv du match, transformer pour remplir la table des matchs\n",
    "                dfMatchCsv=pd.read_csv(os.path.join(root,f)).rename(columns={'equipe':'id_equipe'})\n",
    "                equipeExt=dfMatchCsv.iloc[0].id_equipe\n",
    "                equipeDom=dfMatchCsv.iloc[1].id_equipe\n",
    "                dfMatchBdd=pd.DataFrame({'id_saison':[id_saison],\n",
    "                                      'date_match':[date], \n",
    "                                      'equipe_domicile':[equipeDom], \n",
    "                                      'equipe_exterieure':[equipeExt],\n",
    "                                      'id_type_match':[id_type_match],\n",
    "                                        'id_match':idMatch})\n",
    "                #melt la table csv pour remplir la table des scores de match\n",
    "                dfScoreMatch=dfMatchCsv.melt(id_vars=['id_equipe'], value_vars=['q1','q2','q3','q4','final'],\n",
    "                            var_name='id_periode', value_name='score_periode').sort_values('id_equipe')\n",
    "                dfScoreMatch['id_match']=idMatch\n",
    "                \n",
    "                #maintenant il faut lire les fichiers stats_equipe associés\n",
    "                for i in (0,1) :\n",
    "                    nomFichierEquipe=f'm{groupe}_equipe{i}_{date}.csv'\n",
    "                    dfStatsJoueursCsv=pd.read_csv(os.path.join(root,nomFichierEquipe))\n",
    "                    #le pb ça va etre de recuperer les id_joueurs, va falloir telecharger d'abords la table de correspondance\n",
    "                    #faire la jointure en amont et ensuite on bascule tout le monde\n",
    "                    dfJoueursBdd=pd.read_sql('select * from donnees_source.joueur',c.sqlAlchemyConn)\n",
    "                    dfJoueursTot=dfStatsJoueursCsv.merge(dfJoueursBdd, on='nom')\n",
    "\n",
    "                    #pensez à checker si tous les joueurs sont présents dans la base joueur, et les ajouter si ils n'y sont pas\n",
    "                    dfJoueurInconnus=dfStatsJoueursCsv.loc[~dfStatsJoueursCsv.nom.isin(dfJoueursBdd.nom.tolist())]\n",
    "                    if not dfJoueurInconnus.empty : \n",
    "                        dfJoueurInconnus=dfJoueurInconnus[['nom', 'position']]\n",
    "                        #basculer dans Bdd\n",
    "                        #dfJoueurInconnus.to_sql('joueur', c.sqlAlchemyConn, schema='donnees_source', if_exists='append', index=False)\n",
    "                        print(f\"Joueurs inconnus : {','.join(dfJoueurInconnus.nom.tolist())}\")\n",
    "\n",
    "                    #refaire un import et jointure au cas où des joueurs aient été ajoutés\n",
    "                    dfJoueursBddFinal=pd.read_sql('select * from donnees_source.joueur',c.sqlAlchemyConn)\n",
    "                    dfJoueursTot=dfStatsJoueursCsv.merge(dfJoueursBddFinal, on='nom')\n",
    "\n",
    "                    #checker si des joueurs sont notés blessé et ne sont pas déjà dans la base blessure\n",
    "                    dfJoueursBlesses=dfStatsJoueursCsv.loc[dfStatsJoueursCsv['blesse']]\n",
    "                    rqtBlessesEncours=\"\"\"select b.*,j.nom \n",
    "                                          from donnees_source.joueur j JOIN donnees_source.blessure b ON j.id_joueur=b.id_joueur \n",
    "                                          WHERE b.date_guerison IS NULL\"\"\"\n",
    "                    dfJoueursBlessesBdd=pd.read_sql(rqtBlessesEncours,c.sqlAlchemyConn)\n",
    "                    if not dfJoueursBlesses.empty : #si des joueurs blesses, verifier qu'ils ne sont pas déjà presents dans la base\n",
    "                        if dfJoueursBlesses.loc[~dfJoueursBlesses.nom.isin(dfJoueursBlessesBdd)] : \n",
    "                            dfJoueursBlesses.merge(dfJoueursBddFinal, on='nom')#pour récupérer l'id_joueur\n",
    "                            print(','.join(dfJoueursBlesses.nom.tolist()))\n",
    "                            #dfJoueursBlesses[['id_joueur']].assign(date_blessure=date).to_sql('blessure', c.sqlAlchemyConn, schema='donnees_source', if_exists='append', index=False)\n",
    "                    #checker si des joueurs ayant joué étaient noté blessé mais sont revenus\n",
    "\n",
    "\n",
    "                    #pensez à enlever du fichier source les joueurs n'ayant pas joué avant de creer la df des statsJoueur: \n",
    "                    dfStatsJoueursActifCsv=dfStatsJoueursCsv.loc[~dfStatsJoueursCsv['dnp']]\n",
    "\n",
    "                    #ensuite mettre en forme les stats de joueurs\n",
    "                    dfStatsJoueursBdd=dfJoueursTot[['minute', 'points', 'rebonds', 'passes_dec', 'steal',\n",
    "                       'contres', 'tir_reussi', 'tir_tentes', 'pct_tir', 'trois_pt_r',\n",
    "                       'trois_pt_t', 'pct_3_pt', 'lanc_frc_r', 'lanc_frc_t', 'pct_lfrc',\n",
    "                       'rebonds_o', 'rebonds_d', 'ball_perdu', 'faute_p', 'plus_moins', 'dnp',\n",
    "                       'blesse', 'score_ttfl', 'id_joueur']].copy()\n",
    "                    dfStatsJoueursBdd['id_match']=idMatch\n",
    "        else :\n",
    "            continue"
   ]
  },
  {
   "cell_type": "code",
   "execution_count": null,
   "metadata": {},
   "outputs": [],
   "source": [
    "dfJoueursBlessesBdd"
   ]
  },
  {
   "cell_type": "code",
   "execution_count": null,
   "metadata": {},
   "outputs": [],
   "source": [
    "dfJoueurInconnus=dfStatsJoueursActifCsv.loc[~dfStatsJoueursActifCsv.nom.isin(dfJoueursBdd.nom.tolist())]"
   ]
  },
  {
   "cell_type": "code",
   "execution_count": null,
   "metadata": {},
   "outputs": [],
   "source": [
    "dfJoueurInconnus"
   ]
  },
  {
   "cell_type": "markdown",
   "metadata": {},
   "source": [
    "# 4. exemple de blessure\n",
    "le joueur Markelle Fultz s'est fait une rupture des ligaments croisé, exemple d'insertion dans la table blessure"
   ]
  },
  {
   "cell_type": "code",
   "execution_count": null,
   "metadata": {},
   "outputs": [],
   "source": [
    "nomJoueurBlesse='Markelle Fultz'\n",
    "idTypeBlessure=1\n",
    "dateBlessure='2021-06-01'\n",
    "requeteBlessure = f\"\"\"insert into donnees_source.blessure(id_joueur,id_type_blessure,date_blessure) \n",
    "             select id_joueur,{idTypeBlessure},{dateBlessure} from donnees_source.joueur where lower(nom)=lower{nomJoueurBlesse}\"\"\"\n",
    "with ct.ConnexionBdd('basket','maison') as c : \n",
    "    c.execute(c.sqlAlchemyConn,requeteBlessure)"
   ]
  },
  {
   "cell_type": "markdown",
   "metadata": {},
   "source": [
    "# 5. exemple de contrat\n",
    "[page nba](https://www.nba.com/players/transactions)"
   ]
  },
  {
   "cell_type": "code",
   "execution_count": null,
   "metadata": {},
   "outputs": [],
   "source": []
  }
 ],
 "metadata": {
  "kernelspec": {
   "display_name": "Python 3",
   "language": "python",
   "name": "python3"
  },
  "language_info": {
   "codemirror_mode": {
    "name": "ipython",
    "version": 3
   },
   "file_extension": ".py",
   "mimetype": "text/x-python",
   "name": "python",
   "nbconvert_exporter": "python",
   "pygments_lexer": "ipython3",
   "version": "3.8.7"
  }
 },
 "nbformat": 4,
 "nbformat_minor": 4
}
